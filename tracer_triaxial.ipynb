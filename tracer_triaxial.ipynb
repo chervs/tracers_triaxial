{
 "cells": [
  {
   "cell_type": "code",
   "execution_count": 24,
   "metadata": {
    "scrolled": true
   },
   "outputs": [
    {
     "data": {
      "text/plain": [
       "\"\\nfilename='./halos/spherical_010'\\nf = open(filename,'rb')    \\nblocksize = np.fromfile(f,dtype=np.int32,count=1)[0]\\nprint(blocksize)\\nbytesleft=96\\nnpart=np.fromfile(f, dtype=np.int32, count=6)\\nmassarr = np.fromfile(f,dtype=np.float64,count=6)\\ntime = (np.fromfile(f,dtype=np.float64,count=1))[0]\\nredshift = (np.fromfile(f,dtype=np.float64,count=1))[0]\\nsfr=(np.fromfile(f,dtype=np.int32,count=1))[0]\\nfeedback = (np.fromfile(f,dtype=np.int32,count=1))[0]\\nnall = np.fromfile(f,dtype=np.int32,count=6)\\ncooling = (np.fromfile(f,dtype=np.int32,count=1))[0]\\nfilenum = (np.fromfile(f,dtype=np.int32,count=1))[0]\\nboxsize = (np.fromfile(f,dtype=np.float64,count=1))[0]\\nomega_m = (np.fromfile(f,dtype=np.float64,count=1))[0]\\nomega_l = (np.fromfile(f,dtype=np.float64,count=1))[0]\\nhubble = (np.fromfile(f,dtype=np.float64,count=1))[0]\\nheaderend = np.fromfile(f, dtype=np.int8, count=96)\\nblocksize = np.fromfile(f,dtype=np.int32,count=1)[0]\\n#print headerend\\n#print blocksize\\n#blocksize = np.fromfile(f,dtype=np.int32,count=1)[0]\\n#print blocksize, 'blocksize pp'\\n#ntot=np.int64(np.sum(npart))\\ndt = np.dtype((np.float32,3)) # type of entry for POS, VEL, ACCEL, etc.\\npp=np.fromfile(f, dtype=np.dtype(dt), count=np.sum(npart))\\n#print pp, np.size(pp)\\nblocksize = np.fromfile(f,dtype=np.uint32,count=1)[0]\\n#print blocksize, 'blocksize pp'\\n\\n\\n#blocksize = np.fromfile(f,dtype=np.uint32,count=1)[0]\\n#print blocksize, 'blocksize vv'\\nvv=np.fromfile(f, dtype=dt, count=np.sum(npart))\\nblocksize = np.fromfile(f,dtype=np.uint32,count=1)[0]\\n#print blocksize, 'blocksize vv'\\n\\n\\nblocksize = np.fromfile(f,dtype=np.uint32,count=1)[0]\\n#print blocksize, 'blocksize ids'\\nids=np.fromfile(f, dtype=np.uint32, count=np.sum(npart))\\n#print ids, 'ids'\\nblocksize = np.fromfile(f,dtype=np.uint32,count=1)[0]\\n#print blocksize, 'blocksize ids'\\n\""
      ]
     },
     "execution_count": 24,
     "metadata": {},
     "output_type": "execute_result"
    }
   ],
   "source": [
    "import numpy as np\n",
    "import matplotlib.pyplot as plt\n",
    "import sys\n",
    "from soda import profiles\n",
    "import matplotlib\n",
    "\n",
    "\n",
    "\n",
    "%matplotlib inline\n",
    "from pygadgetreader import readsnap\n",
    "\n",
    "font = {'size':20, 'family':'serif'}\n",
    "matplotlib.rc('font', **font)\n",
    "\n",
    "\n",
    "def weight_triaxial(r, Ek, Ep, partID, m, bsize, N_Eb, stellar_mass):\n",
    "    G = 4.30071e-6\n",
    "    stellar_mass=stellar_mass*1e10\n",
    "    Ep=Ep-G*m*np.size(r)/np.max(r) #correction term \n",
    "    E=Ek+Ep\n",
    "\n",
    "    shift_energy = -np.min(Ep)\n",
    "    E += shift_energy\n",
    "    Ep += shift_energy\n",
    "    \n",
    "    #I chose 300 because this code was initially used for cosmological halos which were way too messed up beyond 300 kpc  \n",
    "    w=np.where((r <300) & (r!=r[0])) \n",
    "    r=r[w]\n",
    "    Ep=Ep[w]\n",
    "    Ek=Ek[w]\n",
    "    E=E[w]\n",
    "    partID=partID[w]\n",
    "    \n",
    "    # Histogram of radius to smooth the potential Phi(r)\n",
    "    #  - spherical averaging for triaxial halos for Laporte 2013\n",
    "    #\n",
    "    MIN,MAX = np.min(np.log10(r)), np.max(np.log10(r))\n",
    "    Nbins= (MAX-MIN)/bsize    \n",
    "    histo_rad,redges=np.histogram(np.log10(r), bins = np.linspace(MIN, MAX, Nbins))\n",
    "    rbins=np.ndarray(shape=np.size(redges)-1, dtype=float)    \n",
    "    for i in range(1,np.size(redges)):\n",
    "        rbins[i-1]=redges[i-1]-(redges[i]-redges[i-1])/2.\n",
    "    rbins=10**rbins    \n",
    "    nn=np.size(rbins)\n",
    "    binsize_r=np.ndarray(shape=nn, dtype=float)   \n",
    "    #     binsize_r is evaluated here for g(E) calculation\n",
    "    for j in range(0,nn): \n",
    "        binsize_r[j]=10**redges[j+1]-10**redges[j]\n",
    "\n",
    "    #TRACER PARAMETRISATION\n",
    "    bb=0.5 #scale radius\n",
    "    nu_tracer=(3.0/(4.0*np.pi*bb**3))*(1.0+(rbins/bb)**2)**(-2.5) # PLUMMER\n",
    "    #nu_tracer=stellar_density(stellar_mass, params)\n",
    "    \n",
    "    #Need to do the reverse indices here - \n",
    "    pot2=np.ndarray(shape=np.size(histo_rad), dtype=float)\n",
    "    for j in range(0, np.size(redges)-1):\n",
    "        wbin=np.where((np.log10(r)>=redges[j]) & (np.log10(r)<redges[j+1]))\n",
    "        if(np.size(wbin)>0):\n",
    "            pot2[j]=np.mean(Ep[wbin]) #reverse indices in IDL is much faster than this junk\n",
    "    \n",
    "    # forgot why I wanted more than 20 particles in the bins, maybe sth to do with gradient not working with missing data\n",
    "    w=np.where(histo_rad>20.)\n",
    "    rbins=rbins[w]\n",
    "    binsize_r=binsize_r[w]\n",
    "    nu_tracer=nu_tracer[w]\n",
    "    pot2=pot2[w]\n",
    "    pot2-=shift_energy\n",
    "    psi2=(-1.0)*pot2\n",
    "    E-=shift_energy\n",
    "    epsilon=(-1.0)*E   \n",
    "    \n",
    "    \n",
    "\n",
    "    #Fetching derivatives from the data necessary for the Eddington formula evalution\n",
    "    dnu_dpsi=np.gradient(nu_tracer, psi2)\n",
    "    dnu2_dpsi2=np.gradient(dnu_dpsi, psi2)\n",
    "    \n",
    "    #Binning Energy for g(E) and f(E) (f(epsilon)) calculations                                \n",
    "    Histo_E, Edges = np.histogram(E, bins=N_Eb)\n",
    "    Ebins=np.ndarray(shape=np.size(Histo_E), dtype=float)\n",
    "    for i in range(1,np.size(Edges)):\n",
    "        Ebins[i-1]=Edges[i-1]-(Edges[i]-Edges[i-1])/2.\n",
    "        \n",
    "    Histo_epsilon, epsdges = np.histogram(epsilon, bins=N_Eb)\n",
    "    epsilon_bins=np.ndarray(shape=np.size(Histo_epsilon), dtype=float)\n",
    "    for i in range(1,np.size(epsdges)):\n",
    "        epsilon_bins[i-1]=epsdges[i-1]-(epsdges[i]-epsdges[i-1])/2.\n",
    "\n",
    "    #Total N(E) differential energy distribution\n",
    "    Histo_M=Histo_E*m/np.sqrt((Ebins[2]-Ebins[1])**2) \n",
    "    \n",
    "\n",
    "    # EDDINGTON FORMULA --------------\n",
    "    dpsi=np.ndarray(shape=np.size(psi2), dtype=float)\n",
    "    for i in range (1, np.size(dpsi)):\n",
    "        dpsi[i]=psi2[i]-psi2[i-1]\n",
    "    distribution_function=np.ndarray(shape=np.size(epsilon_bins), dtype=float)\n",
    "    for i in range(0,np.size(epsilon_bins)):\n",
    "        w=np.where(psi2<epsilon_bins[i])\n",
    "        #x=np.min(w) #i don't think I use this anywhere\n",
    "        eps=epsilon_bins[i]\n",
    "        if (np.size(w[0])!=0):\n",
    "            w=np.array(w)\n",
    "            tot1=dpsi[w[0,0]::]\n",
    "            tot2=dnu2_dpsi2[w[0,0]::]\n",
    "            tot3=np.sqrt(2.0*(eps-psi2[w[0,0]::]))\n",
    "            tot=tot1*tot2/tot3\n",
    "            val=(1.0)/(np.sqrt(8.0)*np.pi**2)*np.sum(tot) #Arthur's eval as Sum (in sims no divergence due to res)\n",
    "            #print val, i, \"val, i\"\n",
    "            distribution_function[i]=val\n",
    "        else:\n",
    "            distribution_function[i]=0\n",
    "            \n",
    "    \n",
    "    #DENSITY OF STATES--------------\n",
    "    wrme=np.ndarray(shape=np.size(Ebins), dtype=int)\n",
    "    rme=np.ndarray(shape=np.size(Ebins), dtype=float)\n",
    "    for i in range(0, np.size(Ebins)): \n",
    "        wpot_equals_E=np.where(pot2<=Ebins[i]) \n",
    "        if (np.size(wpot_equals_E)!=0):\n",
    "            wrme[i]=np.max(np.array(wpot_equals_E))\n",
    "        else:\n",
    "            wrme[i]=0\n",
    "            \n",
    "    density_of_states=np.ndarray(shape=np.size(Ebins), dtype=float) # density of states integral (evaluated as sum)\n",
    "    for i in range(0,np.size(Ebins)):\n",
    "        if (np.size(wrme[i])==0):\n",
    "            g1=0.0 \n",
    "        else:\n",
    "            g1=rbins[0:wrme[i]]**2\n",
    "            g2=np.sqrt(2.0*(Ebins[i]-pot2[0:wrme[i]]))\n",
    "            density_of_states[i]=(4.0*np.pi)**2*np.sum(binsize_r[0:wrme[i]]*g1*g2)\n",
    "                                                  \n",
    "    \n",
    "    indsort=np.argsort(distribution_function) #sorted indices\n",
    "    indsort=indsort[::-1] #reverse   \n",
    "    # weights= D.F(tracers)/ (D.F.(self-consistent)) - self-consistent D.F. f(E) generates the potential Phi \n",
    "    # N(E)=f(E)*g(E)\n",
    "    Weights=distribution_function[indsort[::-1]]/((Histo_M)/density_of_states) \n",
    "    plt.plot(Histo_M)\n",
    "    # cast the weights to every particle\n",
    "    Weights_array=np.ndarray(shape=np.size(r), dtype=float) \n",
    "    for j in range(0, np.size(Edges)-1):\n",
    "        wbin=np.where((E>=Edges[j]) & (E<Edges[j+1]))\n",
    "        if(np.size(wbin[0])!=0):\n",
    "            Weights_array[wbin]=Weights[j] \n",
    "    \n",
    "    #Ensure that the sum of the weights = mass of the tracers - this is not strictly needed\n",
    "    X=stellar_mass/(np.sum(Weights_array)*m)\n",
    "    Weights_array=Weights_array*X\n",
    "    print(X)\n",
    "    #print(np.size(Weights_array))\n",
    "    #return the IDS from which the weights are associated to the particles\n",
    "    #needed for tracking where the tracers end up in subsequent snapshots\n",
    "    return {'weights':Weights_array, 'ids':partID} \n",
    "\n",
    "\n",
    "\n",
    "# TESTING STUFF - used a Hernquist profile with scale radius a=0.5kpc and M=1*1e10 as input - was able to confirm\n",
    "# the density profile through the calculation of weights for a tracer following the self-consistent solution.\n",
    "\n",
    "def potential_hernquist(r,M,a):\n",
    "    G = 4.30071e-6\n",
    "    pot=-G*M/(r+a)\n",
    "    return pot\n",
    "\n",
    "\"\"\"\n",
    "filename='./halos/spherical_010'\n",
    "f = open(filename,'rb')    \n",
    "blocksize = np.fromfile(f,dtype=np.int32,count=1)[0]\n",
    "print(blocksize)\n",
    "bytesleft=96\n",
    "npart=np.fromfile(f, dtype=np.int32, count=6)\n",
    "massarr = np.fromfile(f,dtype=np.float64,count=6)\n",
    "time = (np.fromfile(f,dtype=np.float64,count=1))[0]\n",
    "redshift = (np.fromfile(f,dtype=np.float64,count=1))[0]\n",
    "sfr=(np.fromfile(f,dtype=np.int32,count=1))[0]\n",
    "feedback = (np.fromfile(f,dtype=np.int32,count=1))[0]\n",
    "nall = np.fromfile(f,dtype=np.int32,count=6)\n",
    "cooling = (np.fromfile(f,dtype=np.int32,count=1))[0]\n",
    "filenum = (np.fromfile(f,dtype=np.int32,count=1))[0]\n",
    "boxsize = (np.fromfile(f,dtype=np.float64,count=1))[0]\n",
    "omega_m = (np.fromfile(f,dtype=np.float64,count=1))[0]\n",
    "omega_l = (np.fromfile(f,dtype=np.float64,count=1))[0]\n",
    "hubble = (np.fromfile(f,dtype=np.float64,count=1))[0]\n",
    "headerend = np.fromfile(f, dtype=np.int8, count=96)\n",
    "blocksize = np.fromfile(f,dtype=np.int32,count=1)[0]\n",
    "#print headerend\n",
    "#print blocksize\n",
    "#blocksize = np.fromfile(f,dtype=np.int32,count=1)[0]\n",
    "#print blocksize, 'blocksize pp'\n",
    "#ntot=np.int64(np.sum(npart))\n",
    "dt = np.dtype((np.float32,3)) # type of entry for POS, VEL, ACCEL, etc.\n",
    "pp=np.fromfile(f, dtype=np.dtype(dt), count=np.sum(npart))\n",
    "#print pp, np.size(pp)\n",
    "blocksize = np.fromfile(f,dtype=np.uint32,count=1)[0]\n",
    "#print blocksize, 'blocksize pp'\n",
    "\n",
    "\n",
    "#blocksize = np.fromfile(f,dtype=np.uint32,count=1)[0]\n",
    "#print blocksize, 'blocksize vv'\n",
    "vv=np.fromfile(f, dtype=dt, count=np.sum(npart))\n",
    "blocksize = np.fromfile(f,dtype=np.uint32,count=1)[0]\n",
    "#print blocksize, 'blocksize vv'\n",
    "\n",
    "\n",
    "blocksize = np.fromfile(f,dtype=np.uint32,count=1)[0]\n",
    "#print blocksize, 'blocksize ids'\n",
    "ids=np.fromfile(f, dtype=np.uint32, count=np.sum(npart))\n",
    "#print ids, 'ids'\n",
    "blocksize = np.fromfile(f,dtype=np.uint32,count=1)[0]\n",
    "#print blocksize, 'blocksize ids'\n",
    "\"\"\"\n",
    "\n",
    "\n"
   ]
  },
  {
   "cell_type": "code",
   "execution_count": 25,
   "metadata": {},
   "outputs": [
    {
     "name": "stdout",
     "output_type": "stream",
     "text": [
      "Returning DM    Positions\n",
      "Returning DM    Velocities\n",
      "Returning DM    Mass\n",
      "Returning DM    Potential\n",
      "Returning DM    Particle IDs\n"
     ]
    }
   ],
   "source": [
    "pp= readsnap('./halos/LMC1_97K_vir_000', 'pos', 'dm')\n",
    "vv= readsnap('./halos/LMC1_97K_vir_000', 'vel', 'dm')\n",
    "\n",
    "massarr= readsnap('./halos/LMC1_97K_vir_000', 'mass', 'dm')\n",
    "Epp = readsnap('./halos/LMC1_97K_vir_000', 'pot', 'dm')\n",
    "ids = readsnap('./halos/LMC1_97K_vir_000', 'pid', 'dm')\n",
    "rr=np.sqrt(pp[:,0]**2+pp[:,1]**2+pp[:,2]**2)\n",
    "\n",
    "\n",
    "r_cut = index = np.where(rr<100)[0]\n",
    "\n",
    "pp = pp[r_cut]\n",
    "rr = rr[r_cut]\n",
    "vv = vv[r_cut]\n",
    "\n",
    "massarr = massarr[r_cut]\n",
    "Epp = Epp[r_cut]\n",
    "ids = ids[r_cut]"
   ]
  },
  {
   "cell_type": "code",
   "execution_count": 26,
   "metadata": {},
   "outputs": [
    {
     "name": "stderr",
     "output_type": "stream",
     "text": [
      "/usr/local/lib/python3.5/dist-packages/ipykernel_launcher.py:39: DeprecationWarning: object of type <class 'numpy.float64'> cannot be safely interpreted as an integer.\n",
      "/usr/local/lib/python3.5/dist-packages/ipykernel_launcher.py:140: RuntimeWarning: divide by zero encountered in true_divide\n"
     ]
    },
    {
     "name": "stdout",
     "output_type": "stream",
     "text": [
      "1.42904958678\n"
     ]
    },
    {
     "data": {
      "image/png": "[encoded data removed]",
      "text/plain": [
       "<matplotlib.figure.Figure at 0x7fed76740748>"
      ]
     },
     "metadata": {},
     "output_type": "display_data"
    }
   ],
   "source": [
    "#rr=np.sqrt(pp[:,0]**2+pp[:,1]**2+pp[:,2]**2)\n",
    "partmass=massarr[3]*1e10 #generated the halo particles as \"bulge\"-type in Gadget file\n",
    "a=0.5\n",
    "v2=vv[:,0]**2+vv[:,1]**2+vv[:,2]**2\n",
    "Ekk=0.5*v2\n",
    "\n",
    "result=weight_triaxial(rr,Ekk,Epp,ids, partmass,0.1,100,1)\n",
    "ids=result['ids']\n",
    "weights=result['weights']\n"
   ]
  },
  {
   "cell_type": "code",
   "execution_count": 14,
   "metadata": {},
   "outputs": [
    {
     "data": {
      "text/plain": [
       "32348.266544779173"
      ]
     },
     "execution_count": 14,
     "metadata": {},
     "output_type": "execute_result"
    }
   ],
   "source": [
    "np.sum(weights)"
   ]
  },
  {
   "cell_type": "code",
   "execution_count": 30,
   "metadata": {},
   "outputs": [
    {
     "data": {
      "text/plain": [
       "32348.266544779177"
      ]
     },
     "execution_count": 30,
     "metadata": {},
     "output_type": "execute_result"
    }
   ],
   "source": [
    "1E10/partmass"
   ]
  },
  {
   "cell_type": "code",
   "execution_count": 31,
   "metadata": {},
   "outputs": [
    {
     "name": "stdout",
     "output_type": "stream",
     "text": [
      "0\n",
      "1046410348.45\n",
      "309135.575662\n"
     ]
    },
    {
     "data": {
      "text/plain": [
       "[<matplotlib.lines.Line2D at 0x7f3ac8646550>]"
      ]
     },
     "execution_count": 31,
     "metadata": {},
     "output_type": "execute_result"
    },
    {
     "data": {
      "image/png": "[encoded data removed]",
      "text/plain": [
       "<matplotlib.figure.Figure at 0x7f3ac297eb00>"
      ]
     },
     "metadata": {},
     "output_type": "display_data"
    }
   ],
   "source": [
    "s=np.argsort(ids)\n",
    "weights=weights[s]\n",
    "w=np.where(ids>1)\n",
    "rr=rr[w]\n",
    "\n",
    "h,redges=np.histogram(rr, bins=1000)\n",
    "rbins=np.ndarray(shape=np.size(redges)-1, dtype=float)    \n",
    "for i in range(1,np.size(redges)):\n",
    "    rbins[i-1]=redges[i-1]-(redges[i]-redges[i-1])/2.\n",
    "\n",
    "c=0\n",
    "mass=np.ndarray(shape=np.size(h), dtype=float)    \n",
    "for i in range(0,np.size(h)):\n",
    "    wbin=np.where((rr>=redges[i]) & (rr<redges[i+1]))\n",
    "    if(np.size(wbin)>0):\n",
    "        mass[i]=np.sum(weights[wbin])*1E10/partmass #reverse indices in IDL is much faster than this junk\n",
    "    else:\n",
    "        c+1\n",
    "        mass[i]=0.0\n",
    "print(c)\n",
    "        \n",
    "masst=np.ndarray(shape=np.size(h), dtype=float)    \n",
    "masst=h*partmass\n",
    "\n",
    "print(sum(weights)*1E10/partmass)\n",
    "print(partmass)\n",
    "        \n",
    "        \n",
    "#print np.sum(mass)\n",
    "\n",
    "shell=np.ndarray(shape=np.size(h), dtype=float)\n",
    "for i in range(0, np.size(redges)-1):\n",
    "    shell[i]=4./3.*np.pi*(redges[i+1]**3-redges[i]**3)\n",
    "\n",
    "density=mass/shell\n",
    "\n",
    "densityt=masst/shell\n",
    "\n",
    "\n",
    "\n",
    "plt.loglog((rbins),(density))\n",
    "\n",
    "plt.loglog((rbins),(densityt))\n",
    "\n",
    "# seems rather noisy at large radii for the reconstructed tracer density profile\n",
    "#\n",
    "# can be solved with proper interpolation scheme when deriving values for dnu-dpsi d2nu_dpsi2 or maybe some better type of binning...\n",
    "\n"
   ]
  },
  {
   "cell_type": "code",
   "execution_count": null,
   "metadata": {
    "collapsed": true
   },
   "outputs": [],
   "source": []
  }
 ],
 "metadata": {
  "anaconda-cloud": {},
  "kernelspec": {
   "display_name": "Python 3",
   "language": "python",
   "name": "python3"
  },
  "language_info": {
   "codemirror_mode": {
    "name": "ipython",
    "version": 3
   },
   "file_extension": ".py",
   "mimetype": "text/x-python",
   "name": "python",
   "nbconvert_exporter": "python",
   "pygments_lexer": "ipython3",
   "version": "3.5.2"
  }
 },
 "nbformat": 4,
 "nbformat_minor": 2
}
