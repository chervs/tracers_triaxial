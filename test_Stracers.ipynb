{
 "cells": [
  {
   "cell_type": "code",
   "execution_count": 1,
   "metadata": {
    "collapsed": false
   },
   "outputs": [
    {
     "name": "stderr",
     "output_type": "stream",
     "text": [
      "/usr/local/lib/python3.4/dist-packages/matplotlib/__init__.py:841: UserWarning: Found matplotlib configuration in ~/.matplotlib/. To conform with the XDG base directory standard, this configuration location has been deprecated on Linux, and the new location is now /home/ngaravito/.config/matplotlib/. Please move your configuration there to ensure that matplotlib will continue to find it in the future.\n",
      "  _get_xdg_config_dir())\n"
     ]
    },
    {
     "name": "stdout",
     "output_type": "stream",
     "text": [
      "Populating the interactive namespace from numpy and matplotlib\n"
     ]
    }
   ],
   "source": [
    "%pylab inline\n",
    "import Stracers as st\n",
    "import sys\n",
    "sys.path.append('../MW_anisotropy/code/')\n",
    "sys.path.append('../MW_anisotropy/code/densities/')\n",
    "\n",
    "import density_tools\n",
    "import reading_snapshots\n",
    "from pygadgetreader import *\n",
    "\n"
   ]
  },
  {
   "cell_type": "code",
   "execution_count": 2,
   "metadata": {
    "collapsed": true
   },
   "outputs": [],
   "source": [
    "def rho_enclosed(r_posh, rmin, rmax, nbins, mass):\n",
    "    r = np.linspace(rmin, rmax, nbins-1)\n",
    "    rho = np.zeros(nbins-1)\n",
    "\n",
    "    # Loop over the radial bins.\n",
    "    for i in range(1, len(r)):\n",
    "        indexh = np.where((r_posh<r[i]) & (r_posh>r[i-1]))[0]\n",
    "\n",
    "        rho[i-1] = (3*(np.sum(mass[indexh]))) / (4*np.pi*(r[i]**3-r[i-1]**3))\n",
    "\n",
    "    return r, rho"
   ]
  },
  {
   "cell_type": "code",
   "execution_count": 3,
   "metadata": {
    "collapsed": true
   },
   "outputs": [],
   "source": [
    "def all_host_particles(xyz, vxyz, pids, pot, mass, N_host_particles):\n",
    "    \"\"\"\n",
    "    Function that return the host and the sat particles\n",
    "    positions and velocities.\n",
    "\n",
    "    Parameters:\n",
    "    -----------\n",
    "    xyz: snapshot coordinates with shape (n,3)\n",
    "    vxys: snapshot velocities with shape (n,3)\n",
    "    pids: particles ids\n",
    "    Nhost_particles: Number of host particles in the snapshot\n",
    "    Returns:\n",
    "    --------\n",
    "    xyz_mw, vxyz_mw, xyzlmc, vxyz_lmc: coordinates and velocities of\n",
    "    the host and the sat.\n",
    "\n",
    "    \"\"\"\n",
    "    sort_indexes = np.sort(pids)\n",
    "    N_cut = sort_indexes[N_host_particles]\n",
    "    host_ids = np.where(pids<N_cut)[0]\n",
    "    return xyz[host_ids], vxyz[host_ids], pids[host_ids], pot[host_ids], mass[host_ids]"
   ]
  },
  {
   "cell_type": "code",
   "execution_count": 4,
   "metadata": {
    "collapsed": true
   },
   "outputs": [],
   "source": [
    "def Stellar_properties(ids_weights, weights, ids, mass, pos, vel):\n",
    "    assert len(ids_weights)<= len(ids), 'Error: length of weights ids is larger than lenght of ids!'\n",
    "    \n",
    "    common_ids = np.isin(ids, ids_weights)\n",
    "    # selecting elements that are common in weight_ids and ids:\n",
    "    ids_n = ids[common_ids]\n",
    "    mass_n = mass[common_ids]\n",
    "    pos_n = pos[common_ids]\n",
    "    vel_n = vel[common_ids]\n",
    "    print(len(ids), len(ids_n))\n",
    "    assert len(ids_n) == len(ids_weights), 'Same number of particles'\n",
    "    # Sorting ids:\n",
    "    ids_w_arg_sort = np.argsort(ids_weights)\n",
    "    ids_arg_sort = np.argsort(ids_n)\n",
    "    print(len(ids_n), len(ids_weights))\n",
    "    print(len(ids_w_arg_sort), len(ids_arg_sort))\n",
    "    \n",
    "    comp_items = ids_weights[ids_w_arg_sort]==ids_n[ids_arg_sort]\n",
    "    false_ind = np.where(comp_items==False)[0]\n",
    "    \n",
    "    print(len(false_ind))\n",
    "    \n",
    "    assert (len(false_ind)==0), 'Error: Hey!'\n",
    "    \n",
    "    # Sorting ids and properties\n",
    "    weights_n = weights[ids_w_arg_sort]\n",
    "    ids_weights_n = ids_weights[ids_w_arg_sort]\n",
    "    \n",
    "    # Sorting future properties\n",
    "    ids_n = ids_n[ids_arg_sort]\n",
    "    mass_n = mass_n[ids_arg_sort]*weights_n\n",
    "    posx = pos_n[ids_arg_sort,0]\n",
    "    posy = pos_n[ids_arg_sort,1]\n",
    "    posz = pos_n[ids_arg_sort,2]\n",
    "\n",
    "    velx = vel_n[ids_arg_sort,0]*weights_n\n",
    "    vely = vel_n[ids_arg_sort,1]*weights_n\n",
    "    velz = vel_n[ids_arg_sort,2]*weights_n\n",
    "    \n",
    "    all_pos = np.array([posx, posy, posz]).T\n",
    "    all_vel = np.array([velx, vely, velz]).T\n",
    "        \n",
    "    return [ids_weights_n, weights_n, ids_n], mass_n, all_pos, all_vel"
   ]
  },
  {
   "cell_type": "code",
   "execution_count": 16,
   "metadata": {
    "collapsed": true
   },
   "outputs": [],
   "source": [
    "def energies(snap, rcut=0, LMC=0):\n",
    "\n",
    "    MW_pos = readsnap(snap, 'pos', 'dm')\n",
    "    MW_vel = readsnap(snap, 'vel', 'dm')\n",
    "    MW_mass = readsnap(snap, 'mass', 'dm')\n",
    "    MW_pot = readsnap(snap, 'pot', 'dm')\n",
    "    MW_ids = readsnap(snap, 'pid', 'dm')\n",
    "\n",
    "    \n",
    "    # Selecting MW particles\n",
    "    if LMC==1:\n",
    "        N_host_particles = 100000000\n",
    "        MW_pos, MW_vel, MW_ids, MW_pot, MW_mass = all_host_particles(pp, vv, ids, Epp, massarr, N_host_particles)\n",
    "        assert len(MW_ids)==N_host_particles, 'Error: something went wrong selecting the host particles'\n",
    "    \n",
    "    \n",
    "    rr=np.sqrt(MW_pos[:,0]**2+MW_pos[:,1]**2+MW_pos[:,2]**2)\n",
    "    \n",
    "    \n",
    "    if rcut>0:\n",
    "        r_cut = np.where((rr<rcut))[0]\n",
    "\n",
    "        rr = rr[r_cut]\n",
    "        MW_pos = MW_pos[r_cut]\n",
    "        MW_vel = MW_vel[r_cut]\n",
    "        MW_mass = MW_mass[r_cut]\n",
    "        MW_pot = MW_pot[r_cut]\n",
    "        MW_ids = MW_ids[r_cut]\n",
    "\n",
    "    v2=MW_vel[:,0]**2+MW_vel[:,1]**2+MW_vel[:,2]**2\n",
    "    Ekk=0.5*v2\n",
    "    \n",
    "    return rr, Ekk, MW_pot, MW_ids, MW_mass, MW_pos, MW_vel\n"
   ]
  },
  {
   "cell_type": "code",
   "execution_count": 17,
   "metadata": {
    "collapsed": false
   },
   "outputs": [
    {
     "name": "stdout",
     "output_type": "stream",
     "text": [
      "Returning DM    Positions\n",
      "Returning DM    Velocities\n",
      "Returning DM    Mass\n",
      "Returning DM    Potential\n",
      "Returning DM    Particle IDs\n"
     ]
    }
   ],
   "source": [
    "rr_init, Ekk_init, Epp_init, ids_init, massarr_init, mw_pos, mw_vel = energies('../MW_anisotropy/code/test_snaps/MW2_100M_beta0_vir_020'\n",
    "                                                                              ,rcut=300)"
   ]
  },
  {
   "cell_type": "code",
   "execution_count": 18,
   "metadata": {
    "collapsed": false,
    "scrolled": true
   },
   "outputs": [
    {
     "name": "stdout",
     "output_type": "stream",
     "text": [
      "Returning DM    Positions\n",
      "Returning DM    Velocities\n",
      "Returning DM    Mass\n",
      "Returning DM    Potential\n",
      "Returning DM    Particle IDs\n"
     ]
    }
   ],
   "source": [
    "rr_fut, Ekk_fut, Epp_fut, ids_fut, massarr_fut, mw_pos_f, mw_vel_f = energies('../MW_anisotropy/code/test_snaps/MW2_100M_beta0_vir_040')"
   ]
  },
  {
   "cell_type": "code",
   "execution_count": null,
   "metadata": {
    "collapsed": false
   },
   "outputs": [],
   "source": [
    "wh, w_ids_h = st.weight_triaxial(rr_init, Ekk_init, Epp_init, ids_init, massarr_init[3],\n",
    "                                 0.01, 100, 1, 'Hernquist', [25])"
   ]
  },
  {
   "cell_type": "code",
   "execution_count": 10,
   "metadata": {
    "collapsed": false
   },
   "outputs": [
    {
     "name": "stdout",
     "output_type": "stream",
     "text": [
      "77660043 77660043\n",
      "77660043 77660043\n",
      "77660043 77660043\n",
      "0\n"
     ]
    }
   ],
   "source": [
    "# # stellar properties at the begining:\n",
    "ST_init  = Stellar_properties(w_ids_h, wh, ids_init, massarr_init, mw_pos, mw_vel)"
   ]
  },
  {
   "cell_type": "code",
   "execution_count": 12,
   "metadata": {
    "collapsed": false
   },
   "outputs": [
    {
     "ename": "NameError",
     "evalue": "name 'ids_fut' is not defined",
     "output_type": "error",
     "traceback": [
      "\u001b[0;31m---------------------------------------------------------------------------\u001b[0m",
      "\u001b[0;31mNameError\u001b[0m                                 Traceback (most recent call last)",
      "\u001b[0;32m<ipython-input-12-179f9f02e066>\u001b[0m in \u001b[0;36m<module>\u001b[0;34m()\u001b[0m\n\u001b[1;32m      1\u001b[0m \u001b[0;31m# stellar properties at the present time:\u001b[0m\u001b[0;34m\u001b[0m\u001b[0;34m\u001b[0m\u001b[0m\n\u001b[0;32m----> 2\u001b[0;31m \u001b[0mST_fut\u001b[0m  \u001b[0;34m=\u001b[0m \u001b[0mStellar_properties\u001b[0m\u001b[0;34m(\u001b[0m\u001b[0mw_ids_h\u001b[0m\u001b[0;34m,\u001b[0m \u001b[0mwh\u001b[0m\u001b[0;34m,\u001b[0m \u001b[0mids_fut\u001b[0m\u001b[0;34m,\u001b[0m \u001b[0mmassarr_fut\u001b[0m\u001b[0;34m,\u001b[0m \u001b[0mmw_pos_f\u001b[0m\u001b[0;34m,\u001b[0m \u001b[0mmw_vel_f\u001b[0m\u001b[0;34m)\u001b[0m\u001b[0;34m\u001b[0m\u001b[0m\n\u001b[0m",
      "\u001b[0;31mNameError\u001b[0m: name 'ids_fut' is not defined"
     ]
    }
   ],
   "source": [
    "# stellar properties at the present time:\n",
    "ST_fut  = Stellar_properties(w_ids_h, wh, ids_fut, massarr_fut, mw_pos_f, mw_vel_f)"
   ]
  },
  {
   "cell_type": "code",
   "execution_count": 11,
   "metadata": {
    "collapsed": false
   },
   "outputs": [
    {
     "ename": "NameError",
     "evalue": "name 'ST_fut' is not defined",
     "output_type": "error",
     "traceback": [
      "\u001b[0;31m---------------------------------------------------------------------------\u001b[0m",
      "\u001b[0;31mNameError\u001b[0m                                 Traceback (most recent call last)",
      "\u001b[0;32m<ipython-input-11-a58412622029>\u001b[0m in \u001b[0;36m<module>\u001b[0;34m()\u001b[0m\n\u001b[1;32m      1\u001b[0m \u001b[0mall_i\u001b[0m\u001b[0;34m,\u001b[0m \u001b[0mmass_n_i\u001b[0m\u001b[0;34m,\u001b[0m \u001b[0mpos_i\u001b[0m\u001b[0;34m,\u001b[0m \u001b[0mvel_i\u001b[0m \u001b[0;34m=\u001b[0m \u001b[0mST_init\u001b[0m\u001b[0;34m\u001b[0m\u001b[0m\n\u001b[0;32m----> 2\u001b[0;31m \u001b[0mall_f\u001b[0m\u001b[0;34m,\u001b[0m \u001b[0mmass_n_f\u001b[0m\u001b[0;34m,\u001b[0m \u001b[0mpos_f\u001b[0m\u001b[0;34m,\u001b[0m \u001b[0mvel_f\u001b[0m \u001b[0;34m=\u001b[0m \u001b[0mST_fut\u001b[0m\u001b[0;34m\u001b[0m\u001b[0m\n\u001b[0m",
      "\u001b[0;31mNameError\u001b[0m: name 'ST_fut' is not defined"
     ]
    }
   ],
   "source": [
    "all_i, mass_n_i, pos_i, vel_i = ST_init\n",
    "all_f, mass_n_f, pos_f, vel_f = ST_fut"
   ]
  },
  {
   "cell_type": "code",
   "execution_count": 13,
   "metadata": {
    "collapsed": true
   },
   "outputs": [],
   "source": [
    "pos_i_w = np.array([posx_i, posy_i, posz_i]).T\n",
    "pos_f_w = np.array([posx_f, posy_f, posz_f]).T\n",
    "\n",
    "vel_i_w = np.array([velx_i, vely_i, velz_i]).T\n",
    "vel_f_w = np.array([velx_f, vely_f, velz_f]).T"
   ]
  },
  {
   "cell_type": "code",
   "execution_count": 14,
   "metadata": {
    "collapsed": true
   },
   "outputs": [],
   "source": [
    "rho_mw_st_init = density_tools.density_nn(pos_i_w, 200, 100, 10, 1000, mass=mass_n_i)"
   ]
  },
  {
   "cell_type": "code",
   "execution_count": 15,
   "metadata": {
    "collapsed": true
   },
   "outputs": [],
   "source": [
    "rho_mw_st_fut = density_tools.density_nn(pos_f_w, 200, 100, 10, 1000, mass=mass_n_f)"
   ]
  },
  {
   "cell_type": "code",
   "execution_count": null,
   "metadata": {
    "collapsed": true
   },
   "outputs": [],
   "source": [
    "#rho_mw_dm = density_tools.density_nn(pp, 200, 100, 10, 1000, mass=massarr*1E10)"
   ]
  },
  {
   "cell_type": "code",
   "execution_count": 29,
   "metadata": {
    "collapsed": false
   },
   "outputs": [
    {
     "data": {
      "text/plain": [
       "0"
      ]
     },
     "execution_count": 29,
     "metadata": {},
     "output_type": "execute_result"
    },
    {
     "data": {
      "image/png": "[encoded data removed]",
      "text/plain": [
       "<matplotlib.figure.Figure at 0x7f574e3c6550>"
      ]
     },
     "metadata": {},
     "output_type": "display_data"
    }
   ],
   "source": [
    "density_tools.density_peaks(rho_mw_st_fut/rho_mw_st_init - 1, xmin=-200, xmax=200, \n",
    "                            ymin=-200, ymax=200, fsize=(6, 4.5),  levels=np.arange(-1.0, 10, 0.1))"
   ]
  },
  {
   "cell_type": "code",
   "execution_count": null,
   "metadata": {
    "collapsed": true
   },
   "outputs": [],
   "source": [
    "density_tools.density_peaks(np.log(rho_mw_dm)/np.max(np.log(rho_mw_dm)), xmin=-100, xmax=100, \n",
    "                            ymin=-100, ymax=100, fsize=(6, 4.5),  levels=np.arange(0, 1.05, 0.1))"
   ]
  }
 ],
 "metadata": {
  "kernelspec": {
   "display_name": "Python 3",
   "language": "python",
   "name": "python3"
  },
  "language_info": {
   "codemirror_mode": {
    "name": "ipython",
    "version": 3
   },
   "file_extension": ".py",
   "mimetype": "text/x-python",
   "name": "python",
   "nbconvert_exporter": "python",
   "pygments_lexer": "ipython3",
   "version": "3.4.3"
  }
 },
 "nbformat": 4,
 "nbformat_minor": 2
}
