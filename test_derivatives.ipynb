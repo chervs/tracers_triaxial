{
 "cells": [
  {
   "cell_type": "code",
   "execution_count": 1,
   "metadata": {},
   "outputs": [
    {
     "name": "stdout",
     "output_type": "stream",
     "text": [
      "Populating the interactive namespace from numpy and matplotlib\n"
     ]
    }
   ],
   "source": [
    "%pylab inline\n",
    "import Stracers as st\n",
    "from pygadgetreader import * "
   ]
  },
  {
   "cell_type": "code",
   "execution_count": 2,
   "metadata": {
    "collapsed": true
   },
   "outputs": [],
   "source": [
    "def host_sat_particles(xyz, vxyz, pids, pot, mass, Nhost_particles):\n",
    "    \"\"\"\n",
    "    Function that return the host and the sat particles\n",
    "    positions and velocities.\n",
    "\n",
    "    Parameters:\n",
    "    -----------\n",
    "    xyz: snapshot coordinates with shape (n,3)\n",
    "    vxys: snapshot velocities with shape (n,3)\n",
    "    pids: particles ids\n",
    "    Nhost_particles: Number of host particles in the snapshot\n",
    "    Returns:\n",
    "    --------\n",
    "    xyz_mw, vxyz_mw, xyzlmc, vxyz_lmc: coordinates and velocities of\n",
    "    the host and the sat.\n",
    "\n",
    "    \"\"\"\n",
    "    sort_indexes = np.sort(pids)\n",
    "    N_cut = sort_indexes[Nhost_particles]\n",
    "    host_ids = np.where(pids<N_cut)[0]\n",
    "    sat_ids = np.where(pids>=N_cut)[0]\n",
    "    return xyz[host_ids], vxyz[host_ids], pot[host_ids], mass[host_ids], \\\n",
    "           pids[host_ids], xyz[sat_ids], vxyz[sat_ids], pot[sat_ids], \\\n",
    "           mass[sat_ids], pids[sat_ids]\n",
    "\n",
    "\n",
    "def com_disk_potential(xyz, vxyz, Pdisk):\n",
    "    V_radius = 2\n",
    "    vx = vxyz[:,0]\n",
    "    vy = vxyz[:,1]\n",
    "    vz = vxyz[:,2]\n",
    "    x = xyz[:,0]\n",
    "    y = xyz[:,1]\n",
    "    z = xyz[:,2]\n",
    "\n",
    "    min_pot = np.where(Pdisk==min(Pdisk))[0]\n",
    "    x_min = x[min_pot]\n",
    "    y_min = y[min_pot]\n",
    "    z_min = z[min_pot]\n",
    "    # This >2.0 corresponds to the radius in kpc of the particles that\n",
    "    # I am taking into account to compute the CM\n",
    "    avg_particles = np.where(np.sqrt((x-x_min)**2.0 + (y-y_min)**2.0 + (z-z_min)**2.0)<V_radius)[0]\n",
    "    x_cm = sum(x[avg_particles])/len(avg_particles)\n",
    "    y_cm = sum(y[avg_particles])/len(avg_particles)\n",
    "    z_cm = sum(z[avg_particles])/len(avg_particles)\n",
    "    vx_cm = sum(vx[avg_particles])/len(avg_particles)\n",
    "    vy_cm = sum(vy[avg_particles])/len(avg_particles)\n",
    "    vz_cm = sum(vz[avg_particles])/len(avg_particles)\n",
    "    return np.array([x_cm, y_cm, z_cm]), np.array([vx_cm, vy_cm, vz_cm])\n",
    "\n",
    "def re_center(vec, cm):\n",
    "    \"\"\"\n",
    "    Re center a halo to its center of mass.\n",
    "    \"\"\"\n",
    "    vec[:,0] -= cm[0]\n",
    "    vec[:,1] -= cm[1]\n",
    "    vec[:,2] -= cm[2]\n",
    "    return vec\n",
    "\n",
    "def read_MW_snap_com_coordinates(path, snap, LMC=False, N_halo_part=0):\n",
    "    MW_pos = readsnap(path+snap, 'pos', 'dm')\n",
    "    MW_vel = readsnap(path+snap, 'vel', 'dm')\n",
    "    dm_ids = readsnap(path+snap, 'pid', 'dm')\n",
    "    MW_mass = readsnap(path+snap, 'mass', 'dm')\n",
    "    MW_pot = readsnap(path+snap, 'pot', 'dm')\n",
    "    print(np.max(MW_pot))\n",
    "\n",
    "    pos_disk = readsnap(path+snap, 'pos', 'disk')\n",
    "    vel_disk = readsnap(path+snap, 'vel', 'disk')\n",
    "    pot_disk = readsnap(path+snap, 'pot', 'disk')\n",
    "\n",
    "    if LMC==True:\n",
    "        MW_pos, MW_vel, MW_pot, MW_mass, MW_ids, LMC_pos, LMC_vel, LMC_pot,\\\n",
    "        LMC_mass, LMC_ids = host_sat_particles(MW_pos, MW_vel,  dm_ids, MW_pot, \\\n",
    "                                              MW_mass, N_halo_part)\n",
    "\n",
    "\n",
    "    pos_cm, vel_cm = com_disk_potential(pos_disk, vel_disk, pot_disk)\n",
    "    MW_pos_cm = re_center(MW_pos, pos_cm)\n",
    "    MW_vel_cm = re_center(MW_vel, vel_cm)\n",
    "    return MW_pos_cm, MW_vel_cm, MW_pot, MW_mass, MW_ids\n",
    "\n",
    "\n",
    "def truncate_halo(r, v, pos, vel, pot, mass, r_trunc):\n",
    "    \"\"\"\n",
    "    \n",
    "\n",
    "    \"\"\"\n",
    "\n",
    "    index_cut = np.where((r<=r_trunc) & (r>1))[0]\n",
    "\n",
    "    return r[index_cut], v[index_cut], pos[index_cut], vel[index_cut], pot[index_cut], mass[index_cut]\n",
    "\n",
    "\n",
    "\n",
    "\n"
   ]
  },
  {
   "cell_type": "code",
   "execution_count": 3,
   "metadata": {},
   "outputs": [
    {
     "name": "stdout",
     "output_type": "stream",
     "text": [
      "Returning DM    Positions\n",
      "Returning DM    Velocities\n",
      "Returning DM    Particle IDs\n",
      "Returning DM    Mass\n",
      "Returning DM    Potential\n",
      "-11112.7\n",
      "Returning DISK  Positions\n",
      "Returning DISK  Velocities\n",
      "Returning DISK  Potential\n"
     ]
    }
   ],
   "source": [
    "snap = 'MWLMC6_100M_new_b0_2_000'\n",
    "path = '../MW_anisotropy/code/test_snaps/'\n",
    "N_halo_part = 100000000\n",
    "#100000000\n",
    "MW_pos, MW_vel, MW_pot, MW_mass, MW_ids = read_MW_snap_com_coordinates(path, snap, LMC=True, N_halo_part=N_halo_part)\n",
    "# truncate\n",
    "r_mw = np.sqrt(MW_pos[:,0]**2 + MW_pos[:,1]**2 + MW_pos[:,2]**2)\n",
    "v_mw = np.sqrt(MW_vel[:,0]**2 + MW_vel[:,1]**2 + MW_vel[:,2]**2)\n",
    "r_mw_tr, v_mw_tr, MW_pos_tr, MW_vel_tr, MW_pot_tr, MW_mass_tr =  truncate_halo(r_mw, v_mw, MW_pos, \n",
    "                                                                               MW_vel, MW_pot, MW_mass, 400)\n",
    "\n"
   ]
  },
  {
   "cell_type": "code",
   "execution_count": 15,
   "metadata": {},
   "outputs": [],
   "source": [
    "rbins, pot, E, psi, Histo_E, Edges, Histo_epsilon, eps_edges = st.energies(r_mw_tr, MW_pot_tr, v_mw_tr, 1000, 100)"
   ]
  },
  {
   "cell_type": "code",
   "execution_count": 16,
   "metadata": {},
   "outputs": [],
   "source": [
    "r_hr,  nu_tracer, psi_hr, dnu_dpsi_smooth, dnu2_dpsi2_smooth = st.densities_derivatives(rbins, psi, 1, interp_bins=1000, profile='Hernquist', profile_params=[40])"
   ]
  },
  {
   "cell_type": "code",
   "execution_count": 17,
   "metadata": {},
   "outputs": [
    {
     "data": {
      "text/plain": [
       "1000"
      ]
     },
     "execution_count": 17,
     "metadata": {},
     "output_type": "execute_result"
    }
   ],
   "source": [
    "len(psi_hr)"
   ]
  },
  {
   "cell_type": "code",
   "execution_count": 1,
   "metadata": {},
   "outputs": [
    {
     "ename": "NameError",
     "evalue": "name 'figure' is not defined",
     "output_type": "error",
     "traceback": [
      "\u001b[0;31m---------------------------------------------------------------------------\u001b[0m",
      "\u001b[0;31mNameError\u001b[0m                                 Traceback (most recent call last)",
      "\u001b[0;32m<ipython-input-1-1f8382f8d0c3>\u001b[0m in \u001b[0;36m<module>\u001b[0;34m()\u001b[0m\n\u001b[1;32m      1\u001b[0m \u001b[0;31m#def plot_derivatives():\u001b[0m\u001b[0;34m\u001b[0m\u001b[0;34m\u001b[0m\u001b[0m\n\u001b[0;32m----> 2\u001b[0;31m \u001b[0mfigure\u001b[0m\u001b[0;34m(\u001b[0m\u001b[0mfigsize\u001b[0m\u001b[0;34m=\u001b[0m\u001b[0;34m(\u001b[0m\u001b[0;36m12\u001b[0m\u001b[0;34m,\u001b[0m \u001b[0;36m12\u001b[0m\u001b[0;34m)\u001b[0m\u001b[0;34m)\u001b[0m\u001b[0;34m\u001b[0m\u001b[0m\n\u001b[0m\u001b[1;32m      3\u001b[0m \u001b[0msubplot\u001b[0m\u001b[0;34m(\u001b[0m\u001b[0;36m2\u001b[0m\u001b[0;34m,\u001b[0m \u001b[0;36m2\u001b[0m\u001b[0;34m,\u001b[0m \u001b[0;36m1\u001b[0m\u001b[0;34m)\u001b[0m\u001b[0;34m\u001b[0m\u001b[0m\n\u001b[1;32m      4\u001b[0m \u001b[0mtitle\u001b[0m\u001b[0;34m(\u001b[0m\u001b[0;34mr'$\\nu$'\u001b[0m\u001b[0;34m)\u001b[0m\u001b[0;34m\u001b[0m\u001b[0m\n\u001b[1;32m      5\u001b[0m \u001b[0mloglog\u001b[0m\u001b[0;34m(\u001b[0m\u001b[0mr_hr\u001b[0m\u001b[0;34m,\u001b[0m \u001b[0mnu_tracer\u001b[0m\u001b[0;34m)\u001b[0m\u001b[0;34m\u001b[0m\u001b[0m\n",
      "\u001b[0;31mNameError\u001b[0m: name 'figure' is not defined"
     ]
    }
   ],
   "source": [
    "#def plot_derivatives():\n",
    "figure(figsize=(12, 12))\n",
    "subplot(2, 2, 1)\n",
    "title(r'$\\nu$')\n",
    "loglog(r_hr, nu_tracer)\n",
    "subplot(2, 2, 2)\n",
    "title(r'$\\Psi$')\n",
    "loglog(r_hr, psi_hr)\n",
    "subplot(2, 2, 3)\n",
    "title(r'$d\\nu/ d\\Psi$')\n",
    "loglog(r_hr, dnu_dpsi_smooth)\n",
    "subplot(2, 2, 4)\n",
    "title(r'$d^2 \\nu/ d \\psi^2$')\n",
    "loglog(r_hr, dnu2_dpsi2_smooth)"
   ]
  },
  {
   "cell_type": "code",
   "execution_count": null,
   "metadata": {
    "collapsed": true
   },
   "outputs": [],
   "source": []
  }
 ],
 "metadata": {
  "kernelspec": {
   "display_name": "Python 3",
   "language": "python",
   "name": "python3"
  },
  "language_info": {
   "codemirror_mode": {
    "name": "ipython",
    "version": 3
   },
   "file_extension": ".py",
   "mimetype": "text/x-python",
   "name": "python",
   "nbconvert_exporter": "python",
   "pygments_lexer": "ipython3",
   "version": "3.5.2"
  }
 },
 "nbformat": 4,
 "nbformat_minor": 2
}
