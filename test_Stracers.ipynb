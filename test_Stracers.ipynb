{
 "cells": [
  {
   "cell_type": "markdown",
   "metadata": {},
   "source": [
    "## TESTING TRACERS CODE:\n",
    "\n",
    "1. Select a halo snapshot.\n",
    "2. Compute Weigths with : st.weight_triaxial.\n",
    "3. Compute Stellar properties. For densities purporses we need the masss.\n",
    "4. Compute the density. Here we use the rho_enclosed function."
   ]
  },
  {
   "cell_type": "markdown",
   "metadata": {},
   "source": [
    "## To do:\n",
    "## Check the values of the weights. \n",
    "## Check why the interpolation doesnt work for binsizes larger than 2.\n"
   ]
  },
  {
   "cell_type": "code",
   "execution_count": 1,
   "metadata": {},
   "outputs": [
    {
     "name": "stdout",
     "output_type": "stream",
     "text": [
      "Populating the interactive namespace from numpy and matplotlib\n"
     ]
    }
   ],
   "source": [
    "%pylab inline\n",
    "#import Stracers as st\n",
    "import sys\n",
    "sys.path.append('../MW_anisotropy/code/')\n",
    "sys.path.append('../MW_anisotropy/code/densities/')\n",
    "sys.path.append('./Stracers/')\n",
    "from tracers_dens import *\n",
    "#import density_tools\n",
    "import reading_snapshots\n",
    "from pygadgetreader import *\n",
    "from smooth import savitzky_golay\n",
    "\n",
    "\n",
    "from scipy.interpolate import interp1d\n",
    "from scipy.interpolate import InterpolatedUnivariateSpline\n",
    "\n"
   ]
  },
  {
   "cell_type": "code",
   "execution_count": 2,
   "metadata": {},
   "outputs": [],
   "source": [
    "font = {'size':20, 'family':'serif'}\n",
    "matplotlib.rc('font', **font)"
   ]
  },
  {
   "cell_type": "code",
   "execution_count": 3,
   "metadata": {},
   "outputs": [],
   "source": [
    "def rho_tracers(r, M, profile, profile_params):\n",
    "    \"\"\"\n",
    "    Density profiles for the\n",
    "    to-do:\n",
    "\n",
    "    1. pass as an argument the density function instead of the if statements.\n",
    "    2. profile paramas as *profile_params\n",
    "    \"\"\"\n",
    "    if profile == 'Plummer':\n",
    "        rho = dens_plummer(r, M, profile_params[0])\n",
    "    elif profile == 'Hernquist':\n",
    "        rho = dens_hernquist(r, M, profile_params[0])\n",
    "    elif profile == 'NFW':\n",
    "        rho = dens_NFWnRvir(r, M, profile_params[0], profile_params[1])\n",
    "    elif profile == 'Einasto':\n",
    "        rho = dens_Einasto(r, M, profile_params[0], profile_params[1])\n",
    "\n",
    "    return rho\n"
   ]
  },
  {
   "cell_type": "code",
   "execution_count": 4,
   "metadata": {},
   "outputs": [],
   "source": [
    "def rho_enclosed(r_posh, rmin, rmax, nbins, mass):\n",
    "    r = np.linspace(rmin, rmax, nbins-1)\n",
    "    rho = np.zeros(nbins-1)\n",
    "\n",
    "    # Loop over the radial bins.\n",
    "    for i in range(1, len(r)):\n",
    "        indexh = np.where((r_posh<r[i]) & (r_posh>r[i-1]))[0]\n",
    "\n",
    "        rho[i-1] = (3*(np.sum(mass[indexh]))) / (4*np.pi*(r[i]**3-r[i-1]**3))\n",
    "\n",
    "    return r, rho"
   ]
  },
  {
   "cell_type": "code",
   "execution_count": 5,
   "metadata": {},
   "outputs": [],
   "source": [
    "def all_host_particles(xyz, vxyz, pids, pot, mass, N_host_particles):\n",
    "    \"\"\"\n",
    "    Function that return the host and the sat particles\n",
    "    positions and velocities.\n",
    "\n",
    "    Parameters:\n",
    "    -----------\n",
    "    xyz: snapshot coordinates with shape (n,3)\n",
    "    vxys: snapshot velocities with shape (n,3)\n",
    "    pids: particles ids\n",
    "    Nhost_particles: Number of host particles in the snapshot\n",
    "    Returns:\n",
    "    --------\n",
    "    xyz_mw, vxyz_mw, xyzlmc, vxyz_lmc: coordinates and velocities of\n",
    "    the host and the sat.\n",
    "\n",
    "    \"\"\"\n",
    "    sort_indexes = np.sort(pids)\n",
    "    N_cut = sort_indexes[N_host_particles]\n",
    "    host_ids = np.where(pids<N_cut)[0]\n",
    "    return xyz[host_ids], vxyz[host_ids], pids[host_ids], pot[host_ids], mass[host_ids]"
   ]
  },
  {
   "cell_type": "code",
   "execution_count": 35,
   "metadata": {},
   "outputs": [],
   "source": [
    "def energies(r_part, Ep, v, n_rbins, n_ebins, m):\n",
    "    r\"\"\"\n",
    "    \n",
    "    Parameters:\n",
    "    -----------\n",
    "    \n",
    "    r_part: 'numpy.array`\n",
    "        Galactocentric distances of the DM particles in [$kpc$].\n",
    "    pmass: float\n",
    "        Mass of a DM particle in units of solar masses.\n",
    "    Ep : 'numpy.array`\n",
    "        potential energy in units of\n",
    "    v : 'numpy.array`\n",
    "        velocities in km/s\n",
    "    n_rbins : int\n",
    "        number of bins, this will be used to bin the potential energy.\n",
    "    \n",
    "    Returns:\n",
    "    --------\n",
    "    \n",
    "    $\\Psi$ : $\\Psi = -\\Phi + \\Phi_0$ Relative potential. \n",
    "    $\\epsilon$ : $\\epsilon = -E + \\phi_0$ relative total energy.\n",
    "    \n",
    "    \n",
    "    \"\"\"\n",
    "\n",
    "    G = 4.30071e-6 # Gadget units\n",
    "    nbins_coarsed = 20\n",
    "    E_k = 0.5*m*v**2 # Kinetic energy / mass.\n",
    "    E = E_k + Ep\n",
    "    epsilon = (-1.0)*E\n",
    "\n",
    "    # Binning the data in logarithmic bins in radius\n",
    "    # Should I need to worried about centering the bin?\n",
    "    # yes if you are going to interpolate.\n",
    "\n",
    "    rbins = np.logspace(np.min(np.log10(r_part)), np.max(np.log10(r_part)), nbins_coarsed)\n",
    "    # spaced between rbins\n",
    "    dr = np.zeros(len(rbins)-1)\n",
    "    for i in range(len(rbins)-1):\n",
    "        dr[i] = rbins[i+1] - rbins[i]\n",
    "\n",
    "    pot = np.zeros(nbins_coarsed-1)\n",
    "\n",
    "    for i in range(len(rbins)-1):\n",
    "        index_bins = np.where((r_part<rbins[i+1])\n",
    "                              & (r_part>=rbins[i]))[0]\n",
    "\n",
    "        if len(index_bins) == 0:\n",
    "            pot[i] = 0\n",
    "            print('Warning : No particles found at r={:0>2f} kpc'.format(rbins[i]))\n",
    "        else:\n",
    "            pot[i] = np.mean(Ep[index_bins])\n",
    "\n",
    "\n",
    "    f_interp_pot = interp1d(rbins[:-1]+dr, pot, kind='cubic')\n",
    "    r_interp = np.linspace(rbins[0]+dr[0], rbins[-2]+dr[-2], n_rbins)\n",
    "    pot_interp = f_interp_pot(r_interp)\n",
    "    psi = (-1.0)*pot_interp\n",
    "\n",
    "\n",
    "\n",
    "    #Binning Energy for g(E) and f(E) (f(epsilon)) calculations\n",
    "    Histo_E, Edges = np.histogram(E, bins=n_ebins)\n",
    "    Histo_epsilon, epsedges = np.histogram(epsilon, bins=n_ebins)\n",
    "\n",
    "    # Are these always positive?\n",
    "    dE = Edges[1]-Edges[0]\n",
    "    depsilon = epsedges[1]-epsedges[0]\n",
    "\n",
    "    Edges = Edges + dE/2.\n",
    "    epsedges = epsedges + depsilon/2.\n",
    "\n",
    "\n",
    "    return r_interp, psi, epsilon, Histo_epsilon, epsedges"
   ]
  },
  {
   "cell_type": "code",
   "execution_count": 36,
   "metadata": {},
   "outputs": [],
   "source": [
    "def densities_derivatives(rbins, psi_bins, interp_bins=100, profile='Hernquist'):\n",
    "    \"\"\"\n",
    "    Computes the derivatives of \n",
    "    \n",
    "    rbins : number of radial bins.\n",
    "    \n",
    "    psi_bins : psi binned.\n",
    "    \n",
    "    inter_bins : int\n",
    "        Values of the interpolated \n",
    "    \n",
    "    \n",
    "    \"\"\"\n",
    "    spl1 = InterpolatedUnivariateSpline(rbins, psi_bins)\n",
    "\n",
    "    # interpolating in the radial bins.  \n",
    "    rbins_hr = np.linspace(min(rbins), max(rbins), interp_bins)\n",
    "    #nu_tracer_hr = spl1(rbins_hr)\n",
    "    nu_tracer=rho_tracers(rbins_hr, 1, profile, [10])\n",
    "    psi_hr = spl1(rbins_hr)\n",
    "\n",
    "\n",
    "    # First derivative.\n",
    "    dnu_dpsi = np.gradient(nu_tracer, psi_hr)\n",
    "    #spl3 = interp1d(rbins, dnu_dpsi, kind='cubic')\n",
    "    #dnu_dpsi_hr = spl3(rbins_hr)\n",
    "\n",
    "    # second derivative\n",
    "    #dnu2_dpsi2 = np.gradient(dnu_dpsi, psi2)\n",
    "    \n",
    "    # smoothing first derivative\n",
    "    #dnu_dpsi_smooth = savitzky_golay(dnu_dpsi, 5, 3)\n",
    "    dnu2_dpsi2 = np.gradient(dnu_dpsi, psi_hr)\n",
    "    # smoothing second derivative\n",
    "    #dnu2_dpsi2_smooth = savitzky_golay(dnu2_dpsi2, 5, 3)\n",
    "\n",
    "    return rbins_hr, nu_tracer, psi_hr, dnu_dpsi, dnu2_dpsi2"
   ]
  },
  {
   "cell_type": "code",
   "execution_count": 37,
   "metadata": {},
   "outputs": [],
   "source": [
    "def distribution_function(psi, dnu2_dpsi2, epsilon):\n",
    "    \n",
    "    assert len(epsilon)<len(psi), 'Hey'\n",
    "    \n",
    "    factor = 1/(np.sqrt(8)*np.pi**2)\n",
    "    dpsi = psi[2]-psi[1]\n",
    "    df = np.zeros(len(epsilon))\n",
    "    \n",
    "    for i in range(len(epsilon)):\n",
    "        index = np.where(psi<=epsilon[i])[0]\n",
    "        df[i] = np.sum(dpsi/(np.sqrt(epsilon[i] - psi[index])) * dnu2_dpsi2[index])\n",
    "    return factor*df\n",
    "    \n",
    "    "
   ]
  },
  {
   "cell_type": "code",
   "execution_count": 38,
   "metadata": {
    "scrolled": true
   },
   "outputs": [
    {
     "name": "stdout",
     "output_type": "stream",
     "text": [
      "Returning DM    Positions\n",
      "Returning DM    Velocities\n",
      "Returning DM    Mass\n",
      "Returning DM    Potential\n",
      "Returning DM    Particle IDs\n"
     ]
    }
   ],
   "source": [
    "snapshot = './halos/LMC1_97K_vir_000'\n",
    "\n",
    "\n",
    "pp = readsnap(snapshot, 'pos', 'dm')\n",
    "vv = readsnap(snapshot, 'vel', 'dm')\n",
    "mass = readsnap(snapshot, 'mass', 'dm')\n",
    "Epp = readsnap(snapshot, 'pot', 'dm')\n",
    "ids = readsnap(snapshot, 'pid', 'dm')\n",
    "\n",
    "\n",
    "r = np.sqrt(pp[:,0]**2+pp[:,1]**2+pp[:,2]**2)\n",
    "\n",
    "# truncating the halo\n",
    "\n",
    "r_cut = index = np.where(r<100)[0]\n",
    "\n",
    "pp = pp[r_cut]\n",
    "r = r[r_cut]\n",
    "vv = vv[r_cut]\n",
    "mass = mass[r_cut]\n",
    "Epp = Epp[r_cut]\n",
    "ids = ids[r_cut]\n",
    "\n",
    "v = np.sqrt(vv[:,0]**2 + vv[:,1]**2 + vv[:,2]**2)"
   ]
  },
  {
   "cell_type": "code",
   "execution_count": 39,
   "metadata": {},
   "outputs": [],
   "source": [
    "rbins, psi, epsilon, Histo_epsilon, eps_edges = energies(r, Epp*mass[0]*1E10, v, 100, 100, mass[0]*1E10)"
   ]
  },
  {
   "cell_type": "code",
   "execution_count": 40,
   "metadata": {},
   "outputs": [
    {
     "data": {
      "text/plain": [
       "[<matplotlib.lines.Line2D at 0x7f75e82ae9b0>]"
      ]
     },
     "execution_count": 40,
     "metadata": {},
     "output_type": "execute_result"
    },
    {
     "data": {
      "image/png": "[encoded data removed]",
      "text/plain": [
       "<matplotlib.figure.Figure at 0x7f75e7fde080>"
      ]
     },
     "metadata": {},
     "output_type": "display_data"
    }
   ],
   "source": [
    "plot(rbins, psi)"
   ]
  },
  {
   "cell_type": "code",
   "execution_count": 42,
   "metadata": {},
   "outputs": [
    {
     "data": {
      "text/plain": [
       "[<matplotlib.lines.Line2D at 0x7f75e879cc50>]"
      ]
     },
     "execution_count": 42,
     "metadata": {},
     "output_type": "execute_result"
    },
    {
     "data": {
      "image/png": "[encoded data removed]",
      "text/plain": [
       "<matplotlib.figure.Figure at 0x7f75e7fc9c88>"
      ]
     },
     "metadata": {},
     "output_type": "display_data"
    }
   ],
   "source": [
    "plot(eps_edges[:-1], Histo_epsilon)"
   ]
  },
  {
   "cell_type": "code",
   "execution_count": 43,
   "metadata": {},
   "outputs": [
    {
     "name": "stderr",
     "output_type": "stream",
     "text": [
      "/usr/local/lib/python3.5/dist-packages/matplotlib/cbook/deprecation.py:106: MatplotlibDeprecationWarning: Adding an axes using the same arguments as a previous axes currently reuses the earlier instance.  In a future version, a new instance will always be created and returned.  Meanwhile, this warning can be suppressed, and the future behavior ensured, by passing a unique label to each axes instance.\n",
      "  warnings.warn(message, mplDeprecation, stacklevel=1)\n"
     ]
    },
    {
     "data": {
      "image/png": "[encoded data removed]",
      "text/plain": [
       "<matplotlib.figure.Figure at 0x7f75e879c320>"
      ]
     },
     "metadata": {},
     "output_type": "display_data"
    }
   ],
   "source": [
    "figure(figsize=(6, 10))\n",
    "\n",
    "for i in range(5000, 10000, 500):\n",
    "    r_hr, nu_tracer, psi_hr, dnu_dpsi_smooth, dnu2_dpsi2_smooth = densities_derivatives(rbins, \n",
    "                                                                                        psi, \n",
    "                                                                                        interp_bins=i,\n",
    "                                                                                        profile='Hernquist')\n",
    "    subplot(4, 1, 1)\n",
    "    loglog(r_hr, nu_tracer)\n",
    "\n",
    "    subplot(4, 1, 2)\n",
    "    loglog(r_hr, psi_hr)\n",
    "\n",
    "    subplot(4, 1, 3)\n",
    "    loglog(r_hr, dnu_dpsi_smooth)\n",
    "\n",
    "    subplot(4, 1, 4)\n",
    "    loglog(r_hr, dnu2_dpsi2_smooth)\n",
    "\n"
   ]
  },
  {
   "cell_type": "code",
   "execution_count": 51,
   "metadata": {},
   "outputs": [],
   "source": [
    "df = distribution_function(psi_hr, dnu2_dpsi2_smooth, eps_edges)"
   ]
  },
  {
   "cell_type": "code",
   "execution_count": 59,
   "metadata": {},
   "outputs": [
    {
     "data": {
      "text/plain": [
       "[<matplotlib.lines.Line2D at 0x7f75e77f1080>]"
      ]
     },
     "execution_count": 59,
     "metadata": {},
     "output_type": "execute_result"
    },
    {
     "data": {
      "image/png": "[encoded data removed]",
      "text/plain": [
       "<matplotlib.figure.Figure at 0x7f75e77f5fd0>"
      ]
     },
     "metadata": {},
     "output_type": "display_data"
    }
   ],
   "source": [
    "plt.loglog(eps_edges, np.abs(df))"
   ]
  },
  {
   "cell_type": "code",
   "execution_count": null,
   "metadata": {},
   "outputs": [],
   "source": []
  }
 ],
 "metadata": {
  "kernelspec": {
   "display_name": "Python 3",
   "language": "python",
   "name": "python3"
  },
  "language_info": {
   "codemirror_mode": {
    "name": "ipython",
    "version": 3
   },
   "file_extension": ".py",
   "mimetype": "text/x-python",
   "name": "python",
   "nbconvert_exporter": "python",
   "pygments_lexer": "ipython3",
   "version": "3.5.2"
  }
 },
 "nbformat": 4,
 "nbformat_minor": 2
}
