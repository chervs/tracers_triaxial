{
 "cells": [
  {
   "cell_type": "code",
   "execution_count": 1,
   "metadata": {
    "collapsed": false
   },
   "outputs": [
    {
     "name": "stderr",
     "output_type": "stream",
     "text": [
      "/usr/local/lib/python3.4/dist-packages/matplotlib/__init__.py:841: UserWarning: Found matplotlib configuration in ~/.matplotlib/. To conform with the XDG base directory standard, this configuration location has been deprecated on Linux, and the new location is now /home/ngaravito/.config/matplotlib/. Please move your configuration there to ensure that matplotlib will continue to find it in the future.\n",
      "  _get_xdg_config_dir())\n"
     ]
    },
    {
     "name": "stdout",
     "output_type": "stream",
     "text": [
      "Populating the interactive namespace from numpy and matplotlib\n"
     ]
    }
   ],
   "source": [
    "%pylab inline\n",
    "import os\n",
    "import sys\n",
    "\n",
    "module_path = os.path.abspath(os.path.join('./src/'))\n",
    "if module_path not in sys.path:\n",
    "    sys.path.append(module_path)\n",
    "    \n",
    "import weights\n",
    "import tracers_properties\n",
    "from pygadgetreader import *\n",
    "import soda"
   ]
  },
  {
   "cell_type": "code",
   "execution_count": 2,
   "metadata": {
    "collapsed": false
   },
   "outputs": [
    {
     "name": "stdout",
     "output_type": "stream",
     "text": [
      "Returning DM    Positions\n",
      "Returning DM    Velocities\n",
      "Returning DM    Mass\n",
      "Returning DM    Potential\n",
      "Returning DM    Particle IDs\n"
     ]
    }
   ],
   "source": [
    "pp= readsnap('./halos/LMC6_6.25M_vir_000', 'pos', 'dm')\n",
    "vv= readsnap('./halos/LMC6_6.25M_vir_000', 'vel', 'dm')\n",
    "\n",
    "massarr= readsnap('./halos/LMC6_6.25M_vir_000', 'mass', 'dm')\n",
    "Epp = readsnap('./halos/LMC6_6.25M_vir_000', 'pot', 'dm')\n",
    "ids = readsnap('./halos/LMC6_6.25M_vir_000', 'pid', 'dm')\n",
    "rr=np.sqrt(pp[:,0]**2+pp[:,1]**2+pp[:,2]**2)\n",
    "\n",
    "\n",
    "r_cut = index = np.where((rr<40))[0]\n",
    "\n",
    "pp = pp[r_cut]\n",
    "rr = rr[r_cut]\n",
    "vv = vv[r_cut]\n",
    "\n",
    "massarr = massarr[r_cut]\n",
    "Epp = Epp[r_cut]\n",
    "ids = ids[r_cut]"
   ]
  },
  {
   "cell_type": "code",
   "execution_count": 3,
   "metadata": {
    "collapsed": false
   },
   "outputs": [
    {
     "data": {
      "text/plain": [
       "2351198"
      ]
     },
     "execution_count": 3,
     "metadata": {},
     "output_type": "execute_result"
    }
   ],
   "source": [
    "len(ids)"
   ]
  },
  {
   "cell_type": "code",
   "execution_count": 4,
   "metadata": {
    "collapsed": false
   },
   "outputs": [],
   "source": [
    "partmass=massarr[3]*1e10 #generated the halo particles as \"bulge\"-type in Gadget file\n",
    "a=0.5\n",
    "v2=vv[:,0]**2+vv[:,1]**2+vv[:,2]**2\n",
    "Ekk=0.5*v2\n",
    "\n"
   ]
  },
  {
   "cell_type": "code",
   "execution_count": 5,
   "metadata": {
    "collapsed": false
   },
   "outputs": [],
   "source": [
    "r_profiles = np.linspace(1, 50, 100)\n",
    "#r_profiles2 = np.linspace(1, 50, 1000)\n",
    "\n",
    "teo_plummer = soda.profiles.dens_plummer(5, r_profiles, 1E10)"
   ]
  },
  {
   "cell_type": "code",
   "execution_count": 6,
   "metadata": {
    "collapsed": false
   },
   "outputs": [
    {
     "name": "stdout",
     "output_type": "stream",
     "text": [
      "50\n"
     ]
    },
    {
     "name": "stderr",
     "output_type": "stream",
     "text": [
      "/home/ngaravito/work/github/tracers_triaxial/src/weights.py:167: RuntimeWarning: divide by zero encountered in true_divide\n",
      "  Weights=distribution_function[indsort[::-1]]/((Histo_M)/density_of_states)\n"
     ]
    },
    {
     "name": "stdout",
     "output_type": "stream",
     "text": [
      "100\n",
      "1000\n",
      "2000\n"
     ]
    },
    {
     "ename": "NameError",
     "evalue": "name 'r_profiles2' is not defined",
     "output_type": "error",
     "traceback": [
      "\u001b[0;31m---------------------------------------------------------------------------\u001b[0m",
      "\u001b[0;31mNameError\u001b[0m                                 Traceback (most recent call last)",
      "\u001b[0;32m<ipython-input-6-b2e6e73a8607>\u001b[0m in \u001b[0;36m<module>\u001b[0;34m()\u001b[0m\n\u001b[1;32m      7\u001b[0m \u001b[0;34m\u001b[0m\u001b[0m\n\u001b[1;32m      8\u001b[0m     \u001b[0mloglog\u001b[0m\u001b[0;34m(\u001b[0m\u001b[0mr_profiles\u001b[0m\u001b[0;34m,\u001b[0m \u001b[0mdensity_plum\u001b[0m\u001b[0;34m)\u001b[0m\u001b[0;34m\u001b[0m\u001b[0m\n\u001b[0;32m----> 9\u001b[0;31m \u001b[0mloglog\u001b[0m\u001b[0;34m(\u001b[0m\u001b[0mr_profiles2\u001b[0m\u001b[0;34m,\u001b[0m \u001b[0mteo_plummer\u001b[0m\u001b[0;34m,\u001b[0m \u001b[0mc\u001b[0m\u001b[0;34m=\u001b[0m\u001b[0;34m'k'\u001b[0m\u001b[0;34m)\u001b[0m\u001b[0;34m\u001b[0m\u001b[0m\n\u001b[0m",
      "\u001b[0;31mNameError\u001b[0m: name 'r_profiles2' is not defined"
     ]
    },
    {
     "data": {
      "image/png": "[encoded data removed]",
      "text/plain": [
       "<matplotlib.figure.Figure at 0x7f2e2474ad30>"
      ]
     },
     "metadata": {},
     "output_type": "display_data"
    }
   ],
   "source": [
    "bins = [50, 100, 1000, 2000]\n",
    "for i in bins:\n",
    "    print(i)\n",
    "    weights_plum, w_ids = weights.weight_triaxial(rr, Ekk, Epp, ids, partmass,0.01, \n",
    "                                                  i, 1E10, 'Plummer', [5])\n",
    "    density_plum = tracers_properties.den_tracers(weights_plum, ids, w_ids, rr, massarr, 100)\n",
    "    \n",
    "    loglog(r_profiles, density_plum)\n",
    "loglog(r_profiles, teo_plummer, c='k')"
   ]
  },
  {
   "cell_type": "code",
   "execution_count": 7,
   "metadata": {
    "collapsed": false
   },
   "outputs": [],
   "source": [
    "#weights_plum, w_ids = weights.weight_triaxial(rr, Ekk, Epp, ids, partmass,0.01, 100, 1E10, 'Plummer', [5])\n"
   ]
  },
  {
   "cell_type": "code",
   "execution_count": null,
   "metadata": {
    "collapsed": false
   },
   "outputs": [],
   "source": [
    "weights_plum_lr, w_ids_lr = weights.weight_triaxial(rr, Ekk, Epp, ids, partmass, 0.01, \n",
    "                                                    2000, 1E10, 'Plummer', [5])\n",
    "density_plum_lr = tracers_properties.den_tracers(weights_plum_lr, ids, w_ids_lr, rr, massarr, 1000)\n"
   ]
  },
  {
   "cell_type": "code",
   "execution_count": null,
   "metadata": {
    "collapsed": false
   },
   "outputs": [],
   "source": [
    "print(weights_plum)"
   ]
  },
  {
   "cell_type": "code",
   "execution_count": null,
   "metadata": {
    "collapsed": false
   },
   "outputs": [],
   "source": [
    "print(weights_plum_lr)"
   ]
  },
  {
   "cell_type": "code",
   "execution_count": null,
   "metadata": {
    "collapsed": true
   },
   "outputs": [],
   "source": []
  },
  {
   "cell_type": "code",
   "execution_count": null,
   "metadata": {
    "collapsed": false
   },
   "outputs": [],
   "source": [
    "loglog(r_profiles[:-1], density_plum[:-1])\n",
    "loglog(r_profiles, density_plum_lr)\n",
    "loglog(r_profiles, teo_plummer, label='Teo')\n",
    "\n",
    "legend()"
   ]
  },
  {
   "cell_type": "code",
   "execution_count": null,
   "metadata": {
    "collapsed": false
   },
   "outputs": [],
   "source": [
    "weights_hern, w_ids = weights.weight_triaxial(rr,Ekk,Epp,ids,partmass,0.01, 50, 1E10, 'Hernquist', [5])\n",
    "density_hern = tracers_properties.den_tracers(weights_hern, ids, w_ids, rr, massarr, 1000)"
   ]
  },
  {
   "cell_type": "code",
   "execution_count": null,
   "metadata": {
    "collapsed": false
   },
   "outputs": [],
   "source": [
    "teo_hern = soda.profiles.dens_hernquist(5, r_profiles,0, 0, 1E10)"
   ]
  },
  {
   "cell_type": "code",
   "execution_count": null,
   "metadata": {
    "collapsed": true
   },
   "outputs": [],
   "source": [
    "soda.profiles.dens_hernquist?"
   ]
  },
  {
   "cell_type": "code",
   "execution_count": null,
   "metadata": {
    "collapsed": false
   },
   "outputs": [],
   "source": [
    "loglog(r_profiles, density_hern)\n",
    "loglog(r_profiles, teo_hern)"
   ]
  },
  {
   "cell_type": "code",
   "execution_count": null,
   "metadata": {
    "collapsed": false
   },
   "outputs": [],
   "source": [
    "loglog(r_profiles, density_plum)\n",
    "loglog(r_profiles, density_hern)\n"
   ]
  },
  {
   "cell_type": "code",
   "execution_count": null,
   "metadata": {
    "collapsed": true
   },
   "outputs": [],
   "source": []
  }
 ],
 "metadata": {
  "kernelspec": {
   "display_name": "Python 3",
   "language": "python",
   "name": "python3"
  },
  "language_info": {
   "codemirror_mode": {
    "name": "ipython",
    "version": 3
   },
   "file_extension": ".py",
   "mimetype": "text/x-python",
   "name": "python",
   "nbconvert_exporter": "python",
   "pygments_lexer": "ipython3",
   "version": "3.4.3"
  }
 },
 "nbformat": 4,
 "nbformat_minor": 0
}
