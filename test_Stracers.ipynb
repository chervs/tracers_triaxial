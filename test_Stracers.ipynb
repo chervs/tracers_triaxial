{
 "cells": [
  {
   "cell_type": "markdown",
   "metadata": {},
   "source": [
    "## TESTING TRACERS CODE:\n",
    "\n",
    "1. Select a halo snapshot.\n",
    "2. Compute Weigths with : st.weight_triaxial.\n",
    "3. Compute Stellar properties. For densities purporses we need the masss.\n",
    "4. Compute the density. Here we use the rho_enclosed function."
   ]
  },
  {
   "cell_type": "markdown",
   "metadata": {},
   "source": [
    "## To do:\n",
    "## Check the values of the weights. \n",
    "## Check why the interpolation doesnt work for binsizes larger than 2.\n"
   ]
  },
  {
   "cell_type": "code",
   "execution_count": 26,
   "metadata": {},
   "outputs": [
    {
     "name": "stdout",
     "output_type": "stream",
     "text": [
      "Populating the interactive namespace from numpy and matplotlib\n"
     ]
    }
   ],
   "source": [
    "%pylab inline\n",
    "#import Stracers as st\n",
    "import sys\n",
    "sys.path.append('../MW_anisotropy/code/')\n",
    "sys.path.append('../MW_anisotropy/code/densities/')\n",
    "sys.path.append('./Stracers/')\n",
    "from tracers_dens import *\n",
    "#import density_tools\n",
    "import reading_snapshots\n",
    "from pygadgetreader import *\n",
    "from smooth import savitzky_golay\n",
    "\n",
    "\n",
    "from scipy.interpolate import interp1d\n",
    "from scipy.interpolate import InterpolatedUnivariateSpline\n",
    "\n"
   ]
  },
  {
   "cell_type": "code",
   "execution_count": 27,
   "metadata": {},
   "outputs": [],
   "source": [
    "font = {'size':20, 'family':'serif'}\n",
    "matplotlib.rc('font', **font)"
   ]
  },
  {
   "cell_type": "code",
   "execution_count": 28,
   "metadata": {},
   "outputs": [],
   "source": [
    "def rho_tracers(r, M, profile, profile_params):\n",
    "    \"\"\"\n",
    "    Density profiles for the\n",
    "    to-do:\n",
    "\n",
    "    1. pass as an argument the density function instead of the if statements.\n",
    "    2. profile paramas as *profile_params\n",
    "    \"\"\"\n",
    "    if profile == 'Plummer':\n",
    "        rho = dens_plummer(r, M, profile_params[0])\n",
    "    elif profile == 'Hernquist':\n",
    "        rho = dens_hernquist(r, M, profile_params[0])\n",
    "    elif profile == 'NFW':\n",
    "        rho = dens_NFWnRvir(r, M, profile_params[0], profile_params[1])\n",
    "    elif profile == 'Einasto':\n",
    "        rho = dens_Einasto(r, M, profile_params[0], profile_params[1])\n",
    "\n",
    "    return rho\n"
   ]
  },
  {
   "cell_type": "code",
   "execution_count": 29,
   "metadata": {},
   "outputs": [],
   "source": [
    "def rho_enclosed(r_posh, rmin, rmax, nbins, mass):\n",
    "    r = np.linspace(rmin, rmax, nbins-1)\n",
    "    rho = np.zeros(nbins-1)\n",
    "\n",
    "    # Loop over the radial bins.\n",
    "    for i in range(1, len(r)):\n",
    "        indexh = np.where((r_posh<r[i]) & (r_posh>r[i-1]))[0]\n",
    "\n",
    "        rho[i-1] = (3*(np.sum(mass[indexh]))) / (4*np.pi*(r[i]**3-r[i-1]**3))\n",
    "\n",
    "    return r, rho"
   ]
  },
  {
   "cell_type": "code",
   "execution_count": 30,
   "metadata": {},
   "outputs": [],
   "source": [
    "def all_host_particles(xyz, vxyz, pids, pot, mass, N_host_particles):\n",
    "    \"\"\"\n",
    "    Function that return the host and the sat particles\n",
    "    positions and velocities.\n",
    "\n",
    "    Parameters:\n",
    "    -----------\n",
    "    xyz: snapshot coordinates with shape (n,3)\n",
    "    vxys: snapshot velocities with shape (n,3)\n",
    "    pids: particles ids\n",
    "    Nhost_particles: Number of host particles in the snapshot\n",
    "    Returns:\n",
    "    --------\n",
    "    xyz_mw, vxyz_mw, xyzlmc, vxyz_lmc: coordinates and velocities of\n",
    "    the host and the sat.\n",
    "\n",
    "    \"\"\"\n",
    "    sort_indexes = np.sort(pids)\n",
    "    N_cut = sort_indexes[N_host_particles]\n",
    "    host_ids = np.where(pids<N_cut)[0]\n",
    "    return xyz[host_ids], vxyz[host_ids], pids[host_ids], pot[host_ids], mass[host_ids]"
   ]
  },
  {
   "cell_type": "code",
   "execution_count": 31,
   "metadata": {},
   "outputs": [],
   "source": [
    "def energies(r_part, Ep, v, n_rbins, n_ebins):\n",
    "    r\"\"\"\n",
    "    \n",
    "    Parameters:\n",
    "    -----------\n",
    "    \n",
    "    r_part: 'numpy.array`\n",
    "        Galactocentric distances of the DM particles in [$kpc$].\n",
    "    pmass: float\n",
    "        Mass of a DM particle in units of solar masses.\n",
    "    Ep : 'numpy.array`\n",
    "        potential energy in units of\n",
    "    v : 'numpy.array`\n",
    "        velocities in km/s\n",
    "    n_rbins : int\n",
    "        number of bins, this will be used to bin the potential energy.\n",
    "        \n",
    "    n_ebins : int\n",
    "        number of bins, this will be used to bin the energy.\n",
    "    \n",
    "    Returns:\n",
    "    --------\n",
    "    \n",
    "    $\\Psi$ : $\\Psi = -\\Phi + \\Phi_0$ Relative potential. \n",
    "    $\\epsilon$ : $\\epsilon = -E + \\phi_0$ relative total energy.\n",
    "    \n",
    "    \n",
    "    \"\"\"\n",
    "\n",
    "    G = 4.30071e-6 # Gadget units\n",
    "    nbins_coarsed = 20\n",
    "    E_k = 0.5*v**2 # Kinetic energy / mass.\n",
    "    E = E_k + Ep\n",
    "    epsilon = (-1.0)*E\n",
    "\n",
    "    # Binning the data in logarithmic bins in radius\n",
    "    # Should I need to worried about centering the bin?\n",
    "    # yes if you are going to interpolate.\n",
    "\n",
    "    rbins = np.logspace(np.min(np.log10(r_part)), np.max(np.log10(r_part)), nbins_coarsed)\n",
    "    # spaced between rbins\n",
    "    dr = np.zeros(len(rbins)-1)\n",
    "    for i in range(len(rbins)-1):\n",
    "        dr[i] = rbins[i+1] - rbins[i]\n",
    "\n",
    "    pot = np.zeros(nbins_coarsed-1)\n",
    "\n",
    "    for i in range(len(rbins)-1):\n",
    "        index_bins = np.where((r_part<rbins[i+1])\n",
    "                              & (r_part>=rbins[i]))[0]\n",
    "\n",
    "        if len(index_bins) == 0:\n",
    "            pot[i] = 0\n",
    "            print('Warning : No particles found at r={:0>2f} kpc'.format(rbins[i]))\n",
    "        else:\n",
    "            pot[i] = np.mean(Ep[index_bins])\n",
    "\n",
    "\n",
    "    f_interp_pot = interp1d(rbins[:-1]+dr, pot, kind='cubic')\n",
    "    r_interp = np.linspace(rbins[0]+dr[0], rbins[-2]+dr[-2], n_rbins)\n",
    "    pot_interp = f_interp_pot(r_interp)\n",
    "    psi = (-1.0)*pot_interp\n",
    "\n",
    "\n",
    "\n",
    "    #Binning Energy for g(E) and f(E) (f(epsilon)) calculations\n",
    "    Histo_E, Edges = np.histogram(E, bins=n_ebins)\n",
    "    Histo_epsilon, epsedges = np.histogram(epsilon, bins=n_ebins)\n",
    "\n",
    "    # Are these always positive?\n",
    "    dE = Edges[1]-Edges[0]\n",
    "    depsilon = epsedges[1]-epsedges[0]\n",
    "\n",
    "    Edges = Edges + dE/2.\n",
    "    epsedges = epsedges + depsilon/2.\n",
    "\n",
    "\n",
    "    return r_interp, pot_interp, E, psi, Histo_E, Edges, Histo_epsilon, epsedges"
   ]
  },
  {
   "cell_type": "markdown",
   "metadata": {},
   "source": [
    "# Distribution function:"
   ]
  },
  {
   "cell_type": "code",
   "execution_count": 32,
   "metadata": {},
   "outputs": [],
   "source": [
    "def densities_derivatives(rbins, psi_bins, interp_bins=100, profile='Hernquist'):\n",
    "    \"\"\"\n",
    "    Computes the derivatives of \n",
    "    \n",
    "    rbins : number of radial bins.\n",
    "    \n",
    "    psi_bins : psi binned.\n",
    "    \n",
    "    inter_bins : int\n",
    "        Values of the interpolated \n",
    "    \n",
    "    \n",
    "    \"\"\"\n",
    "    spl1 = InterpolatedUnivariateSpline(rbins, psi_bins)\n",
    "\n",
    "    # interpolating in the radial bins.  \n",
    "    rbins_hr = np.linspace(min(rbins), max(rbins), interp_bins)\n",
    "    #nu_tracer_hr = spl1(rbins_hr)\n",
    "    nu_tracer=rho_tracers(rbins_hr, 2.82E10, profile, [3])/2.82E10\n",
    "    psi_hr = spl1(rbins_hr)\n",
    "\n",
    "    # First derivative.\n",
    "    dnu_dpsi = np.gradient(nu_tracer, psi_hr)\n",
    "    #spl3 = interp1d(rbins, dnu_dpsi, kind='cubic')\n",
    "    #dnu_dpsi_hr = spl3(rbins_hr)\n",
    "\n",
    "    # second derivative\n",
    "    #dnu2_dpsi2 = np.gradient(dnu_dpsi, psi2)\n",
    "    \n",
    "    # smoothing first derivative\n",
    "    #dnu_dpsi_smooth = savitzky_golay(dnu_dpsi, 5, 3)\n",
    "    dnu2_dpsi2 = np.gradient(dnu_dpsi, psi_hr)\n",
    "    # smoothing second derivative\n",
    "    #dnu2_dpsi2_smooth = savitzky_golay(dnu2_dpsi2, 5, 3)\n",
    "\n",
    "    return rbins_hr, nu_tracer, psi_hr, dnu_dpsi, dnu2_dpsi2"
   ]
  },
  {
   "cell_type": "code",
   "execution_count": 33,
   "metadata": {},
   "outputs": [],
   "source": [
    "def distribution_function(psi, dnu2_dpsi2, epsilon):\n",
    "    \"\"\"\n",
    "    psi : relative potential\n",
    "    \n",
    "    dnu2_dpsi2 : second derivative of the tracers density with respect to\n",
    "                 the relative potential.\n",
    "    epsilon : Energy of the particles.\n",
    "    \n",
    "    \n",
    "    return:\n",
    "    -------\n",
    "    \n",
    "    df : numpy.array\n",
    "        Distribution function.\n",
    "        \n",
    "        \n",
    "    \"\"\"\n",
    "    \n",
    "    assert len(epsilon)<len(psi), 'Hey'\n",
    "    \n",
    "    factor = 1/(np.sqrt(8)*np.pi**2)\n",
    "    dpsi = np.zeros(len(psi))\n",
    "    for i in range(1,len(dpsi)):\n",
    "        dpsi[i] = np.abs(psi[i]-psi[i-1]) \n",
    "    df = np.zeros(len(epsilon))\n",
    "    \n",
    "    for i in range(len(epsilon)):\n",
    "        index = np.where(psi<epsilon[i])[0] \n",
    "        #print(len(index))\n",
    "        #print(len(index))\n",
    "        if len(index)==0:\n",
    "            df[i]=0\n",
    "        else:\n",
    "            df[i] = np.sum(dpsi[index]/(np.sqrt(epsilon[i] - psi[index])) * dnu2_dpsi2[index])\n",
    "            assert df[i]>=0, 'df with negative values, something is wrong.'\n",
    "        \n",
    "    return factor*df\n",
    "    "
   ]
  },
  {
   "cell_type": "code",
   "execution_count": 34,
   "metadata": {},
   "outputs": [],
   "source": [
    "def df_hernquist(E, a, M,  G=4.30071e-6):\n",
    "    \"\"\"\n",
    "    Computes the analytic DF for a Henrquist halo.\n",
    "    See equation 4.51 in Binney & Tremaine page 290.\n",
    "    \n",
    "    Parameters:\n",
    "    -----------\n",
    "    \n",
    "    Epsilon : numpy.array\n",
    "        Relative energy in (Km/s)**2, Epsion : - E = \\Psi -1/2v^2 \n",
    "    a : float\n",
    "       Hernquist scale radius.\n",
    "    M : Float\n",
    "        Mass of the halo in Msun.\n",
    "    \n",
    "    G : float \n",
    "        Gravitational constant i units of Kpc*(Km/s)**2 / Msun\n",
    "        \n",
    "        \n",
    "    \n",
    "    \n",
    "    \"\"\"\n",
    "    \n",
    "    eps = E*a/(G*M)\n",
    "    #print(eps)\n",
    "    constants = 1/((2*np.pi)**3 * (G*M*a)**(3/2.))\n",
    "    factor1 = np.sqrt(eps)/(1-eps)**2\n",
    "    factor2 = (1-2*eps)*(8*eps**2-8*eps-3) + 3*np.arcsin(np.sqrt(eps))/np.sqrt(eps*(1-eps))\n",
    "    \n",
    "    return constants*factor1*factor2"
   ]
  },
  {
   "cell_type": "code",
   "execution_count": 15,
   "metadata": {},
   "outputs": [],
   "source": [
    "df_h = df_hernquist(eps_edges, 3, 2.82E10 )"
   ]
  },
  {
   "cell_type": "code",
   "execution_count": 16,
   "metadata": {},
   "outputs": [
    {
     "data": {
      "text/plain": [
       "Text(0.5,1,'$M=2.82 \\\\times 10^{10} M_{\\\\odot}, \\\\ a=3 kpc$')"
      ]
     },
     "execution_count": 16,
     "metadata": {},
     "output_type": "execute_result"
    },
    {
     "data": {
      "image/png": "[encoded data removed]",
      "text/plain": [
       "<matplotlib.figure.Figure at 0x7f8678599f60>"
      ]
     },
     "metadata": {},
     "output_type": "display_data"
    }
   ],
   "source": [
    "semilogy(eps_edges*3/(2.82E10*4.30071e-6), df_h*(2.82E10*4.30071e-6*3)**(3/2.), c='k', lw=2, label='Hernquist DF')\n",
    "xlabel(r'$\\mathcal{E} a / (GM)$')\n",
    "ylabel(r'$(GMa)^{3/2} f$')\n",
    "xlim(0, 1)\n",
    "legend()\n",
    "title(r'$M=2.82 \\times 10^{10} M_{\\odot}, \\ a=3 kpc$')\n",
    "\n",
    "## Consistent with figure 4.2 in Binney and Tramaine.\n",
    "## Using the energies from the DM particle of the N-body simulation"
   ]
  },
  {
   "cell_type": "code",
   "execution_count": 17,
   "metadata": {},
   "outputs": [],
   "source": [
    "def analytic_nu_derivatives(nu, Psi, a, M, G=4.30071e-6):\n",
    "    \"\"\"\n",
    "    Computes de analytic derivatives of a Hernquist number density profile.\n",
    "    Uses the equations 4.49 and 4.50 in Binney and Tremaine Ed 2.\n",
    "    \n",
    "    Parameters:\n",
    "    nu : numpy.array\n",
    "        density of the tracers\n",
    "        \n",
    "    Psi : numpy.array\n",
    "        Relative potential of the particles.\n",
    "    \n",
    "    \"\"\"\n",
    "    Psi_tilde = Psi*a/(G*M)\n",
    "    factor = 1/(2*np.pi*a**2*G*M)\n",
    "    dnu_dpsi_a = factor * (Psi_tilde**3 * (4-3*Psi_tilde)) / (1-Psi_tilde)**2\n",
    "    dnu2_dpsi2_a = factor/(G*M) * (2*Psi_tilde**2)*(6-8*Psi_tilde + 3*Psi_tilde**2)/(1-Psi_tilde)**3\n",
    "    \n",
    "    return Psi_tilde, dnu_dpsi_a, dnu2_dpsi2_a\n",
    "    "
   ]
  },
  {
   "cell_type": "code",
   "execution_count": 22,
   "metadata": {},
   "outputs": [
    {
     "ename": "NameError",
     "evalue": "name 'nu_tracer' is not defined",
     "output_type": "error",
     "traceback": [
      "\u001b[0;31m---------------------------------------------------------------------------\u001b[0m",
      "\u001b[0;31mNameError\u001b[0m                                 Traceback (most recent call last)",
      "\u001b[0;32m<ipython-input-22-1880bb5c8243>\u001b[0m in \u001b[0;36m<module>\u001b[0;34m()\u001b[0m\n\u001b[0;32m----> 1\u001b[0;31m \u001b[0mpsi_a\u001b[0m\u001b[0;34m,\u001b[0m \u001b[0mdnu_dpsi_a\u001b[0m\u001b[0;34m,\u001b[0m \u001b[0mdnu2_dpsi2_a\u001b[0m \u001b[0;34m=\u001b[0m \u001b[0manalytic_nu_derivatives\u001b[0m\u001b[0;34m(\u001b[0m\u001b[0mnu_tracer\u001b[0m\u001b[0;34m,\u001b[0m \u001b[0mpsi_hr\u001b[0m\u001b[0;34m,\u001b[0m \u001b[0ma\u001b[0m\u001b[0;34m=\u001b[0m\u001b[0;36m3\u001b[0m\u001b[0;34m,\u001b[0m \u001b[0mM\u001b[0m\u001b[0;34m=\u001b[0m\u001b[0;36m2.82E10\u001b[0m\u001b[0;34m)\u001b[0m\u001b[0;34m\u001b[0m\u001b[0m\n\u001b[0m",
      "\u001b[0;31mNameError\u001b[0m: name 'nu_tracer' is not defined"
     ]
    }
   ],
   "source": [
    "psi_a, dnu_dpsi_a, dnu2_dpsi2_a = analytic_nu_derivatives(nu_tracer, psi_hr, a=3, M=2.82E10)"
   ]
  },
  {
   "cell_type": "code",
   "execution_count": 20,
   "metadata": {},
   "outputs": [
    {
     "data": {
      "text/plain": [
       "[<matplotlib.lines.Line2D at 0x7f4303b286a0>]"
      ]
     },
     "execution_count": 20,
     "metadata": {},
     "output_type": "execute_result"
    },
    {
     "data": {
      "image/png": "[encoded data removed]",
      "text/plain": [
       "<matplotlib.figure.Figure at 0x7f4303ab2c18>"
      ]
     },
     "metadata": {},
     "output_type": "display_data"
    }
   ],
   "source": [
    "loglog(psi_a, nu_tracer)\n",
    "loglog(psi_a, dnu_dpsi_a)\n",
    "loglog(psi_a, dnu2_dpsi2_a)"
   ]
  },
  {
   "cell_type": "code",
   "execution_count": 11,
   "metadata": {
    "scrolled": true
   },
   "outputs": [
    {
     "name": "stdout",
     "output_type": "stream",
     "text": [
      "Returning DM    Positions\n",
      "Returning DM    Velocities\n",
      "Returning DM    Mass\n",
      "Returning DM    Potential\n",
      "Returning DM    Particle IDs\n"
     ]
    }
   ],
   "source": [
    "snapshot = './halos/LMC1_97K_vir_000'\n",
    "\n",
    "\n",
    "pp = readsnap(snapshot, 'pos', 'dm')\n",
    "vv = readsnap(snapshot, 'vel', 'dm')\n",
    "mass = readsnap(snapshot, 'mass', 'dm')\n",
    "Epp = readsnap(snapshot, 'pot', 'dm')\n",
    "ids = readsnap(snapshot, 'pid', 'dm')\n",
    "\n",
    "\n",
    "r = np.sqrt(pp[:,0]**2+pp[:,1]**2+pp[:,2]**2)\n",
    "\n",
    "# truncating the halo\n",
    "\n",
    "r_cut = index = np.where(r<100)[0]\n",
    "\n",
    "pp = pp[r_cut]\n",
    "r = r[r_cut]\n",
    "vv = vv[r_cut]\n",
    "mass = mass[r_cut]\n",
    "Epp = Epp[r_cut]\n",
    "ids = ids[r_cut]\n",
    "\n",
    "v = np.sqrt(vv[:,0]**2 + vv[:,1]**2 + vv[:,2]**2)\n"
   ]
  },
  {
   "cell_type": "code",
   "execution_count": 12,
   "metadata": {},
   "outputs": [],
   "source": [
    "## Energies:\n",
    "\n",
    "#r_interp, pot_interp, psi, Hist_E, Edges, Histo_epsilon, epsedges"
   ]
  },
  {
   "cell_type": "code",
   "execution_count": 23,
   "metadata": {},
   "outputs": [],
   "source": [
    "rbins, pot, psi, E, Histo_E, Edges, Histo_epsilon, eps_edges = energies(r, Epp, v, 1000, 100)"
   ]
  },
  {
   "cell_type": "code",
   "execution_count": 25,
   "metadata": {},
   "outputs": [
    {
     "data": {
      "text/plain": [
       "[<matplotlib.lines.Line2D at 0x7f867647e2b0>]"
      ]
     },
     "execution_count": 25,
     "metadata": {},
     "output_type": "execute_result"
    },
    {
     "data": {
      "image/png": "[encoded data removed]",
      "text/plain": [
       "<matplotlib.figure.Figure at 0x7f86764a97b8>"
      ]
     },
     "metadata": {},
     "output_type": "display_data"
    }
   ],
   "source": [
    "# Something weird here!\n",
    "plot(eps_edges[:-1], Histo_epsilon) \n"
   ]
  },
  {
   "cell_type": "code",
   "execution_count": 35,
   "metadata": {},
   "outputs": [
    {
     "ename": "error",
     "evalue": "failed in converting 2nd argument `y' of dfitpack.fpcurf0 to C/Fortran array",
     "output_type": "error",
     "traceback": [
      "\u001b[0;31m---------------------------------------------------------------------------\u001b[0m",
      "\u001b[0;31merror\u001b[0m                                     Traceback (most recent call last)",
      "\u001b[0;32m<ipython-input-35-745e680ad6b4>\u001b[0m in \u001b[0;36m<module>\u001b[0;34m()\u001b[0m\n\u001b[1;32m      5\u001b[0m                                                                                          \u001b[0mpsi\u001b[0m\u001b[0;34m,\u001b[0m\u001b[0;34m\u001b[0m\u001b[0m\n\u001b[1;32m      6\u001b[0m                                                                                          \u001b[0minterp_bins\u001b[0m\u001b[0;34m=\u001b[0m\u001b[0mi\u001b[0m\u001b[0;34m,\u001b[0m\u001b[0;34m\u001b[0m\u001b[0m\n\u001b[0;32m----> 7\u001b[0;31m                                                                                          profile='Hernquist')\n\u001b[0m\u001b[1;32m      8\u001b[0m     \u001b[0msubplot\u001b[0m\u001b[0;34m(\u001b[0m\u001b[0;36m4\u001b[0m\u001b[0;34m,\u001b[0m \u001b[0;36m1\u001b[0m\u001b[0;34m,\u001b[0m \u001b[0;36m1\u001b[0m\u001b[0;34m)\u001b[0m\u001b[0;34m\u001b[0m\u001b[0m\n\u001b[1;32m      9\u001b[0m     \u001b[0mloglog\u001b[0m\u001b[0;34m(\u001b[0m\u001b[0mr_hr\u001b[0m\u001b[0;34m,\u001b[0m \u001b[0mnu_tracer\u001b[0m\u001b[0;34m)\u001b[0m\u001b[0;34m\u001b[0m\u001b[0m\n",
      "\u001b[0;32m<ipython-input-32-93ffa4da9ff4>\u001b[0m in \u001b[0;36mdensities_derivatives\u001b[0;34m(rbins, psi_bins, interp_bins, profile)\u001b[0m\n\u001b[1;32m     12\u001b[0m \u001b[0;34m\u001b[0m\u001b[0m\n\u001b[1;32m     13\u001b[0m     \"\"\"\n\u001b[0;32m---> 14\u001b[0;31m     \u001b[0mspl1\u001b[0m \u001b[0;34m=\u001b[0m \u001b[0mInterpolatedUnivariateSpline\u001b[0m\u001b[0;34m(\u001b[0m\u001b[0mrbins\u001b[0m\u001b[0;34m,\u001b[0m \u001b[0mpsi_bins\u001b[0m\u001b[0;34m)\u001b[0m\u001b[0;34m\u001b[0m\u001b[0m\n\u001b[0m\u001b[1;32m     15\u001b[0m \u001b[0;34m\u001b[0m\u001b[0m\n\u001b[1;32m     16\u001b[0m     \u001b[0;31m# interpolating in the radial bins.\u001b[0m\u001b[0;34m\u001b[0m\u001b[0;34m\u001b[0m\u001b[0m\n",
      "\u001b[0;32m/usr/local/lib/python3.5/dist-packages/scipy/interpolate/fitpack2.py\u001b[0m in \u001b[0;36m__init__\u001b[0;34m(self, x, y, w, bbox, k, ext, check_finite)\u001b[0m\n\u001b[1;32m    597\u001b[0m         \u001b[0;31m# _data == x,y,w,xb,xe,k,s,n,t,c,fp,fpint,nrdata,ier\u001b[0m\u001b[0;34m\u001b[0m\u001b[0;34m\u001b[0m\u001b[0m\n\u001b[1;32m    598\u001b[0m         self._data = dfitpack.fpcurf0(x,y,k,w=w,\n\u001b[0;32m--> 599\u001b[0;31m                                       xb=bbox[0],xe=bbox[1],s=0)\n\u001b[0m\u001b[1;32m    600\u001b[0m         \u001b[0mself\u001b[0m\u001b[0;34m.\u001b[0m\u001b[0m_reset_class\u001b[0m\u001b[0;34m(\u001b[0m\u001b[0;34m)\u001b[0m\u001b[0;34m\u001b[0m\u001b[0m\n\u001b[1;32m    601\u001b[0m \u001b[0;34m\u001b[0m\u001b[0m\n",
      "\u001b[0;31merror\u001b[0m: failed in converting 2nd argument `y' of dfitpack.fpcurf0 to C/Fortran array"
     ]
    },
    {
     "data": {
      "text/plain": [
       "<matplotlib.figure.Figure at 0x7f86764620f0>"
      ]
     },
     "metadata": {},
     "output_type": "display_data"
    }
   ],
   "source": [
    "figure(figsize=(6, 10))\n",
    "\n",
    "for i in range(10000, 12000, 500):\n",
    "    r_hr,  nu_tracer, psi_hr, dnu_dpsi_smooth, dnu2_dpsi2_smooth = densities_derivatives(rbins, \n",
    "                                                                                         psi, \n",
    "                                                                                         interp_bins=i,\n",
    "                                                                                         profile='Hernquist')\n",
    "    subplot(4, 1, 1)\n",
    "    loglog(r_hr, nu_tracer)\n",
    "    ylabel(r'$\\nu(r)$')\n",
    "    \n",
    "    subplot(4, 1, 2)\n",
    "    loglog(r_hr, psi_hr)\n",
    "    ylabel(r'$\\Psi(r)$')\n",
    "\n",
    "    subplot(4, 1, 3)\n",
    "    loglog(r_hr, dnu_dpsi_smooth)\n",
    "    ylabel(r'$\\frac{d\\nu}{d\\Psi}$')\n",
    "\n",
    "    subplot(4, 1, 4)\n",
    "    loglog(r_hr, dnu2_dpsi2_smooth)\n",
    "    ylabel(r'$\\frac{d^2\\nu}{d\\Psi^2}$')\n",
    "    xlabel(r'$r[kpc]$')\n",
    "    \n",
    "\n"
   ]
  },
  {
   "cell_type": "code",
   "execution_count": 69,
   "metadata": {},
   "outputs": [
    {
     "data": {
      "text/plain": [
       "Text(0,0.5,'$\\\\nu, d\\\\nu d\\\\Psi, d\\\\nu^2 d \\\\Psi^2$')"
      ]
     },
     "execution_count": 69,
     "metadata": {},
     "output_type": "execute_result"
    },
    {
     "data": {
      "image/png": "[encoded data removed]",
      "text/plain": [
       "<matplotlib.figure.Figure at 0x7f4303b459b0>"
      ]
     },
     "metadata": {},
     "output_type": "display_data"
    }
   ],
   "source": [
    "\n",
    "loglog(psi_a, nu_tracer, label=r'$\\nu$', ls='-', c='k')\n",
    "loglog(psi_a, dnu_dpsi_a, label=r'$d\\nu/d\\Psi$', ls='--', c='k')\n",
    "loglog(psi_a, dnu2_dpsi2_a, label=r'$d\\nu^2/d\\Psi^2$', ls=':', c='k')\n",
    "\n",
    "loglog(psi_a, dnu_dpsi_smooth, c='C9', ls='--')\n",
    "loglog(psi_a, dnu2_dpsi2_smooth, c='C9', ls=':')\n",
    "\n",
    "legend(fontsize=15)\n",
    "xlabel(r'$\\Psi$')\n",
    "ylabel(r'$\\nu, d\\nu d\\Psi, d\\nu^2 d \\Psi^2$')\n",
    "#savefig('derivatives_dnu_dpsi.pdf', bbox_inches='tight')\n",
    "\n"
   ]
  },
  {
   "cell_type": "code",
   "execution_count": 70,
   "metadata": {},
   "outputs": [
    {
     "name": "stdout",
     "output_type": "stream",
     "text": [
      "0\n",
      "0\n",
      "0\n",
      "0\n",
      "0\n",
      "1311\n",
      "3310\n",
      "4513\n",
      "5373\n",
      "6055\n",
      "6624\n",
      "7101\n",
      "7495\n",
      "7827\n",
      "8114\n",
      "8366\n",
      "8590\n",
      "8787\n",
      "8963\n",
      "9119\n",
      "9260\n",
      "9388\n",
      "9505\n",
      "9614\n",
      "9714\n",
      "9807\n",
      "9892\n",
      "9970\n",
      "10043\n",
      "10111\n",
      "10174\n",
      "10233\n",
      "10289\n",
      "10342\n",
      "10392\n",
      "10439\n",
      "10484\n",
      "10525\n",
      "10565\n",
      "10602\n",
      "10638\n",
      "10671\n",
      "10703\n",
      "10734\n",
      "10763\n",
      "10791\n",
      "10818\n",
      "10844\n",
      "10869\n",
      "10892\n",
      "10915\n",
      "10936\n",
      "10957\n",
      "10977\n",
      "10997\n",
      "11015\n",
      "11033\n",
      "11051\n",
      "11067\n",
      "11084\n",
      "11099\n",
      "11114\n",
      "11129\n",
      "11143\n",
      "11157\n",
      "11170\n",
      "11183\n",
      "11196\n",
      "11208\n",
      "11220\n",
      "11232\n",
      "11243\n",
      "11254\n",
      "11264\n",
      "11275\n",
      "11285\n",
      "11295\n",
      "11304\n",
      "11314\n",
      "11323\n",
      "11331\n",
      "11340\n",
      "11349\n",
      "11357\n",
      "11365\n",
      "11373\n",
      "11381\n",
      "11388\n",
      "11396\n",
      "11403\n",
      "11410\n",
      "11417\n",
      "11424\n",
      "11431\n",
      "11439\n",
      "11446\n",
      "11454\n",
      "11462\n",
      "11471\n",
      "11482\n",
      "11500\n"
     ]
    }
   ],
   "source": [
    "df = distribution_function(psi_hr, dnu2_dpsi2_smooth, eps_edges)"
   ]
  },
  {
   "cell_type": "code",
   "execution_count": 23,
   "metadata": {},
   "outputs": [
    {
     "data": {
      "image/png": "[encoded data removed]",
      "text/plain": [
       "<matplotlib.figure.Figure at 0x7f4303a3a240>"
      ]
     },
     "metadata": {},
     "output_type": "display_data"
    }
   ],
   "source": [
    "plt.semilogy(eps_edges*3/(2.82E10*4.30071e-6), (df*(2.82E10*4.30071e-6*3)**(3/2.)), c='C9', lw=2, label='Numerical DF')\n",
    "semilogy(eps_edges*3/(2.82E10*4.30071e-6), df_h*(2.82E10*4.30071e-6*3)**(3/2.), c='k', lw=2, label='Analytic DF')\n",
    "\n",
    "xlabel(r'$\\mathcal{E} a / (GM)$')\n",
    "ylabel(r'$(GMa)^{3/2} f$')\n",
    "xlim(0, 1)\n",
    "legend()\n",
    "\n",
    "savefig('DF_Hernquist.pdf', bbox_inches='tight')"
   ]
  },
  {
   "cell_type": "markdown",
   "metadata": {},
   "source": [
    "## Density of states:\n",
    "\n",
    "\\begin{equation}\n",
    "g(E) = (4\\pi)^2 \\int_0^{r_E} r^2 \\sqrt{2(E-\\Phi(r))} dr\n",
    "\\end{equation}"
   ]
  },
  {
   "cell_type": "code",
   "execution_count": 24,
   "metadata": {},
   "outputs": [],
   "source": [
    "def density_of_states(rbins, E, pot):\n",
    "    \"\"\"\n",
    "    Compute the density of states.\n",
    "    \n",
    "    g(E) = (4\\pi)^2 \\int_0^{r_E} r^2 \\sqrt{2(E-\\Phi(r))} dr\n",
    "    \n",
    "    Parameters:\n",
    "    -----------\n",
    "    rbins : numpy.array\n",
    "        Array with\n",
    "    E : numpy.array\n",
    "        Total Energy.\n",
    "    pot: numpy.array\n",
    "        Potential Energy.\n",
    "    \n",
    "    Returns:\n",
    "    --------\n",
    "    \n",
    "    g_E : numpy.array\n",
    "        Density of states.\n",
    "    \n",
    "    \"\"\"\n",
    "    \n",
    "    factor = (4*np.pi)**2\n",
    "    g_E = np.zeros(len(E))\n",
    "    \n",
    "    dr = np.zeros(len(rbins))\n",
    "    for i in range(1,len(dr)):\n",
    "        dr[i] = rbins[i]-rbins[i-1]\n",
    "        \n",
    "    \n",
    "    for i in range(len(E)):\n",
    "        index = np.where(pot<=E[i])[0]\n",
    "        if len(index)==0:\n",
    "            g_E[i] = 0\n",
    "            print('here')\n",
    "        else:\n",
    "            r = rbins[index]\n",
    "            g_E[i] = factor*np.sum(r**2 * np.sqrt(2*dr[index]*(E[i]-pot[index])))\n",
    "    \n",
    "    return g_E"
   ]
  },
  {
   "cell_type": "code",
   "execution_count": 25,
   "metadata": {},
   "outputs": [],
   "source": [
    "g_E = density_of_states(rbins, Edges, pot)"
   ]
  },
  {
   "cell_type": "code",
   "execution_count": 26,
   "metadata": {},
   "outputs": [
    {
     "data": {
      "image/png": "[encoded data removed]",
      "text/plain": [
       "<matplotlib.figure.Figure at 0x7f4303a3d208>"
      ]
     },
     "metadata": {},
     "output_type": "display_data"
    }
   ],
   "source": [
    "semilogy(-Edges, g_E, c='k')\n",
    "xlabel('-$E$')\n",
    "ylabel('$g(E)$')\n",
    "plt.savefig('gE.pdf', bbox_inches='tight')"
   ]
  },
  {
   "cell_type": "code",
   "execution_count": 55,
   "metadata": {},
   "outputs": [],
   "source": [
    "def differential_energy_distribution(hist_E, E_bins, m_part):\n",
    "    \"\"\"\n",
    "    Differential Energy distribution.\n",
    "    \n",
    "    N(E) = n / dE\n",
    "    \n",
    "    n : number of particles with energy [E, E+dE].\n",
    "    dE : Energy interval.\n",
    "    \n",
    "    Parameters:\n",
    "    -----------\n",
    "    hist_E : \n",
    "    \n",
    "    \"\"\"\n",
    "    N_E = np.zeros(len(hist_E))\n",
    "    for i in range(len(hist_E)):\n",
    "        dE = np.abs(E_bins[i+1]-E_bins[i])\n",
    "        N_E[i] = hist_E[i]*m_part / dE\n",
    "    \n",
    "    return N_E, savitzky_golay(N_E, 13, 3) # smoothing the curve"
   ]
  },
  {
   "cell_type": "code",
   "execution_count": 56,
   "metadata": {},
   "outputs": [],
   "source": [
    "Histo_E, smooth_Histo_E = differential_energy_distribution(Histo_E, Edges, mass[0]*1E10)"
   ]
  },
  {
   "cell_type": "code",
   "execution_count": 57,
   "metadata": {},
   "outputs": [
    {
     "data": {
      "image/png": "[encoded data removed]",
      "text/plain": [
       "<matplotlib.figure.Figure at 0x7f43034728d0>"
      ]
     },
     "metadata": {},
     "output_type": "display_data"
    }
   ],
   "source": [
    "semilogy(Edges[:-1], Histo_E, c='k', label='E binned')\n",
    "semilogy(Edges[:-1], smooth_Histo_E, c='C9', label='smoothed')\n",
    "xlabel('$E$')\n",
    "ylabel('$N(E)$')\n",
    "legend()\n",
    "plt.savefig('N_E.pdf', bbox_inches='tight')\n",
    "\n"
   ]
  },
  {
   "cell_type": "code",
   "execution_count": 61,
   "metadata": {},
   "outputs": [
    {
     "name": "stdout",
     "output_type": "stream",
     "text": [
      "100 101\n"
     ]
    }
   ],
   "source": [
    "print(len(smooth_Histo_E), len(g_E))"
   ]
  },
  {
   "cell_type": "code",
   "execution_count": 105,
   "metadata": {},
   "outputs": [],
   "source": [
    "def cast_weights(w, E_part, E_bins):\n",
    "    \"\"\"\n",
    "    Assigns weights to each DM particle.\n",
    "    For each energy bin it finds all the particles that\n",
    "    have that energy and give the weight corresponding to that\n",
    "    energy bin.\n",
    "    \n",
    "       \n",
    "    \"\"\"\n",
    "    part_weights = np.zeros(len(E_part))\n",
    "    for i in range(1,len(E_bins)):\n",
    "        index_part_E = np.where((E_part<E_bins[i]) & (E_part>=E_bins[i-1]))\n",
    "        part_weights[index_part_E] = w[i]\n",
    "        \n",
    "    return part_weights"
   ]
  },
  {
   "cell_type": "code",
   "execution_count": 112,
   "metadata": {},
   "outputs": [],
   "source": [
    "def weights(r, Epp, v, mp):\n",
    "    \"\"\"\n",
    "    Computes weights\n",
    "    \n",
    "    \n",
    "    \"\"\"\n",
    "    \n",
    "    print('Number of particles : ', len(r))\n",
    "    # Computes energies!\n",
    "    rbins, pot, psi, E, Histo_E, Edges, Histo_epsilon, eps_edges = energies(r, Epp, v, 1000, 100)\n",
    "    \n",
    "    # Computes N_E\n",
    "    Histo_E, N_E = differential_energy_distribution(Histo_E, Edges, mp)\n",
    "    \n",
    "    \n",
    "    # Density of states. size = len(Edges)\n",
    "    g_E = density_of_states(rbins, Edges, pot)\n",
    "    \n",
    "    #  Tracers densities derivatives.\n",
    "    r_hr,  nu_tracer, psi_hr, dnu_dpsi_smooth, dnu2_dpsi2_smooth = densities_derivatives(rbins, \n",
    "                                                                                         psi, \n",
    "                                                                                         interp_bins=10000,\n",
    "                                                                                         profile='Hernquist')\n",
    "    \n",
    "    # Distribution function (f size = interp_bins)\n",
    "    \n",
    "    f = distribution_function(psi_hr, dnu2_dpsi2_smooth, eps_edges)\n",
    "    \n",
    "    # Interpolating g(E) and N(E)\n",
    "    n_interp = 10000\n",
    "    E_edges_inter = np.linspace(min(Edges), max(Edges[:-1]), n_interp)\n",
    "    \n",
    "    g_E_interp = interp1d(Edges, g_E)\n",
    "    g_E_I = g_E_interp(E_edges_inter)\n",
    "    \n",
    "    N_E_interp = interp1d(Edges[:-1], N_E)\n",
    "    N_E_I = N_E_interp(E_edges_inter)\n",
    "    \n",
    "    f_E_interp = interp1d(-Edges, f)\n",
    "    f_E_I = f_E_interp(-E_edges_inter)\n",
    "    \n",
    "    #print(len(g_E_I), len(N_E_I), len(f_E_I))\n",
    "    \n",
    "    \n",
    "    # Weights\n",
    "    w = f_E_I[::-1] * g_E_I / N_E_I\n",
    "    \n",
    "    #w_p = cast_weights(w, E, E_edges)\n",
    "    #print(sum(w_p))\n",
    "    return w\n",
    "    "
   ]
  },
  {
   "cell_type": "code",
   "execution_count": 113,
   "metadata": {},
   "outputs": [
    {
     "name": "stdout",
     "output_type": "stream",
     "text": [
      "Number of particles :  91508\n"
     ]
    },
    {
     "ename": "error",
     "evalue": "failed in converting 2nd argument `y' of dfitpack.fpcurf0 to C/Fortran array",
     "output_type": "error",
     "traceback": [
      "\u001b[0;31m---------------------------------------------------------------------------\u001b[0m",
      "\u001b[0;31merror\u001b[0m                                     Traceback (most recent call last)",
      "\u001b[0;32m<ipython-input-113-09baadfa7c89>\u001b[0m in \u001b[0;36m<module>\u001b[0;34m()\u001b[0m\n\u001b[0;32m----> 1\u001b[0;31m \u001b[0mww\u001b[0m \u001b[0;34m=\u001b[0m \u001b[0mweights\u001b[0m\u001b[0;34m(\u001b[0m\u001b[0mr\u001b[0m\u001b[0;34m,\u001b[0m \u001b[0mEpp\u001b[0m\u001b[0;34m,\u001b[0m \u001b[0mv\u001b[0m\u001b[0;34m,\u001b[0m \u001b[0mmass\u001b[0m\u001b[0;34m[\u001b[0m\u001b[0;36m0\u001b[0m\u001b[0;34m]\u001b[0m\u001b[0;34m*\u001b[0m\u001b[0;36m1E10\u001b[0m\u001b[0;34m)\u001b[0m\u001b[0;34m\u001b[0m\u001b[0m\n\u001b[0m",
      "\u001b[0;32m<ipython-input-112-f4760b6935b9>\u001b[0m in \u001b[0;36mweights\u001b[0;34m(r, Epp, v, mp)\u001b[0m\n\u001b[1;32m     21\u001b[0m                                                                                          \u001b[0mpsi\u001b[0m\u001b[0;34m,\u001b[0m\u001b[0;34m\u001b[0m\u001b[0m\n\u001b[1;32m     22\u001b[0m                                                                                          \u001b[0minterp_bins\u001b[0m\u001b[0;34m=\u001b[0m\u001b[0;36m10000\u001b[0m\u001b[0;34m,\u001b[0m\u001b[0;34m\u001b[0m\u001b[0m\n\u001b[0;32m---> 23\u001b[0;31m                                                                                          profile='Hernquist')\n\u001b[0m\u001b[1;32m     24\u001b[0m \u001b[0;34m\u001b[0m\u001b[0m\n\u001b[1;32m     25\u001b[0m     \u001b[0;31m# Distribution function (f size = interp_bins)\u001b[0m\u001b[0;34m\u001b[0m\u001b[0;34m\u001b[0m\u001b[0m\n",
      "\u001b[0;32m<ipython-input-7-93ffa4da9ff4>\u001b[0m in \u001b[0;36mdensities_derivatives\u001b[0;34m(rbins, psi_bins, interp_bins, profile)\u001b[0m\n\u001b[1;32m     12\u001b[0m \u001b[0;34m\u001b[0m\u001b[0m\n\u001b[1;32m     13\u001b[0m     \"\"\"\n\u001b[0;32m---> 14\u001b[0;31m     \u001b[0mspl1\u001b[0m \u001b[0;34m=\u001b[0m \u001b[0mInterpolatedUnivariateSpline\u001b[0m\u001b[0;34m(\u001b[0m\u001b[0mrbins\u001b[0m\u001b[0;34m,\u001b[0m \u001b[0mpsi_bins\u001b[0m\u001b[0;34m)\u001b[0m\u001b[0;34m\u001b[0m\u001b[0m\n\u001b[0m\u001b[1;32m     15\u001b[0m \u001b[0;34m\u001b[0m\u001b[0m\n\u001b[1;32m     16\u001b[0m     \u001b[0;31m# interpolating in the radial bins.\u001b[0m\u001b[0;34m\u001b[0m\u001b[0;34m\u001b[0m\u001b[0m\n",
      "\u001b[0;32m/usr/local/lib/python3.5/dist-packages/scipy/interpolate/fitpack2.py\u001b[0m in \u001b[0;36m__init__\u001b[0;34m(self, x, y, w, bbox, k, ext, check_finite)\u001b[0m\n\u001b[1;32m    597\u001b[0m         \u001b[0;31m# _data == x,y,w,xb,xe,k,s,n,t,c,fp,fpint,nrdata,ier\u001b[0m\u001b[0;34m\u001b[0m\u001b[0;34m\u001b[0m\u001b[0m\n\u001b[1;32m    598\u001b[0m         self._data = dfitpack.fpcurf0(x,y,k,w=w,\n\u001b[0;32m--> 599\u001b[0;31m                                       xb=bbox[0],xe=bbox[1],s=0)\n\u001b[0m\u001b[1;32m    600\u001b[0m         \u001b[0mself\u001b[0m\u001b[0;34m.\u001b[0m\u001b[0m_reset_class\u001b[0m\u001b[0;34m(\u001b[0m\u001b[0;34m)\u001b[0m\u001b[0;34m\u001b[0m\u001b[0m\n\u001b[1;32m    601\u001b[0m \u001b[0;34m\u001b[0m\u001b[0m\n",
      "\u001b[0;31merror\u001b[0m: failed in converting 2nd argument `y' of dfitpack.fpcurf0 to C/Fortran array"
     ]
    }
   ],
   "source": [
    "ww = weights(r, Epp, v, mass[0]*1E10)"
   ]
  },
  {
   "cell_type": "code",
   "execution_count": 93,
   "metadata": {},
   "outputs": [
    {
     "data": {
      "text/plain": [
       "(array([  448.,  3284.,  5405.,   610.,   159.,     6.,    12.,    15.,\n",
       "           18.,    43.]),\n",
       " array([  0.00000000e+00,   6.21106576e-11,   1.24221315e-10,\n",
       "          1.86331973e-10,   2.48442630e-10,   3.10553288e-10,\n",
       "          3.72663945e-10,   4.34774603e-10,   4.96885261e-10,\n",
       "          5.58995918e-10,   6.21106576e-10]),\n",
       " <a list of 10 Patch objects>)"
      ]
     },
     "execution_count": 93,
     "metadata": {},
     "output_type": "execute_result"
    },
    {
     "data": {
      "image/png": "[encoded data removed]",
      "text/plain": [
       "<matplotlib.figure.Figure at 0x7f430141bf98>"
      ]
     },
     "metadata": {},
     "output_type": "display_data"
    }
   ],
   "source": [
    "hist(ww)"
   ]
  },
  {
   "cell_type": "code",
   "execution_count": 36,
   "metadata": {},
   "outputs": [
    {
     "ename": "NameError",
     "evalue": "name 'ww' is not defined",
     "output_type": "error",
     "traceback": [
      "\u001b[0;31m---------------------------------------------------------------------------\u001b[0m",
      "\u001b[0;31mNameError\u001b[0m                                 Traceback (most recent call last)",
      "\u001b[0;32m<ipython-input-36-65b6e994c4aa>\u001b[0m in \u001b[0;36m<module>\u001b[0;34m()\u001b[0m\n\u001b[0;32m----> 1\u001b[0;31m \u001b[0mlen\u001b[0m\u001b[0;34m(\u001b[0m\u001b[0mww\u001b[0m\u001b[0;34m)\u001b[0m\u001b[0;34m\u001b[0m\u001b[0m\n\u001b[0m",
      "\u001b[0;31mNameError\u001b[0m: name 'ww' is not defined"
     ]
    }
   ],
   "source": [
    "len(ww)"
   ]
  },
  {
   "cell_type": "code",
   "execution_count": null,
   "metadata": {},
   "outputs": [],
   "source": []
  }
 ],
 "metadata": {
  "kernelspec": {
   "display_name": "Python 3",
   "language": "python",
   "name": "python3"
  },
  "language_info": {
   "codemirror_mode": {
    "name": "ipython",
    "version": 3
   },
   "file_extension": ".py",
   "mimetype": "text/x-python",
   "name": "python",
   "nbconvert_exporter": "python",
   "pygments_lexer": "ipython3",
   "version": "3.5.2"
  }
 },
 "nbformat": 4,
 "nbformat_minor": 2
}
