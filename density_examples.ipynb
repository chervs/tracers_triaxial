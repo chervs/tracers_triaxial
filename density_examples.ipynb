{
 "cells": [
  {
   "cell_type": "code",
   "execution_count": 2,
   "metadata": {
    "collapsed": false
   },
   "outputs": [
    {
     "name": "stderr",
     "output_type": "stream",
     "text": [
      "/usr/local/lib/python3.4/dist-packages/matplotlib/__init__.py:841: UserWarning: Found matplotlib configuration in ~/.matplotlib/. To conform with the XDG base directory standard, this configuration location has been deprecated on Linux, and the new location is now /home/ngaravito/.config/matplotlib/. Please move your configuration there to ensure that matplotlib will continue to find it in the future.\n",
      "  _get_xdg_config_dir())\n"
     ]
    },
    {
     "name": "stdout",
     "output_type": "stream",
     "text": [
      "Populating the interactive namespace from numpy and matplotlib\n"
     ]
    },
    {
     "name": "stderr",
     "output_type": "stream",
     "text": [
      "/usr/local/lib/python3.4/dist-packages/matplotlib/__init__.py:1401: UserWarning:  This call to matplotlib.use() has no effect\n",
      "because the backend has already been chosen;\n",
      "matplotlib.use() must be called *before* pylab, matplotlib.pyplot,\n",
      "or matplotlib.backends is imported for the first time.\n",
      "\n",
      "  warnings.warn(_use_error_msg)\n"
     ]
    }
   ],
   "source": [
    "%pylab inline\n",
    "import os\n",
    "import sys\n",
    "\n",
    "module_path = os.path.abspath(os.path.join('./src/'))\n",
    "if module_path not in sys.path:\n",
    "    sys.path.append(module_path)\n",
    "\n",
    "import weights\n",
    "import tracers_properties\n",
    "from pygadgetreader import *\n",
    "import jellyfish"
   ]
  },
  {
   "cell_type": "code",
   "execution_count": 68,
   "metadata": {
    "collapsed": true
   },
   "outputs": [],
   "source": [
    "\n",
    "\n",
    "font = {'size':20, 'family':'serif'}\n",
    "matplotlib.rc('font', **font)\n",
    "\n"
   ]
  },
  {
   "cell_type": "markdown",
   "metadata": {},
   "source": [
    "# Loading snapshots"
   ]
  },
  {
   "cell_type": "code",
   "execution_count": 3,
   "metadata": {
    "collapsed": false
   },
   "outputs": [],
   "source": [
    "pp = readsnap('./halos/MWLMC6_100M_new_b0_2_000', 'pos', 'dm')\n",
    "vv = readsnap('./halos/MWLMC6_100M_new_b0_2_000', 'vel', 'dm')\n",
    "massarr = readsnap('./halos/MWLMC6_100M_new_b0_2_000', 'mass', 'dm')\n",
    "Epp = readsnap('./halos/MWLMC6_100M_new_b0_2_000', 'pot', 'dm')\n",
    "ids = readsnap('./halos/MWLMC6_100M_new_b0_2_000', 'pid', 'dm')"
   ]
  },
  {
   "cell_type": "code",
   "execution_count": 4,
   "metadata": {
    "collapsed": false
   },
   "outputs": [],
   "source": [
    "MW_pos, MW_vel, MW_pot, MW_ids = jellyfish.host_sat_particles(ids, [100000000, 20830000], 0, pp, vv, Epp, ids)"
   ]
  },
  {
   "cell_type": "code",
   "execution_count": 29,
   "metadata": {
    "collapsed": true
   },
   "outputs": [],
   "source": [
    "def rho_enclosed(r_posh, rmin, rmax, nbins):\n",
    "    r = np.linspace(rmin, rmax, nbins-1)\n",
    "    rho = np.zeros(nbins-1)\n",
    "\n",
    "    # Loop over the radial bins.\n",
    "    for i in range(1, len(r)):\n",
    "        indexh = np.where((r_posh<r[i]) & (r_posh>r[i-1]))[0]\n",
    "\n",
    "        rho[i-1] = (3*(len(indexh))) / (4*np.pi*r[i]**3)\n",
    "\n",
    "    return r, rho"
   ]
  },
  {
   "cell_type": "code",
   "execution_count": 5,
   "metadata": {
    "collapsed": false
   },
   "outputs": [],
   "source": [
    "rr=np.sqrt(MW_pos[:,0]**2+MW_pos[:,1]**2+MW_pos[:,2]**2)\n",
    "\n",
    "#rr=np.sqrt(pp[:,0]**2+pp[:,1]**2+pp[:,2]**2)\n",
    "\n",
    "r_cut = index = np.where((rr<150))[0]\n",
    "\n",
    "MW_pos = MW_pos[r_cut]\n",
    "rr = rr[r_cut]\n",
    "MW_vel = MW_vel[r_cut]\n",
    "#vv = vv[r_cut]\n",
    "#massarr = massarr[r_cut]\n",
    "#Epp = Epp[r_cut]\n",
    "MW_pot = MW_pot[r_cut]\n",
    "MW_ids = MW_ids[r_cut]"
   ]
  },
  {
   "cell_type": "code",
   "execution_count": 30,
   "metadata": {
    "collapsed": false
   },
   "outputs": [],
   "source": [
    "r_MW, rho_MW = rho_enclosed(rr, 1, 150, 100)"
   ]
  },
  {
   "cell_type": "code",
   "execution_count": 22,
   "metadata": {
    "collapsed": false
   },
   "outputs": [
    {
     "data": {
      "text/plain": [
       "[<matplotlib.lines.Line2D at 0x7efe34df1c18>]"
      ]
     },
     "execution_count": 22,
     "metadata": {},
     "output_type": "execute_result"
    },
    {
     "data": {
      "image/png": "[encoded data removed]",
      "text/plain": [
       "<matplotlib.figure.Figure at 0x7efe34d82b70>"
      ]
     },
     "metadata": {},
     "output_type": "display_data"
    }
   ],
   "source": [
    "plt.loglog(r_MW, rho_MW)"
   ]
  },
  {
   "cell_type": "code",
   "execution_count": 23,
   "metadata": {
    "collapsed": false
   },
   "outputs": [
    {
     "data": {
      "text/plain": [
       "(array([    26335.,    112005.,    325178.,    799607.,   1803217.,\n",
       "          3782408.,   7072332.,  11447127.,  16336085.,  20195711.]),\n",
       " array([-308561.71875   , -281637.37382813, -254713.02890625,\n",
       "        -227788.68398438, -200864.3390625 , -173939.99414062,\n",
       "        -147015.64921875, -120091.30429687,  -93166.959375  ,\n",
       "         -66242.61445313,  -39318.26953125]),\n",
       " <a list of 10 Patch objects>)"
      ]
     },
     "execution_count": 23,
     "metadata": {},
     "output_type": "execute_result"
    },
    {
     "data": {
      "image/png": "[encoded data removed]",
      "text/plain": [
       "<matplotlib.figure.Figure at 0x7efe34c364a8>"
      ]
     },
     "metadata": {},
     "output_type": "display_data"
    }
   ],
   "source": [
    "hist(MW_pot)"
   ]
  },
  {
   "cell_type": "code",
   "execution_count": 42,
   "metadata": {
    "collapsed": false
   },
   "outputs": [],
   "source": [
    "partmass=massarr[0]*1e10 #generated the halo particles as \"bulge\"-type in Gadget file\n",
    "v2=MW_vel[:,0]**2+MW_vel[:,1]**2+MW_vel[:,2]**2\n",
    "#v2=vv[:,0]**2+vv[:,1]**2+vv[:,2]**2\n",
    "\n",
    "Ekk=0.5*v2\n",
    "\n",
    "a=15\n",
    "r_profiles = np.linspace(1, 150, 500-1)\n",
    "weights_plum, w_ids_plum = weights.weight_triaxial(rr, Ekk, MW_pot, MW_ids, partmass, 0.5, 100, 1, 'Plummer', [a])\n",
    "weights_hern, w_ids_hern = weights.weight_triaxial(rr, Ekk, MW_pot, MW_ids, partmass, 0.5, 100, 1, 'Hernquist', [a])"
   ]
  },
  {
   "cell_type": "code",
   "execution_count": 43,
   "metadata": {
    "collapsed": true
   },
   "outputs": [],
   "source": [
    "r_profiles = np.linspace(1, 150, 100-1)\n"
   ]
  },
  {
   "cell_type": "code",
   "execution_count": 44,
   "metadata": {
    "collapsed": true
   },
   "outputs": [],
   "source": [
    "density_plum = tracers_properties.den_tracers(weights_plum, w_ids_plum, rr, massarr, 100, 150)\n",
    "density_hern = tracers_properties.den_tracers(weights_hern, w_ids_hern, rr, massarr, 100, 150)"
   ]
  },
  {
   "cell_type": "code",
   "execution_count": 45,
   "metadata": {
    "collapsed": false
   },
   "outputs": [
    {
     "data": {
      "text/plain": [
       "[<matplotlib.lines.Line2D at 0x7fb76c0eaf60>]"
      ]
     },
     "execution_count": 45,
     "metadata": {},
     "output_type": "execute_result"
    },
    {
     "data": {
      "image/png": "[encoded data removed]",
      "text/plain": [
       "<matplotlib.figure.Figure at 0x7fb76c26b7f0>"
      ]
     },
     "metadata": {},
     "output_type": "display_data"
    }
   ],
   "source": [
    "plt.loglog(r_profiles, density_plum*80)\n",
    "plt.loglog(r_profiles, density_hern*80)\n",
    "\n",
    "plt.loglog(r_MW, rho_MW)"
   ]
  },
  {
   "cell_type": "code",
   "execution_count": 46,
   "metadata": {
    "collapsed": false
   },
   "outputs": [],
   "source": [
    "pp_fut= readsnap('./halos/MWLMC6_100M_new_b0_2_111', 'pos', 'dm')\n",
    "massarr_fut= readsnap('./halos/MWLMC6_100M_new_b0_2_111', 'mass', 'dm')\n",
    "ids_fut = readsnap('./halos/MWLMC6_100M_new_b0_2_111', 'pid', 'dm')\n",
    "\n"
   ]
  },
  {
   "cell_type": "code",
   "execution_count": 47,
   "metadata": {
    "collapsed": false
   },
   "outputs": [],
   "source": [
    "MW_pos_fut, MW_ids = jellyfish.host_sat_particles(ids, [100000000, 20830000], 0, pp_fut, ids_fut)"
   ]
  },
  {
   "cell_type": "code",
   "execution_count": 48,
   "metadata": {
    "collapsed": true
   },
   "outputs": [],
   "source": [
    "rr_fut=np.sqrt(MW_pos_fut[:,0]**2+MW_pos_fut[:,1]**2+MW_pos_fut[:,2]**2)\n"
   ]
  },
  {
   "cell_type": "code",
   "execution_count": 49,
   "metadata": {
    "collapsed": false
   },
   "outputs": [],
   "source": [
    "r_MW_fut, rho_MW_fut = rho_enclosed(rr_fut, 1, 150, 100)"
   ]
  },
  {
   "cell_type": "code",
   "execution_count": 50,
   "metadata": {
    "collapsed": false
   },
   "outputs": [
    {
     "data": {
      "text/plain": [
       "[<matplotlib.lines.Line2D at 0x7fb76bf6d630>]"
      ]
     },
     "execution_count": 50,
     "metadata": {},
     "output_type": "execute_result"
    },
    {
     "data": {
      "image/png": "[encoded data removed]",
      "text/plain": [
       "<matplotlib.figure.Figure at 0x7fb76c5077b8>"
      ]
     },
     "metadata": {},
     "output_type": "display_data"
    }
   ],
   "source": [
    "plt.loglog(r_MW, rho_MW)\n",
    "plt.loglog(r_MW_fut, rho_MW_fut)"
   ]
  },
  {
   "cell_type": "code",
   "execution_count": null,
   "metadata": {
    "collapsed": false
   },
   "outputs": [],
   "source": []
  },
  {
   "cell_type": "code",
   "execution_count": 51,
   "metadata": {
    "collapsed": false
   },
   "outputs": [],
   "source": [
    "density_plum_fut = tracers_properties.den_tracers(weights_plum, w_ids_plum, rr_fut, partmass, 100, 150)"
   ]
  },
  {
   "cell_type": "code",
   "execution_count": 80,
   "metadata": {
    "collapsed": false
   },
   "outputs": [
    {
     "data": {
      "image/png": "[encoded data removed]",
      "text/plain": [
       "<matplotlib.figure.Figure at 0x7fb77c94d240>"
      ]
     },
     "metadata": {},
     "output_type": "display_data"
    }
   ],
   "source": [
    "figure(figsize=(6, 4.5))\n",
    "plt.loglog(r_profiles, density_plum_fut/np.max(density_plum_fut), c='purple', ls='--', lw=2.5, label=r'$\\rho_{*, present}$')\n",
    "plt.loglog(r_profiles, density_plum/np.max(density_plum), c='purple', lw=2.5, label=r'$\\rho_{*, initial}$')\n",
    "plt.loglog(r_MW, rho_MW/np.max(rho_MW), c='k', lw=2.5, label=r'$\\rho_{DM, present}$')\n",
    "plt.loglog(r_MW_fut, rho_MW_fut/np.max(rho_MW_fut), c='k', ls='--', lw=2.5, label=r'$\\rho_{DM, initial}$')\n",
    "legend()\n",
    "xlabel('$r[Kpc]$', fontsize=20)\n",
    "ylabel(r'$\\rho$', fontsize=20)\n",
    "plt.savefig('density_profiles_tracers.pdf', bbox_inches='tight', dpi=300)"
   ]
  },
  {
   "cell_type": "code",
   "execution_count": 74,
   "metadata": {
    "collapsed": true
   },
   "outputs": [],
   "source": [
    "savefig?"
   ]
  },
  {
   "cell_type": "markdown",
   "metadata": {},
   "source": [
    "## DM halo density profile"
   ]
  },
  {
   "cell_type": "code",
   "execution_count": null,
   "metadata": {
    "collapsed": false
   },
   "outputs": [],
   "source": [
    "\n"
   ]
  },
  {
   "cell_type": "code",
   "execution_count": null,
   "metadata": {
    "collapsed": true
   },
   "outputs": [],
   "source": [
    "r_dm, rho_dm = rho_enclosed(rr, 1, 150, 500)"
   ]
  },
  {
   "cell_type": "code",
   "execution_count": null,
   "metadata": {
    "collapsed": false
   },
   "outputs": [],
   "source": [
    "plt.loglogglog(r_dm, rho_dm)"
   ]
  },
  {
   "cell_type": "code",
   "execution_count": null,
   "metadata": {
    "collapsed": false
   },
   "outputs": [],
   "source": [
    "loglog(r_profiles[:-1], density_plum[:-1])\n",
    "loglog(r_profiles, density_plum_lr)\n",
    "loglog(r_profiles, teo_plummer, label='Teo')\n",
    "\n",
    "legend()"
   ]
  }
 ],
 "metadata": {
  "kernelspec": {
   "display_name": "Python 3",
   "language": "python",
   "name": "python3"
  }
 },
 "nbformat": 4,
 "nbformat_minor": 0
}
