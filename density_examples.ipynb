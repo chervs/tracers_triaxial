{
 "cells": [
  {
   "cell_type": "code",
   "execution_count": 1,
   "metadata": {
    "collapsed": false
   },
   "outputs": [
    {
     "name": "stderr",
     "output_type": "stream",
     "text": [
      "/usr/local/lib/python3.4/dist-packages/matplotlib/__init__.py:841: UserWarning: Found matplotlib configuration in ~/.matplotlib/. To conform with the XDG base directory standard, this configuration location has been deprecated on Linux, and the new location is now /home/ngaravito/.config/matplotlib/. Please move your configuration there to ensure that matplotlib will continue to find it in the future.\n",
      "  _get_xdg_config_dir())\n"
     ]
    },
    {
     "name": "stdout",
     "output_type": "stream",
     "text": [
      "Populating the interactive namespace from numpy and matplotlib\n"
     ]
    }
   ],
   "source": [
    "%pylab inline\n",
    "import os\n",
    "import sys\n",
    "\n",
    "module_path = os.path.abspath(os.path.join('./src/'))\n",
    "if module_path not in sys.path:\n",
    "    sys.path.append(module_path)\n",
    "    \n",
    "import weights\n",
    "import tracers_properties\n",
    "from pygadgetreader import *\n",
    "import soda"
   ]
  },
  {
   "cell_type": "code",
   "execution_count": 2,
   "metadata": {
    "collapsed": false
   },
   "outputs": [
    {
     "name": "stdout",
     "output_type": "stream",
     "text": [
      "Returning DM    Positions\n",
      "Returning DM    Velocities\n",
      "Returning DM    Mass\n",
      "Returning DM    Potential\n",
      "Returning DM    Particle IDs\n"
     ]
    }
   ],
   "source": [
    "pp= readsnap('./halos/LMC6_6.25M_vir_000', 'pos', 'dm')\n",
    "vv= readsnap('./halos/LMC6_6.25M_vir_000', 'vel', 'dm')\n",
    "\n",
    "massarr= readsnap('./halos/LMC6_6.25M_vir_000', 'mass', 'dm')\n",
    "Epp = readsnap('./halos/LMC6_6.25M_vir_000', 'pot', 'dm')\n",
    "ids = readsnap('./halos/LMC6_6.25M_vir_000', 'pid', 'dm')\n",
    "rr=np.sqrt(pp[:,0]**2+pp[:,1]**2+pp[:,2]**2)\n",
    "\n",
    "\n",
    "r_cut = index = np.where(rr<50)[0]\n",
    "\n",
    "pp = pp[r_cut]\n",
    "rr = rr[r_cut]\n",
    "vv = vv[r_cut]\n",
    "\n",
    "massarr = massarr[r_cut]\n",
    "Epp = Epp[r_cut]\n",
    "ids = ids[r_cut]"
   ]
  },
  {
   "cell_type": "code",
   "execution_count": 3,
   "metadata": {
    "collapsed": false
   },
   "outputs": [],
   "source": [
    "partmass=massarr[3]*1e10 #generated the halo particles as \"bulge\"-type in Gadget file\n",
    "a=0.5\n",
    "v2=vv[:,0]**2+vv[:,1]**2+vv[:,2]**2\n",
    "Ekk=0.5*v2\n",
    "\n"
   ]
  },
  {
   "cell_type": "code",
   "execution_count": 4,
   "metadata": {
    "collapsed": false
   },
   "outputs": [],
   "source": [
    "r_profiles = np.linspace(1, 50, 1000)\n"
   ]
  },
  {
   "cell_type": "code",
   "execution_count": 5,
   "metadata": {
    "collapsed": false
   },
   "outputs": [
    {
     "name": "stderr",
     "output_type": "stream",
     "text": [
      "/home/ngaravito/work/github/tracers_triaxial/src/weights.py:151: RuntimeWarning: divide by zero encountered in true_divide\n",
      "  Weights=distribution_function[indsort[::-1]]/((Histo_M)/density_of_states)\n"
     ]
    },
    {
     "name": "stdout",
     "output_type": "stream",
     "text": [
      "-3.29252342474\n"
     ]
    },
    {
     "name": "stderr",
     "output_type": "stream",
     "text": [
      "/home/ngaravito/work/github/tracers_triaxial/src/tracers_properties.py:65: RuntimeWarning: divide by zero encountered in true_divide\n",
      "  density = mass_bins/shells\n"
     ]
    }
   ],
   "source": [
    "weights_plum, w_ids = weights.weight_triaxial(rr,Ekk,Epp,ids,partmass,0.01, 50, 1, 'Plummer', [5])\n",
    "density_plum = tracers_properties.den_tracers(weights_plum, ids, w_ids, rr, massarr, 1000)\n"
   ]
  },
  {
   "cell_type": "code",
   "execution_count": 6,
   "metadata": {
    "collapsed": false
   },
   "outputs": [
    {
     "name": "stdout",
     "output_type": "stream",
     "text": [
      "2762805 2762805\n"
     ]
    }
   ],
   "source": [
    "print(len(ids), len(w_ids))"
   ]
  },
  {
   "cell_type": "code",
   "execution_count": 7,
   "metadata": {
    "collapsed": false
   },
   "outputs": [
    {
     "data": {
      "text/plain": [
       "array([ 0.03760601,  0.04358867,  0.04182606, ..., -0.        ,\n",
       "       -0.        , -0.        ])"
      ]
     },
     "execution_count": 7,
     "metadata": {},
     "output_type": "execute_result"
    }
   ],
   "source": [
    "weights_plum"
   ]
  },
  {
   "cell_type": "code",
   "execution_count": 8,
   "metadata": {
    "collapsed": false
   },
   "outputs": [
    {
     "data": {
      "text/plain": [
       "array([  1.10704985e-03,   1.59304203e-03,   2.02624654e-03,\n",
       "         1.88701446e-03,   2.43305416e-03,   2.60733082e-03,\n",
       "         2.92949227e-03,   2.74943160e-03,   2.56464574e-03,\n",
       "         2.64772735e-03,   2.79562379e-03,   2.54909165e-03,\n",
       "         2.50448376e-03,   2.48821887e-03,   2.30561168e-03,\n",
       "         2.38038018e-03,   2.26621355e-03,   2.22035482e-03,\n",
       "         2.17645267e-03,   1.98920142e-03,   1.96104069e-03,\n",
       "         2.03262720e-03,   1.98476419e-03,   1.83482697e-03,\n",
       "         1.84885488e-03,   1.78066215e-03,   1.72287513e-03,\n",
       "         1.64940704e-03,   1.63122921e-03,   1.60919340e-03,\n",
       "         1.48261908e-03,   1.60896670e-03,   1.53789670e-03,\n",
       "         1.40570088e-03,   1.45052610e-03,   1.35949188e-03,\n",
       "         1.34404347e-03,   1.29496087e-03,   1.22441083e-03,\n",
       "         1.21759072e-03,   1.21307143e-03,   1.09864903e-03,\n",
       "         1.19552371e-03,   1.09438339e-03,   1.08285480e-03,\n",
       "         1.06627730e-03,   1.08018428e-03,   9.87039499e-04,\n",
       "         9.74615214e-04,   9.58190800e-04,   9.43743084e-04,\n",
       "         9.01425604e-04,   9.00124210e-04,   9.01988870e-04,\n",
       "         8.59152928e-04,   8.19797817e-04,   8.18790878e-04,\n",
       "         8.34527762e-04,   8.05210540e-04,   7.52206693e-04,\n",
       "         7.65651131e-04,   7.43952008e-04,   7.01860331e-04,\n",
       "         6.93778288e-04,   6.79157437e-04,   6.61368252e-04,\n",
       "         6.45755527e-04,   6.31612921e-04,   6.38410927e-04,\n",
       "         6.07635419e-04,   6.03477666e-04,   5.90839767e-04,\n",
       "         5.94001827e-04,   5.39450032e-04,   5.61719973e-04,\n",
       "         5.28208588e-04,   5.42603707e-04,   5.35884944e-04,\n",
       "         5.33406900e-04,   5.08649428e-04,   4.80099559e-04,\n",
       "         4.87075519e-04,   4.72934358e-04,   4.66165416e-04,\n",
       "         4.37781246e-04,   4.34693755e-04,   4.42677965e-04,\n",
       "         4.18746852e-04,   4.12448614e-04,   4.02169797e-04,\n",
       "         3.86870871e-04,   3.97184518e-04,   3.91210814e-04,\n",
       "         3.60964486e-04,   3.60872424e-04,   3.48974160e-04,\n",
       "         3.43939485e-04,   3.50347365e-04,   3.48781983e-04,\n",
       "         3.06996301e-04,   3.19845216e-04,   3.27268903e-04,\n",
       "         3.23564067e-04,   3.03700313e-04,   2.99200517e-04,\n",
       "         2.81140562e-04,   2.71238946e-04,   2.90030078e-04,\n",
       "         2.77924731e-04,   2.80476449e-04,   2.63190974e-04,\n",
       "         2.66437490e-04,   2.48268088e-04,   2.39805827e-04,\n",
       "         2.38450973e-04,   2.36428467e-04,   2.32501907e-04,\n",
       "         2.22187331e-04,   2.21222510e-04,   2.25839471e-04,\n",
       "         2.22786035e-04,   2.00067948e-04,   2.04566585e-04,\n",
       "         1.95214626e-04,   1.92518858e-04,   1.92197265e-04,\n",
       "         1.92785797e-04,   1.85106798e-04,   1.79597515e-04,\n",
       "         1.79484113e-04,   1.69474207e-04,   1.73688410e-04,\n",
       "         1.63880294e-04,   1.62268185e-04,   1.60581997e-04,\n",
       "         1.51141982e-04,   1.46812402e-04,   1.47647177e-04,\n",
       "         1.41761525e-04,   1.40459085e-04,   1.31300574e-04,\n",
       "         1.33131167e-04,   1.32298118e-04,   1.23913020e-04,\n",
       "         1.20507970e-04,   1.28305647e-04,   1.18266280e-04,\n",
       "         1.10147308e-04,   1.09282711e-04,   1.10174045e-04,\n",
       "         1.04826508e-04,   9.85849486e-05,   9.88471221e-05,\n",
       "         9.84778480e-05,   9.33820607e-05,   9.21359757e-05,\n",
       "         8.99326828e-05,   9.13315062e-05,   8.51384186e-05,\n",
       "         8.28503680e-05,   8.03317649e-05,   8.05865632e-05,\n",
       "         7.93073426e-05,   8.00722210e-05,   7.80477719e-05,\n",
       "         7.59586701e-05,   7.37825206e-05,   6.99462282e-05,\n",
       "         7.19117827e-05,   7.05435378e-05,   6.65089572e-05,\n",
       "         6.79482860e-05,   6.66181854e-05,   6.41297073e-05,\n",
       "         6.29672365e-05,   6.08361932e-05,   5.78944062e-05,\n",
       "         5.87734377e-05,   5.93196033e-05,   5.75642439e-05,\n",
       "         5.46111132e-05,   5.24166515e-05,   5.64741022e-05,\n",
       "         5.18119115e-05,   5.03903389e-05,   5.03083305e-05,\n",
       "         4.62272496e-05,   4.79226763e-05,   4.78320089e-05,\n",
       "         4.56016056e-05,   4.44580276e-05,   4.41587265e-05,\n",
       "         4.26882791e-05,   4.38177032e-05,   4.12054999e-05,\n",
       "         3.94046330e-05,   3.92907274e-05,   3.82451547e-05,\n",
       "         3.81029938e-05,   3.74227778e-05,   3.55015275e-05,\n",
       "         3.53711746e-05,   3.70031732e-05,   3.56048495e-05,\n",
       "         3.45398190e-05,   3.26506444e-05,   3.31598346e-05,\n",
       "         3.14711571e-05,   3.06194203e-05,   3.08862833e-05,\n",
       "         3.01097871e-05,   3.07393900e-05,   2.81898000e-05,\n",
       "         2.79998981e-05,   2.75466785e-05,   2.70601618e-05,\n",
       "         2.71155391e-05,   2.55217320e-05,   2.72517245e-05,\n",
       "         2.47682334e-05,   2.53107217e-05,   2.32994522e-05,\n",
       "         2.37093500e-05,   2.34195524e-05,   2.24974631e-05,\n",
       "         2.26670658e-05,   2.22113495e-05,   2.14265115e-05,\n",
       "         2.19215643e-05,   2.13962414e-05,   2.01388064e-05,\n",
       "         2.10976298e-05,   1.96494928e-05,   1.95611577e-05,\n",
       "         1.96465485e-05,   1.88958432e-05,   1.85921537e-05,\n",
       "         1.74745657e-05,   1.81931874e-05,   1.81341125e-05,\n",
       "         1.79338306e-05,   1.73772764e-05,   1.63255504e-05,\n",
       "         1.67482326e-05,   1.68036509e-05,   1.55785809e-05,\n",
       "         1.60372462e-05,   1.60568058e-05,   1.50803549e-05,\n",
       "         1.51433922e-05,   1.46210050e-05,   1.50792894e-05,\n",
       "         1.40771257e-05,   1.44920856e-05,   1.44191164e-05,\n",
       "         1.36372610e-05,   1.37720580e-05,   1.37279011e-05,\n",
       "         1.31871771e-05,   1.29530078e-05,   1.27507127e-05,\n",
       "         1.24256182e-05,   1.24377142e-05,   1.20575981e-05,\n",
       "         1.21244431e-05,   1.18672933e-05,   1.20997438e-05,\n",
       "         1.15977717e-05,   1.16460975e-05,   1.10371773e-05,\n",
       "         1.14769826e-05,   1.12336428e-05,   1.07427957e-05,\n",
       "         1.07137692e-05,   1.03754497e-05,   1.04104123e-05,\n",
       "         1.06220536e-05,   9.93781260e-06,   9.95772399e-06,\n",
       "         9.51689256e-06,   9.39168619e-06,   9.25307492e-06,\n",
       "         9.13924427e-06,   9.60888904e-06,   8.81106082e-06,\n",
       "         8.70065221e-06,   8.58192064e-06,   8.29873943e-06,\n",
       "         8.36480752e-06,   8.11490760e-06,   8.16111713e-06,\n",
       "         7.91853591e-06,   7.88142416e-06,   7.91601462e-06,\n",
       "         7.68376588e-06,   7.45594764e-06,   7.52504551e-06,\n",
       "         7.30185159e-06,   7.34454721e-06,   7.16626339e-06,\n",
       "         6.80607815e-06,   6.89681180e-06,   7.00759913e-06,\n",
       "         6.67176595e-06,   6.61144007e-06,   6.70450519e-06,\n",
       "         6.46666567e-06,   6.19986133e-06,   6.45831745e-06,\n",
       "         6.37449276e-06,   6.07315526e-06,   6.12051093e-06,\n",
       "         5.97189821e-06,   5.77270999e-06,   6.05020829e-06,\n",
       "         5.72056790e-06,   5.74241450e-06,   5.75822346e-06,\n",
       "         5.58261918e-06,   5.35389646e-06,   5.26736839e-06,\n",
       "         5.35832564e-06,   5.14998827e-06,   5.23655359e-06,\n",
       "         5.09386589e-06,   5.02312440e-06,   4.84117873e-06,\n",
       "         4.99462714e-06,   4.77268673e-06,   4.59209644e-06,\n",
       "         4.61844342e-06,   4.61531173e-06,   4.51584614e-06,\n",
       "         4.40811932e-06,   4.39563100e-06,   4.47940144e-06,\n",
       "         4.28593822e-06,   4.28060407e-06,   4.04092711e-06,\n",
       "         4.22967073e-06,   3.94943212e-06,   4.05701405e-06,\n",
       "         4.10659336e-06,   3.99055638e-06,   3.89580287e-06,\n",
       "         3.85195890e-06,   3.84815361e-06,   3.79067069e-06,\n",
       "         3.73402886e-06,   3.64762659e-06,   3.49164643e-06,\n",
       "         3.47165607e-06,   3.35610595e-06,   3.31441251e-06,\n",
       "         3.29240260e-06,   3.38578340e-06,   3.26386191e-06,\n",
       "         3.17763923e-06,   3.19377067e-06,   3.16800079e-06,\n",
       "         3.10687818e-06,   3.03593438e-06,   3.05671545e-06,\n",
       "         3.06798938e-06,   2.94979340e-06,   2.93538616e-06,\n",
       "         2.89944812e-06,   2.86000748e-06,   2.86049861e-06,\n",
       "         2.94518375e-06,   2.72425135e-06,   2.79329829e-06,\n",
       "         2.73338577e-06,   2.70687922e-06,   2.53947669e-06,\n",
       "         2.65036686e-06,   2.60648782e-06,   2.51765177e-06,\n",
       "         2.52005886e-06,   2.46562252e-06,   2.39568167e-06,\n",
       "         2.46608664e-06,   2.32698881e-06,   2.27183670e-06,\n",
       "         2.43639844e-06,   2.16710589e-06,   2.24205740e-06,\n",
       "         2.27399754e-06,   2.21952671e-06,   2.12865331e-06,\n",
       "         2.12801647e-06,   2.14649464e-06,   2.15854939e-06,\n",
       "         2.06477118e-06,   2.12699705e-06,   2.01855469e-06,\n",
       "         2.04876309e-06,   1.93551530e-06,   1.88361258e-06,\n",
       "         1.85894838e-06,   1.93908951e-06,   1.86866398e-06,\n",
       "         1.91021156e-06,   1.85338779e-06,   1.80509800e-06,\n",
       "         1.77784106e-06,   1.79359472e-06,   1.73820867e-06,\n",
       "         1.72702878e-06,   1.63807174e-06,   1.69704493e-06,\n",
       "         1.68100130e-06,   1.60218664e-06,   1.56860703e-06,\n",
       "         1.61196155e-06,   1.61580204e-06,   1.50522784e-06,\n",
       "         1.49655252e-06,   1.49274677e-06,   1.45927007e-06,\n",
       "         1.40873737e-06,   1.36082415e-06,   1.42518824e-06,\n",
       "         1.44196614e-06,   1.35113539e-06,   1.35098937e-06,\n",
       "         1.32931956e-06,   1.32513232e-06,   1.34466541e-06,\n",
       "         1.28627817e-06,   1.32239135e-06,   1.29094161e-06,\n",
       "         1.21642874e-06,   1.25897858e-06,   1.18061765e-06,\n",
       "         1.18596328e-06,   1.20142322e-06,   1.14124632e-06,\n",
       "         1.10853523e-06,   1.12063960e-06,   1.11521847e-06,\n",
       "         1.09080244e-06,   1.05516051e-06,   1.03942017e-06,\n",
       "         1.01904404e-06,   1.03262255e-06,   1.01681886e-06,\n",
       "         1.02715745e-06,   1.00133352e-06,   9.90176638e-07,\n",
       "         9.68897456e-07,   9.24274979e-07,   9.46348154e-07,\n",
       "         9.66239755e-07,   9.36195989e-07,   9.06443341e-07,\n",
       "         8.71404115e-07,   8.71175786e-07,   9.07573140e-07,\n",
       "         8.83185757e-07,   8.36939425e-07,   8.43418925e-07,\n",
       "         8.29354954e-07,   8.30614184e-07,   8.21296385e-07,\n",
       "         7.98874010e-07,   8.29556596e-07,   8.17407400e-07,\n",
       "         7.88586585e-07,   7.66591513e-07,   7.68887859e-07,\n",
       "         7.57926468e-07,   7.70353274e-07,   7.18206396e-07,\n",
       "         7.30754608e-07,   7.08801070e-07,   7.23517844e-07,\n",
       "         7.13903474e-07,   7.06734125e-07,   7.01289265e-07,\n",
       "         6.98088906e-07,   7.07233315e-07,   6.73254868e-07,\n",
       "         6.77896748e-07,   6.23224736e-07,   6.40444410e-07,\n",
       "         6.40577123e-07,   6.20841928e-07,   6.32799757e-07,\n",
       "         6.40502930e-07,   5.99492654e-07,   6.12784967e-07,\n",
       "         5.85740672e-07,   5.72462407e-07,   5.99842903e-07,\n",
       "         5.79513013e-07,   5.80933522e-07,   5.60716939e-07,\n",
       "         5.59218014e-07,   5.44036932e-07,   5.62331170e-07,\n",
       "         5.57009158e-07,   5.44722983e-07,   5.34072381e-07,\n",
       "         5.32328059e-07,   5.06500963e-07,   5.42366327e-07,\n",
       "         5.16334647e-07,   5.09555718e-07,   4.85280983e-07,\n",
       "         5.02199451e-07,   4.95528639e-07,   4.83322112e-07,\n",
       "         4.80774649e-07,   4.83758291e-07,   4.78616505e-07,\n",
       "         4.63471000e-07,   4.50130800e-07,   4.56612756e-07,\n",
       "         4.68534472e-07,   4.45061156e-07,   4.22135700e-07,\n",
       "         4.20923092e-07,   4.22150648e-07,   4.32195318e-07,\n",
       "         4.04840726e-07,   4.19431104e-07,   4.00723920e-07,\n",
       "         3.83664749e-07,   3.95595409e-07,   4.00655948e-07,\n",
       "         3.90908177e-07,   4.05310098e-07,   3.79396215e-07,\n",
       "         3.74128625e-07,   3.69518685e-07,   3.79612065e-07,\n",
       "         3.62755904e-07,   3.50435608e-07,   3.54047177e-07,\n",
       "         3.45756989e-07,   3.57138384e-07,   3.49025846e-07,\n",
       "         3.54983824e-07,   3.22886693e-07,   3.28599603e-07,\n",
       "         3.16145921e-07,   3.35496865e-07,   3.16383897e-07,\n",
       "         3.12214701e-07,   3.15413684e-07,   3.18723761e-07,\n",
       "         3.15699081e-07,   3.25158798e-07,   3.17140358e-07,\n",
       "         3.23131545e-07,   2.96590664e-07,   2.91221836e-07,\n",
       "         2.82012344e-07,   2.84081505e-07,   2.87366685e-07,\n",
       "         2.82141940e-07,   2.89942262e-07,   2.81768551e-07,\n",
       "         2.68637032e-07,   2.75387011e-07,   2.59191124e-07,\n",
       "         2.52381326e-07,   2.61090353e-07,   2.65679665e-07,\n",
       "         2.56598487e-07,   2.53738361e-07,   2.53469187e-07,\n",
       "         2.37019526e-07,   2.34098487e-07,   2.37797749e-07,\n",
       "         2.37983845e-07,   2.31601902e-07,   2.29471400e-07,\n",
       "         2.31638188e-07,   2.37210614e-07,   2.16903976e-07,\n",
       "         2.25307600e-07,   2.01491137e-07,   2.00173327e-07,\n",
       "         2.12130224e-07,   1.97630451e-07,   1.94994554e-07,\n",
       "         2.04137171e-07,   1.94221781e-07,   1.84265287e-07,\n",
       "         1.99854575e-07,   1.87876131e-07,   1.93865451e-07,\n",
       "         1.82169695e-07,   1.84658316e-07,   1.75599280e-07,\n",
       "         1.78156220e-07,   1.69410180e-07,   1.71201981e-07,\n",
       "         1.71706480e-07,   1.67268598e-07,   1.67628845e-07,\n",
       "         1.64897792e-07,   1.59534390e-07,   1.56901035e-07,\n",
       "         1.51206896e-07,   1.58154166e-07,   1.53863860e-07,\n",
       "         1.47443841e-07,   1.48146918e-07,   1.36253952e-07,\n",
       "         1.45873997e-07,   1.31458401e-07,   1.39855899e-07,\n",
       "         1.33840901e-07,   1.46186769e-07,   1.38556063e-07,\n",
       "         1.33447244e-07,   1.41119641e-07,   1.23774894e-07,\n",
       "         1.30187992e-07,   1.35527053e-07,   1.19285030e-07,\n",
       "         1.23235232e-07,   1.16392153e-07,   1.16163641e-07,\n",
       "         1.12965590e-07,   1.10277981e-07,   1.11155763e-07,\n",
       "         1.06858369e-07,   1.07861060e-07,   1.07079336e-07,\n",
       "         9.76152103e-08,   1.02878462e-07,   9.00442722e-08,\n",
       "         1.02344689e-07,   1.02059790e-07,   9.81964088e-08,\n",
       "         1.00844907e-07,   9.30945649e-08,   9.49610936e-08,\n",
       "         9.15604685e-08,   8.59814894e-08,   8.66392523e-08,\n",
       "         8.52800573e-08,   8.28479417e-08,   8.44098059e-08,\n",
       "         8.02324163e-08,   8.03074544e-08,   7.67256115e-08,\n",
       "         7.64501281e-08,   7.85716833e-08,   7.83761108e-08,\n",
       "         7.53243933e-08,   7.22744576e-08,   7.01504943e-08,\n",
       "         7.02465970e-08,   7.05178111e-08,   6.58290140e-08,\n",
       "         6.56072909e-08,   5.95070636e-08,   6.51979526e-08,\n",
       "         6.53731438e-08,   6.03606167e-08,   6.53091317e-08,\n",
       "         6.25382285e-08,   5.95620267e-08,   5.90575346e-08,\n",
       "         5.61513531e-08,   5.82148087e-08,   5.83098339e-08,\n",
       "         5.55892546e-08,   5.48434934e-08,   5.23164763e-08,\n",
       "         5.52689728e-08,   4.83189992e-08,   4.99093078e-08,\n",
       "         5.59021621e-08,   4.78082160e-08,   4.99783119e-08,\n",
       "         5.05242946e-08,   4.88932623e-08,   4.49117457e-08,\n",
       "         4.47077381e-08,   4.44502370e-08,   4.56071950e-08,\n",
       "         4.39618674e-08,   4.56612841e-08,   4.43663258e-08,\n",
       "         4.40285177e-08,   4.36682780e-08,   4.11413298e-08,\n",
       "         4.71887676e-08,   4.00077481e-08,   4.36289006e-08,\n",
       "         3.72744938e-08,   3.72318720e-08,   4.03385493e-08,\n",
       "         3.70456773e-08,   3.82453425e-08,   3.76004443e-08,\n",
       "         3.79288499e-08,   3.37853695e-08,   3.55243748e-08,\n",
       "         3.53739700e-08,   3.50499699e-08,   3.25631981e-08,\n",
       "         3.47685856e-08,   3.43453664e-08,   3.01562705e-08,\n",
       "         3.32116319e-08,   3.49141595e-08,   3.10719902e-08,\n",
       "         3.08122147e-08,   2.88179849e-08,   2.97350060e-08,\n",
       "         2.93623418e-08,   3.14795887e-08,   2.89274912e-08,\n",
       "         2.55609013e-08,   2.72565126e-08,   2.62689427e-08,\n",
       "         2.69770340e-08,   2.48875901e-08,   2.68429468e-08,\n",
       "         2.54194116e-08,   2.42539299e-08,   2.29700640e-08,\n",
       "         2.43741545e-08,   2.42495800e-08,   2.53785270e-08,\n",
       "         2.30114643e-08,   2.30079238e-08,   2.33188335e-08,\n",
       "         2.23853564e-08,   2.04196122e-08,   2.24883888e-08,\n",
       "         2.15733864e-08,   2.01083311e-08,   1.98840574e-08,\n",
       "         2.25272653e-08,   2.01422591e-08,   1.87685764e-08,\n",
       "         1.99892601e-08,   1.94810674e-08,   1.98410447e-08,\n",
       "         1.66711882e-08,   1.90292442e-08,   1.72794949e-08,\n",
       "         1.84844203e-08,   1.83434440e-08,   1.86351311e-08,\n",
       "         1.69722692e-08,   1.53870281e-08,   1.53863972e-08,\n",
       "         1.45516716e-08,   1.59324551e-08,   1.52805673e-08,\n",
       "         1.46616215e-08,   1.51007930e-08,   1.45284814e-08,\n",
       "         1.37973214e-08,   1.30289445e-08,   1.41868783e-08,\n",
       "         1.28298429e-08,   1.23056327e-08,   1.27311401e-08,\n",
       "         1.27410504e-08,   1.19644904e-08,   1.19683279e-08,\n",
       "         1.20848785e-08,   1.19371631e-08,   1.05969172e-08,\n",
       "         1.10820169e-08,   1.17939969e-08,   1.10506235e-08,\n",
       "         9.94871026e-09,   9.90338012e-09,   9.27425315e-09,\n",
       "         1.02010258e-08,   9.38607898e-09,   9.85581369e-09,\n",
       "         9.20941769e-09,   8.68233993e-09,   9.02846520e-09,\n",
       "         8.58492876e-09,   7.62428307e-09,   8.18980792e-09,\n",
       "         7.60581245e-09,   8.82607886e-09,   8.21260978e-09,\n",
       "         7.42019903e-09,   7.23311393e-09,   6.96511400e-09,\n",
       "         6.18936851e-09,   7.54662626e-09,   6.64587957e-09,\n",
       "         7.49228882e-09,   6.60970213e-09,   6.25689929e-09,\n",
       "         7.82287885e-09,   5.73008730e-09,   6.47769759e-09,\n",
       "         5.62277542e-09,   5.57525252e-09,   6.00182711e-09,\n",
       "         5.70521416e-09,   5.71180496e-09,   4.89260111e-09,\n",
       "         4.74845599e-09,   5.30871686e-09,   4.85442921e-09,\n",
       "         5.08798037e-09,   4.35232314e-09,   4.79195828e-09,\n",
       "         4.55957905e-09,   3.63277644e-09,   3.41005434e-09,\n",
       "         4.12559813e-09,   3.95654044e-09,   3.91761885e-09,\n",
       "         3.28437524e-09,   3.76918769e-09,   2.74497978e-09,\n",
       "         3.14951693e-09,   3.29715057e-09,   2.99198611e-09,\n",
       "         2.84924146e-09,   2.86408589e-09,   2.98095990e-09,\n",
       "         2.58458311e-09,   2.48651751e-09,   2.52151743e-09,\n",
       "         2.42825721e-09,   2.21864414e-09,   2.51934137e-09,\n",
       "         1.83749419e-09,   1.96472361e-09,   1.81987978e-09,\n",
       "         2.15821232e-09,   1.61774405e-09,   1.38162397e-09,\n",
       "         1.56470505e-09,   1.71592711e-09,   1.27064153e-09,\n",
       "         1.54829155e-09,   1.29149021e-09,   1.45523437e-09,\n",
       "         1.02017189e-09,   1.17638628e-09,   1.12575243e-09,\n",
       "         1.04550092e-09,   9.80167035e-10,   9.89761120e-10,\n",
       "         9.18927939e-10,   1.07056861e-09,   1.00316463e-09,\n",
       "         9.30184098e-10,   8.10551516e-10,   8.43829907e-10,\n",
       "         7.89256645e-10,   7.11602613e-10,   7.62330665e-10,\n",
       "         7.19928444e-10,   6.95097309e-10,   7.74403007e-10,\n",
       "         7.14961974e-10,   6.90307645e-10,   6.14110528e-10,\n",
       "         6.24153971e-10,   7.59837109e-10,   5.87098329e-10,\n",
       "         5.45947338e-10,   5.33352591e-10,   5.54780007e-10,\n",
       "         5.36571539e-10,   4.84632917e-10,   5.17265890e-10,\n",
       "         4.37555650e-10,   4.64547991e-10,   4.41158351e-10,\n",
       "         3.67728579e-10,   4.22487816e-10,   3.88254856e-10,\n",
       "         3.37573277e-10,   2.70554510e-10,   3.14018425e-10,\n",
       "         3.79273102e-10,   3.78421515e-10,   3.33796237e-10,\n",
       "         3.82186734e-10,   2.77827225e-10,   3.20689531e-10,\n",
       "         2.27777747e-10,   3.46315789e-10,   2.21364294e-10,\n",
       "         2.69355715e-10,   2.04255302e-10,   2.62797028e-10,\n",
       "         2.78268092e-10,   2.29596514e-10,   2.39743689e-10,\n",
       "         1.75423394e-10,   1.75036036e-10,   1.90527230e-10,\n",
       "         1.26738299e-10,   1.31728508e-10,   1.26181357e-10,\n",
       "         1.36396284e-10,   8.89865558e-11,   1.09683703e-10,\n",
       "         6.77508171e-11,   9.36037197e-11,   6.74550411e-11,\n",
       "         8.80179956e-11,   5.16624599e-11,   6.18599960e-11,\n",
       "         2.57189502e-11,   4.61935523e-11,   4.09718413e-11,\n",
       "         4.08830370e-11,   3.56952060e-11,   2.54414327e-11,\n",
       "         2.03091747e-11,   3.03980185e-11,   0.00000000e+00,\n",
       "         0.00000000e+00,   5.03367659e-12,   0.00000000e+00,\n",
       "         5.01207850e-12,   0.00000000e+00,   0.00000000e+00,\n",
       "         0.00000000e+00,   0.00000000e+00,   0.00000000e+00,\n",
       "         0.00000000e+00,   0.00000000e+00,   0.00000000e+00,\n",
       "         0.00000000e+00,   0.00000000e+00,   0.00000000e+00,\n",
       "         0.00000000e+00,   0.00000000e+00,   0.00000000e+00,\n",
       "         0.00000000e+00,   0.00000000e+00,   0.00000000e+00,\n",
       "         0.00000000e+00,   0.00000000e+00,   0.00000000e+00,\n",
       "         0.00000000e+00,   0.00000000e+00,   0.00000000e+00,\n",
       "         0.00000000e+00,   0.00000000e+00,   0.00000000e+00,\n",
       "         0.00000000e+00,   0.00000000e+00,   0.00000000e+00,\n",
       "         0.00000000e+00,   0.00000000e+00,   0.00000000e+00,\n",
       "         0.00000000e+00,   0.00000000e+00,   0.00000000e+00,\n",
       "         0.00000000e+00,   0.00000000e+00,   0.00000000e+00,\n",
       "         0.00000000e+00,   0.00000000e+00,   0.00000000e+00,\n",
       "         0.00000000e+00,   0.00000000e+00,   0.00000000e+00,\n",
       "         0.00000000e+00,   0.00000000e+00,   0.00000000e+00,\n",
       "         0.00000000e+00,   0.00000000e+00,   0.00000000e+00,\n",
       "         0.00000000e+00,   0.00000000e+00,   0.00000000e+00,\n",
       "         0.00000000e+00,   0.00000000e+00,   0.00000000e+00,\n",
       "         0.00000000e+00,   0.00000000e+00,   0.00000000e+00,\n",
       "         0.00000000e+00,   0.00000000e+00,   0.00000000e+00,\n",
       "         0.00000000e+00,   0.00000000e+00,   0.00000000e+00,\n",
       "         0.00000000e+00,   0.00000000e+00,   0.00000000e+00,\n",
       "                   -inf])"
      ]
     },
     "execution_count": 8,
     "metadata": {},
     "output_type": "execute_result"
    }
   ],
   "source": [
    "density_plum"
   ]
  },
  {
   "cell_type": "code",
   "execution_count": 9,
   "metadata": {
    "collapsed": true
   },
   "outputs": [],
   "source": [
    "teo_plummer = soda.profiles.dens_plummer(5, r_profiles, 1E10)"
   ]
  },
  {
   "cell_type": "code",
   "execution_count": 10,
   "metadata": {
    "collapsed": false
   },
   "outputs": [
    {
     "data": {
      "text/plain": [
       "[<matplotlib.lines.Line2D at 0x7fc5d1a96198>]"
      ]
     },
     "execution_count": 10,
     "metadata": {},
     "output_type": "execute_result"
    },
    {
     "data": {
      "image/png": "[encoded data removed]",
      "text/plain": [
       "<matplotlib.figure.Figure at 0x7fc5d1964ef0>"
      ]
     },
     "metadata": {},
     "output_type": "display_data"
    }
   ],
   "source": [
    "loglog(r_profiles, np.abs(density_plum))\n",
    "loglog(r_profiles, teo_plummer)"
   ]
  },
  {
   "cell_type": "code",
   "execution_count": 11,
   "metadata": {
    "collapsed": false
   },
   "outputs": [
    {
     "name": "stderr",
     "output_type": "stream",
     "text": [
      "/home/ngaravito/work/github/tracers_triaxial/src/weights.py:151: RuntimeWarning: divide by zero encountered in true_divide\n",
      "  Weights=distribution_function[indsort[::-1]]/((Histo_M)/density_of_states)\n"
     ]
    },
    {
     "name": "stdout",
     "output_type": "stream",
     "text": [
      "-4.29320257636\n"
     ]
    },
    {
     "name": "stderr",
     "output_type": "stream",
     "text": [
      "/home/ngaravito/work/github/tracers_triaxial/src/tracers_properties.py:65: RuntimeWarning: divide by zero encountered in true_divide\n",
      "  density = mass_bins/shells\n"
     ]
    }
   ],
   "source": [
    "weights_hern, w_ids = weights.weight_triaxial(rr,Ekk,Epp,ids,partmass,0.01, 50, 1E10, 'Hernquist', [5])\n",
    "density_hern = tracers_properties.den_tracers(weights_hern, ids, w_ids, rr, massarr, 1000)"
   ]
  },
  {
   "cell_type": "code",
   "execution_count": 15,
   "metadata": {
    "collapsed": false
   },
   "outputs": [],
   "source": [
    "teo_hern = soda.profiles.dens_plummer(5, r_profiles, 1E10)"
   ]
  },
  {
   "cell_type": "code",
   "execution_count": 16,
   "metadata": {
    "collapsed": false
   },
   "outputs": [
    {
     "data": {
      "text/plain": [
       "[<matplotlib.lines.Line2D at 0x7fc5f4f26dd8>]"
      ]
     },
     "execution_count": 16,
     "metadata": {},
     "output_type": "execute_result"
    },
    {
     "data": {
      "image/png": "[encoded data removed]",
      "text/plain": [
       "<matplotlib.figure.Figure at 0x7fc5f4f01400>"
      ]
     },
     "metadata": {},
     "output_type": "display_data"
    }
   ],
   "source": [
    "loglog(r_profiles, np.abs(density_hern))\n",
    "loglog(r_profiles, teo_hern)"
   ]
  },
  {
   "cell_type": "code",
   "execution_count": null,
   "metadata": {
    "collapsed": true
   },
   "outputs": [],
   "source": []
  }
 ],
 "metadata": {
  "kernelspec": {
   "display_name": "Python 3",
   "language": "python",
   "name": "python3"
  },
  "language_info": {
   "codemirror_mode": {
    "name": "ipython",
    "version": 3
   },
   "file_extension": ".py",
   "mimetype": "text/x-python",
   "name": "python",
   "nbconvert_exporter": "python",
   "pygments_lexer": "ipython3",
   "version": "3.4.3"
  }
 },
 "nbformat": 4,
 "nbformat_minor": 0
}
