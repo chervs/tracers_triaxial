{
 "cells": [
  {
   "cell_type": "code",
   "execution_count": 1,
   "metadata": {},
   "outputs": [
    {
     "name": "stdout",
     "output_type": "stream",
     "text": [
      "Populating the interactive namespace from numpy and matplotlib\n"
     ]
    }
   ],
   "source": [
    "%pylab inline\n",
    "import Stracers as st\n",
    "import sys\n",
    "sys.path.append('../MW_anisotropy/code/')\n",
    "sys.path.append('../MW_anisotropy/code/densities/')\n",
    "\n",
    "import density_tools\n",
    "import reading_snapshots\n",
    "from pygadgetreader import *\n",
    "\n"
   ]
  },
  {
   "cell_type": "code",
   "execution_count": 5,
   "metadata": {
    "collapsed": true
   },
   "outputs": [],
   "source": [
    "def all_host_particles(xyz, vxyz, pids, pot, mass, N_host_particles):\n",
    "    \"\"\"\n",
    "    Function that return the host and the sat particles\n",
    "    positions and velocities.\n",
    "\n",
    "    Parameters:\n",
    "    -----------\n",
    "    xyz: snapshot coordinates with shape (n,3)\n",
    "    vxys: snapshot velocities with shape (n,3)\n",
    "    pids: particles ids\n",
    "    Nhost_particles: Number of host particles in the snapshot\n",
    "    Returns:\n",
    "    --------\n",
    "    xyz_mw, vxyz_mw, xyzlmc, vxyz_lmc: coordinates and velocities of\n",
    "    the host and the sat.\n",
    "\n",
    "    \"\"\"\n",
    "    sort_indexes = np.sort(pids)\n",
    "    N_cut = sort_indexes[N_host_particles]\n",
    "    host_ids = np.where(pids<N_cut)[0]\n",
    "    return xyz[host_ids], vxyz[host_ids], pids[host_ids], pot[host_ids], mass[host_ids]"
   ]
  },
  {
   "cell_type": "code",
   "execution_count": 6,
   "metadata": {
    "collapsed": true
   },
   "outputs": [],
   "source": [
    "def finding_indices(x, y):\n",
    "    \"\"\"\n",
    "    Return the indicies in which the ids of the two snapshots are the same.\n",
    "    \"\"\"\n",
    "    \n",
    "    indices = np.zeros(len(x))\n",
    "    for i in range(len(x)):\n",
    "        indices[i] = (np.where(y==x[i])[0])\n",
    "        \n",
    "    return indices"
   ]
  },
  {
   "cell_type": "code",
   "execution_count": 11,
   "metadata": {
    "collapsed": true
   },
   "outputs": [],
   "source": [
    "def energies(snap):\n",
    "    pp= readsnap(snap, 'pos', 'dm')\n",
    "    vv= readsnap(snap, 'vel', 'dm')\n",
    "    massarr= readsnap(snap, 'mass', 'dm')\n",
    "    Epp = readsnap(snap, 'pot', 'dm')\n",
    "    ids = readsnap(snap, 'pid', 'dm')\n",
    "    \n",
    "    MW_pos, MW_vel, MW_pot, MW_ids, MW_mass = all_host_particles(pp, vv, ids, Epp, massarr, 100000000)\n",
    "\n",
    "    rr=np.sqrt(MW_pos[:,0]**2+MW_pos[:,1]**2+MW_pos[:,2]**2)\n",
    "    rcut = 300\n",
    "    r_cut = index = np.where((rr<rcut))[0]\n",
    "\n",
    "    MW_pos = MW_pos[r_cut]\n",
    "    rr = rr[r_cut]\n",
    "    MW_vel = MW_vel[r_cut]\n",
    "\n",
    "    massarr = massarr[r_cut]\n",
    "    Epp = Epp[r_cut]\n",
    "    ids = ids[r_cut]\n",
    "\n",
    "    #partmass=massarr[0]*1e10 #generated the halo particles as \"bulge\"-type in Gadget file\n",
    "    v2=MW_vel[:,0]**2+MW_vel[:,1]**2+MW_vel[:,2]**2\n",
    "    Ekk=0.5*v2\n",
    "    \n",
    "    return rr, Ekk, Epp, ids, massarr\n"
   ]
  },
  {
   "cell_type": "code",
   "execution_count": null,
   "metadata": {},
   "outputs": [
    {
     "name": "stdout",
     "output_type": "stream",
     "text": [
      "Returning DM    Positions\n",
      "Returning DM    Velocities\n",
      "Returning DM    Mass\n",
      "Returning DM    Potential\n",
      "Returning DM    Particle IDs\n"
     ]
    }
   ],
   "source": [
    "rr_init, Ekk_init, Epp_init, ids_init, massarr_init = energies('./halos/MWLMC6_100M_new_b0_2_000')"
   ]
  },
  {
   "cell_type": "code",
   "execution_count": null,
   "metadata": {
    "collapsed": true
   },
   "outputs": [],
   "source": [
    "rr_fut, Ekk_fut, Epp_fut, ids_fut, massarr_fut = energies('./halos/MWLMC6_100M_new_b0_2_111')"
   ]
  },
  {
   "cell_type": "code",
   "execution_count": null,
   "metadata": {
    "collapsed": true
   },
   "outputs": [],
   "source": [
    "indices_ids_fut = finding_indices(ids_init, ids_fut)"
   ]
  },
  {
   "cell_type": "code",
   "execution_count": null,
   "metadata": {
    "collapsed": true
   },
   "outputs": [],
   "source": [
    "wh, w_ids_h = st.weight_triaxial(rr, Ekk, Epp, ids, partmass, 0.01, 100, 1, 'Hernquist', [25])"
   ]
  },
  {
   "cell_type": "code",
   "execution_count": null,
   "metadata": {
    "collapsed": true
   },
   "outputs": [],
   "source": [
    "st_mass, st_w_ids = st.stellar_quantity(wh, ids, w_ids_h, massarr*1E10)"
   ]
  },
  {
   "cell_type": "code",
   "execution_count": null,
   "metadata": {
    "collapsed": true
   },
   "outputs": [],
   "source": []
  },
  {
   "cell_type": "code",
   "execution_count": null,
   "metadata": {
    "collapsed": true
   },
   "outputs": [],
   "source": [
    "print(sum(st_mass), sum(massarr*1E10))"
   ]
  },
  {
   "cell_type": "code",
   "execution_count": null,
   "metadata": {
    "collapsed": true
   },
   "outputs": [],
   "source": [
    "rho_mw_st = density_tools.density_nn(pp, 200, 100, 10, 1000, mass=st_mass)"
   ]
  },
  {
   "cell_type": "code",
   "execution_count": null,
   "metadata": {
    "collapsed": true
   },
   "outputs": [],
   "source": [
    "def rho_enclosed(r_posh, rmin, rmax, nbins, mass):\n",
    "    r = np.linspace(rmin, rmax, nbins-1)\n",
    "    rho = np.zeros(nbins-1)\n",
    "\n",
    "    # Loop over the radial bins.\n",
    "    for i in range(1, len(r)):\n",
    "        indexh = np.where((r_posh<r[i]) & (r_posh>r[i-1]))[0]\n",
    "\n",
    "        rho[i-1] = (3*(np.sum(mass[indexh]))) / (4*np.pi*(r[i]**3-r[i-1]**3))\n",
    "\n",
    "    return r, rho"
   ]
  },
  {
   "cell_type": "code",
   "execution_count": null,
   "metadata": {
    "collapsed": true
   },
   "outputs": [],
   "source": [
    "rho_mw_dm = density_tools.density_nn(pp, 200, 100, 10, 1000, mass=massarr*1E10)"
   ]
  },
  {
   "cell_type": "code",
   "execution_count": null,
   "metadata": {
    "collapsed": true
   },
   "outputs": [],
   "source": []
  },
  {
   "cell_type": "code",
   "execution_count": null,
   "metadata": {
    "collapsed": true
   },
   "outputs": [],
   "source": [
    "r_r, rho_mw_st_r = rho_enclosed(rr, 1, 300, 1000, st_mass)\n",
    "r_r, rho_mw_dm_r = rho_enclosed(rr, 1, 300, 1000, massarr*1E10)"
   ]
  },
  {
   "cell_type": "code",
   "execution_count": null,
   "metadata": {
    "collapsed": true
   },
   "outputs": [],
   "source": [
    "loglog(r_r, rho_mw_dm_r)\n",
    "loglog(r_r, rho_mw_st_r)"
   ]
  },
  {
   "cell_type": "code",
   "execution_count": null,
   "metadata": {
    "collapsed": true
   },
   "outputs": [],
   "source": []
  },
  {
   "cell_type": "code",
   "execution_count": null,
   "metadata": {
    "collapsed": true
   },
   "outputs": [],
   "source": [
    "density_tools.density_peaks(np.log(rho_mw_st)/np.max(np.log(rho_mw_st)), xmin=-100, xmax=100, \n",
    "                            ymin=-100, ymax=100, fsize=(6, 4.5),  levels=np.arange(0, 1.05, 0.1))"
   ]
  },
  {
   "cell_type": "code",
   "execution_count": null,
   "metadata": {
    "collapsed": true
   },
   "outputs": [],
   "source": [
    "density_tools.density_peaks(np.log(rho_mw_dm)/np.max(np.log(rho_mw_dm)), xmin=-100, xmax=100, \n",
    "                            ymin=-100, ymax=100, fsize=(6, 4.5),  levels=np.arange(0, 1.05, 0.1))"
   ]
  },
  {
   "cell_type": "code",
   "execution_count": null,
   "metadata": {
    "collapsed": true
   },
   "outputs": [],
   "source": [
    "\n",
    "        "
   ]
  },
  {
   "cell_type": "code",
   "execution_count": null,
   "metadata": {
    "collapsed": true
   },
   "outputs": [],
   "source": [
    "x = np.array([1, 3, 5, 7, 9])\n",
    "y = x[::-1]\n",
    "print(x, y)"
   ]
  },
  {
   "cell_type": "code",
   "execution_count": null,
   "metadata": {
    "collapsed": true
   },
   "outputs": [],
   "source": [
    "finding_indices(x, y)"
   ]
  },
  {
   "cell_type": "code",
   "execution_count": null,
   "metadata": {
    "collapsed": true
   },
   "outputs": [],
   "source": []
  }
 ],
 "metadata": {
  "kernelspec": {
   "display_name": "Python 3",
   "language": "python",
   "name": "python3"
  },
  "language_info": {
   "codemirror_mode": {
    "name": "ipython",
    "version": 3
   },
   "file_extension": ".py",
   "mimetype": "text/x-python",
   "name": "python",
   "nbconvert_exporter": "python",
   "pygments_lexer": "ipython3",
   "version": "3.5.2"
  }
 },
 "nbformat": 4,
 "nbformat_minor": 2
}
