{
 "cells": [
  {
   "cell_type": "code",
   "execution_count": 1,
   "metadata": {},
   "outputs": [
    {
     "name": "stdout",
     "output_type": "stream",
     "text": [
      "Populating the interactive namespace from numpy and matplotlib\n"
     ]
    }
   ],
   "source": [
    "%pylab inline\n",
    "from pygadgetreader import readsnap"
   ]
  },
  {
   "cell_type": "code",
   "execution_count": 2,
   "metadata": {},
   "outputs": [],
   "source": [
    "import weights"
   ]
  },
  {
   "cell_type": "code",
   "execution_count": 3,
   "metadata": {
    "collapsed": true
   },
   "outputs": [],
   "source": [
    "def all_host_particles(xyz, vxyz, pids, pot, mass, N_host_particles):\n",
    "    \"\"\"\n",
    "    Function that return the host and the sat particles\n",
    "    positions and velocities.\n",
    "\n",
    "    Parameters:\n",
    "    -----------\n",
    "    xyz: snapshot coordinates with shape (n,3)\n",
    "    vxys: snapshot velocities with shape (n,3)\n",
    "    pids: particles ids\n",
    "    Nhost_particles: Number of host particles in the snapshot\n",
    "    Returns:\n",
    "    --------\n",
    "    xyz_mw, vxyz_mw, xyzlmc, vxyz_lmc: coordinates and velocities of\n",
    "    the host and the sat.\n",
    "\n",
    "    \"\"\"\n",
    "    sort_indexes = np.sort(pids)\n",
    "    N_cut = sort_indexes[N_host_particles]\n",
    "    host_ids = np.where(pids<N_cut)[0]\n",
    "    return xyz[host_ids], vxyz[host_ids], pids[host_ids], pot[host_ids], mass[host_ids]\n",
    "\n",
    "def energies(snap, rcut=0):\n",
    "    \"\"\"\n",
    "    Paramters:\n",
    "    ----------\n",
    "\n",
    "    snap : string\n",
    "        path and name of the snapshot\n",
    "\n",
    "    rcut : int\n",
    "        truncation radii (no trunction by default rcut=0)\n",
    "\n",
    "\n",
    "    Returns:\n",
    "    --------\n",
    "    Distances (rr)\n",
    "    Kinetic energy (Ekk)\n",
    "    Potential (MW_pot)\n",
    "    Ids (MW_ids)\n",
    "    Mass (MW_mass)\n",
    "    Pos (MW_pos)\n",
    "    Vel (MW_vel)\n",
    "\n",
    "    \"\"\"\n",
    "\n",
    "    MW_pos= readsnap(snap, 'pos', 'dm')\n",
    "    MW_vel= readsnap(snap, 'vel', 'dm')\n",
    "    MW_mass= readsnap(snap, 'mass', 'dm')\n",
    "    MW_pot = readsnap(snap, 'pot', 'dm') # in units of km^2/s^2\n",
    "    MW_ids = readsnap(snap, 'pid', 'dm')\n",
    "\n",
    "\n",
    "    # Selecting MW particles\n",
    "    N_host_particles = 97000\n",
    "    #MW_pos, MW_vel, MW_ids, MW_pot, MW_mass = all_host_particles(pp, vv, ids, Epp, massarr, N_host_particles)\n",
    "\n",
    "    assert len(MW_ids)==N_host_particles, 'Error: something went wrong selecting the host particles'\n",
    "\n",
    "    rr=np.sqrt(MW_pos[:,0]**2+MW_pos[:,1]**2+MW_pos[:,2]**2)\n",
    "\n",
    "\n",
    "    if rcut>0:\n",
    "        r_cut = np.where((rr<rcut))[0]\n",
    "\n",
    "        rr = rr[r_cut]\n",
    "        MW_pos = MW_pos[r_cut]\n",
    "        MW_vel = MW_vel[r_cut]\n",
    "        MW_mass = MW_mass[r_cut]\n",
    "        MW_pot = MW_pot[r_cut]\n",
    "        MW_ids = MW_ids[r_cut]\n",
    "\n",
    "    v2=MW_vel[:,0]**2+MW_vel[:,1]**2+MW_vel[:,2]**2\n",
    "    Ekk=0.5*v2\n",
    "\n",
    "    return rr, Ekk, MW_pot, MW_ids, MW_mass, MW_pos, MW_vel"
   ]
  },
  {
   "cell_type": "code",
   "execution_count": 4,
   "metadata": {
    "collapsed": true
   },
   "outputs": [],
   "source": [
    "def chervin_original(r, Ek, Ep, partID, m, bsize, N_Eb, stellar_mass, bb):\n",
    "    G = 4.30071e-6\n",
    "    stellar_mass=stellar_mass*1e10\n",
    "    Ep=Ep-G*m*np.size(r)/np.max(r) #correction term \n",
    "    E=Ek+Ep\n",
    "\n",
    "    shift_energy = -np.min(Ep)\n",
    "    E += shift_energy\n",
    "    Ep += shift_energy\n",
    "    \n",
    "    #I chose 300 because this code was initially used for cosmological halos which were way too messed up beyond 300 kpc  \n",
    "    w=np.where((r <300) & (r!=r[0])) \n",
    "    r=r[w]\n",
    "    Ep=Ep[w]\n",
    "    Ek=Ek[w]\n",
    "    E=E[w]\n",
    "    partID=partID[w]\n",
    "    \n",
    "    # Histogram of radius to smooth the potential Phi(r)\n",
    "    #  - spherical averaging for triaxial halos for Laporte 2013\n",
    "    #\n",
    "    MIN,MAX = np.min(np.log10(r)), np.max(np.log10(r))\n",
    "    Nbins= (MAX-MIN)/bsize    \n",
    "    histo_rad,redges=np.histogram(np.log10(r), bins = np.linspace(MIN, MAX, Nbins))\n",
    "    rbins=np.ndarray(shape=np.size(redges)-1, dtype=float)    \n",
    "    for i in range(1,np.size(redges)):\n",
    "        rbins[i-1]=redges[i-1]-(redges[i]-redges[i-1])/2.\n",
    "    rbins=10**rbins    \n",
    "    nn=np.size(rbins)\n",
    "    binsize_r=np.ndarray(shape=nn, dtype=float)   \n",
    "    #     binsize_r is evaluated here for g(E) calculation\n",
    "    for j in range(0,nn): \n",
    "        binsize_r[j]=10**redges[j+1]-10**redges[j]\n",
    "\n",
    "    #TRACER PARAMETRISATION\n",
    "    ##bb=0.5 #scale radius\n",
    "    #nu_tracer=(3.0/(4.0*np.pi*bb**3))*(1.0+(rbins/bb)**2)**(-2.5) # PLUMMER\n",
    "    nu_tracer=(1*bb/(2.0*np.pi*rbins))/(bb+rbins)**3 # HERNQUIST\n",
    "    \n",
    "    #Need to do the reverse indices here - \n",
    "    pot2=np.ndarray(shape=np.size(histo_rad), dtype=float)\n",
    "    for j in range(0, np.size(redges)-1):\n",
    "        wbin=np.where((np.log10(r)>=redges[j]) & (np.log10(r)<redges[j+1]))\n",
    "        if(np.size(wbin)>0):\n",
    "            pot2[j]=np.mean(Ep[wbin]) #reverse indices in IDL is much faster than this junk\n",
    "    \n",
    "    # forgot why I wanted more than 20 particles in the bins, maybe sth to do with gradient not working with missing data\n",
    "    w=np.where(histo_rad>20.)\n",
    "    rbins=rbins[w]\n",
    "    binsize_r=binsize_r[w]\n",
    "    nu_tracer=nu_tracer[w]\n",
    "    pot2=pot2[w]\n",
    "    pot2-=shift_energy\n",
    "    psi2=(-1.0)*pot2\n",
    "    E-=shift_energy\n",
    "    epsilon=(-1.0)*E   \n",
    "\n",
    "    #Fetching derivatives from the data necessary for the Eddington formula evalution\n",
    "    dnu_dpsi=np.gradient(nu_tracer, psi2)\n",
    "    dnu2_dpsi2=np.gradient(dnu_dpsi, psi2)\n",
    "    \n",
    "    #Binning Energy for g(E) and f(E) (f(epsilon)) calculations                                \n",
    "    Histo_E, Edges = np.histogram(E, bins=N_Eb)\n",
    "    Ebins=np.ndarray(shape=np.size(Histo_E), dtype=float)\n",
    "    for i in range(1,np.size(Edges)):\n",
    "        Ebins[i-1]=Edges[i-1]-(Edges[i]-Edges[i-1])/2.\n",
    "        \n",
    "    Histo_epsilon, epsdges = np.histogram(epsilon, bins=N_Eb)\n",
    "    epsilon_bins=np.ndarray(shape=np.size(Histo_epsilon), dtype=float)\n",
    "    for i in range(1,np.size(epsdges)):\n",
    "        epsilon_bins[i-1]=epsdges[i-1]-(epsdges[i]-epsdges[i-1])/2.\n",
    "\n",
    "        \n",
    "    #Total N(E) differential energy distribution\n",
    "    Histo_M=Histo_E*m/np.sqrt((Ebins[2]-Ebins[1])**2) \n",
    "\n",
    "    # EDDINGTON FORMULA --------------\n",
    "    dpsi=np.ndarray(shape=np.size(psi2), dtype=float)\n",
    "    for i in range (1, np.size(dpsi)):\n",
    "        dpsi[i]=psi2[i]-psi2[i-1]\n",
    "    distribution_function=np.ndarray(shape=np.size(epsilon_bins), dtype=float)\n",
    "    for i in range(0,np.size(epsilon_bins)):\n",
    "        w=np.where(psi2<epsilon_bins[i])[0]\n",
    "        #x=np.min(w) #i don't think I use this anywhere\n",
    "        eps=epsilon_bins[i]\n",
    "        if (np.size(w)!=0):\n",
    "            w=np.array(w)\n",
    "            tot1=dpsi[w]\n",
    "            #print(tot1)\n",
    "            tot2=dnu2_dpsi2[w]\n",
    "            tot3=np.sqrt(2.0*(eps-psi2[w]))\n",
    "            print(eps, tot3)\n",
    "            tot=tot1*tot2/tot3\n",
    "            val=(1.0)/(np.sqrt(8.0)*np.pi**2)*np.sum(tot) #Arthur's eval as Sum (in sims no divergence due to res)\n",
    "            #print val, i, \"val, i\"\n",
    "            distribution_function[i]=val\n",
    "        else:\n",
    "            distribution_function[i]=0\n",
    "            \n",
    "    return dnu2_dpsi2, dpsi, psi, epsilon_bins, distribution_function "
   ]
  },
  {
   "cell_type": "code",
   "execution_count": 5,
   "metadata": {},
   "outputs": [
    {
     "name": "stdout",
     "output_type": "stream",
     "text": [
      "Returning DM    Positions\n",
      "Returning DM    Velocities\n",
      "Returning DM    Mass\n",
      "Returning DM    Potential\n",
      "Returning DM    Particle IDs\n"
     ]
    }
   ],
   "source": [
    "rr, Ek, Ep, Mw_ids, MW_m, MW_p, MW_v = energies('../halos/LMC1_97K_vir_000', rcut=50)"
   ]
  },
  {
   "cell_type": "code",
   "execution_count": 7,
   "metadata": {
    "collapsed": true
   },
   "outputs": [],
   "source": [
    "all_t = weights.weight_triaxial(rr, Ek, Ep, Mw_ids, MW_m[0], 0.05, 200, 1, 'Hernquist', [10])"
   ]
  },
  {
   "cell_type": "code",
   "execution_count": 7,
   "metadata": {},
   "outputs": [
    {
     "name": "stdout",
     "output_type": "stream",
     "text": [
      "3002.41005859 [ 23.00322243]\n",
      "3398.47619141 [ 36.34942239]\n",
      "3794.54232422 [ 27.5972478   45.97186937]\n",
      "4190.60845703 [ 39.41751326  53.90310788]\n",
      "4586.67458984 [ 26.67244819  48.43420916  60.80852987]\n",
      "4982.74072266 [ 38.77565935  56.01789788  67.0060413 ]\n",
      "5378.80685547 [ 17.771456    47.91329694  62.69080593  72.67696909]\n",
      "5774.87298828 [ 33.28598675  55.56812296  68.71877046  77.93634647]\n",
      "6170.93912109 [ 43.59001238  62.28923306  74.2590175   82.86257519]\n",
      "6567.00525391 [ 17.64301938  51.88662106  68.35262117  79.41368865  87.51193423]\n",
      "6963.07138672 [ 33.2175917   59.02841444  73.92031579  84.25358278  91.92644287]\n",
      "7359.13751953 [ 43.5378073   65.39484671  79.09706285  88.83016648  96.1384583 ]\n",
      "7755.20365234 [  51.84277124   71.19422899   83.95521197   93.18224478  100.17352659]\n",
      "8151.26978516 [  25.9401452    58.98987367   76.55553871   88.54721838   97.33993532\n",
      "  104.05223542]\n",
      "8547.33591797 [  38.27562408   65.36006014   81.56520565   92.91255108  101.32716947\n",
      "  107.79146516]\n",
      "8943.40205078 [  47.50953235   71.16227741   86.28450057   97.08179239  105.16333743\n",
      "  111.40526122]\n",
      "9339.46818359 [  55.22035793   76.52582566   90.75873129  101.07920993  108.86441018\n",
      "  114.90545893]\n",
      "9735.53431641 [  24.97033944   61.97919163   81.53731819   95.02252138  104.92444398\n",
      "  112.44372846  118.30214181]\n",
      "10131.6004492 [  37.62512614   68.07020245   86.25813888   99.10303646  108.63365598\n",
      "  115.91257195  121.60398441]\n",
      "10527.666582 [  46.98704484   73.65924739   90.73366954  103.02205638  112.22033451\n",
      "  119.28057931  124.81851341]\n",
      "10923.7327148 [  54.7714766    78.85313559   94.99858449  106.79736124  115.69587608\n",
      "  122.55606418  127.95230969]\n",
      "11319.7988477 [   9.02167745   61.5795982    83.72543973   99.08008539  110.44368987\n",
      "  119.07001305  125.74625693  131.01116678]\n",
      "11715.8649805 [  29.55542132   67.70656674   88.32939218  102.99997857  113.97342189\n",
      "  122.35113515  128.8574926   134.00021674]\n",
      "12111.9311133 [  40.81243922   73.32333493   92.70498255  106.77606404  117.39707477\n",
      "  125.54653535  131.89535877  136.92403132]\n",
      "12507.9972461 [  49.57607751   78.53944048   96.88315671  110.42309594  120.72367386\n",
      "  128.66260064  134.86481353  139.78670401]\n",
      "12904.0633789 [  57.00806721   83.43006638  100.88844493  113.95346587  123.96103297\n",
      "  131.70496221  137.77028052  142.59191731]\n",
      "13300.1295117 [  63.57713419   88.04946475  104.74068257  117.37770081  127.11597052\n",
      "  134.67861499  140.61572622  145.34299828]\n",
      "13696.1956445 [  26.83879611   69.52829825   92.4383065   108.45617941  120.70483385\n",
      "  130.19447848  137.58801402  143.40472352  148.04296476]\n",
      "14092.2617773 [  38.89027182   75.00877631   96.62801236  112.04853911  123.94268506\n",
      "  133.20185619  140.43715273  146.14050428  150.6945642 ]\n",
      "14488.3279102 [  48.00609865   80.11522196  100.64345502  115.52924904  127.09807806\n",
      "  136.1428175   143.22962729  148.8260033   153.30030641]\n",
      "14884.394043 [  55.64816056   84.91514031  104.50472384  118.90811431  130.17700915\n",
      "  139.02157755  145.96868979  151.46389512  155.86249135]\n",
      "15280.4601758 [  62.36064495   89.45788574  108.22832148  122.19358377  133.18478132\n",
      "  141.84192359  148.65729267  154.05662527  158.38323294]\n",
      "15676.5263086 [  12.61160645   68.41770461   93.78083805  111.82800113  125.39299893\n",
      "  136.12611154  144.60727352  151.298126    156.60643682  160.86447943]\n",
      "16072.5924414 [  30.84128536   73.98050128   97.91311379  115.31536802  128.51278709\n",
      "  139.00521756  147.32072434  153.89364898  159.1153931   163.30803106]\n",
      "16468.6585742 [  41.75304957   79.15331222  101.87791771  118.70032168  131.55861321\n",
      "  141.82588894  149.98509288  156.4461168   161.58539719  165.71555532]\n",
      "16864.724707 [  50.35324631   84.00820854  105.69409815  121.99138754  134.5355008\n",
      "  144.59154553  152.60295001  158.95760355  164.0182089   168.08860027]\n",
      "17260.7908398 [  57.68519463   88.59746818  109.37721266  125.19596998  137.4479292\n",
      "  147.30528607  155.17664972  161.43002197  166.41545937  170.42860618]\n",
      "17656.8569727 [  64.18499782   92.96044123  112.9402803   128.32054849  140.29991271\n",
      "  149.96992889  157.70835388  163.86514046  168.77866389  172.73691577]\n",
      "18052.9231055 [   9.95097946   70.08456471   97.12762685  116.39432623  131.37083173\n",
      "  143.09506551  152.58804618  160.20005352  166.26459793  171.10923309\n",
      "  175.01478319]\n",
      "18448.9892383 [  29.85220692   75.52468786  101.12323256  119.74878473  134.35188013\n",
      "  145.83665533  155.1619931   162.65358715  168.62991665  173.40848282\n",
      "  177.26338201]\n",
      "18845.0553711 [  41.02787496   80.59845372  104.96685396  123.01180314  137.26820448\n",
      "  148.52764828  157.69393256  165.07065663  170.96251359  175.6776428\n",
      "  179.48381227]\n",
      "19241.1215039 [  49.75358067   85.37120714  108.67461845  126.19047498  140.12384603\n",
      "  151.17074641  160.18585653  167.45284096  173.26371034  177.91786432\n",
      "  181.67710679]\n",
      "19637.1876367 [  57.16249692   89.89090762  112.25998825  129.29102151  142.92244223\n",
      "  153.7684195   162.63960434  169.80160839  175.53474182  180.13022709\n",
      "  183.84423678]\n",
      "20033.2537695 [  63.71564424   94.19398887  115.73433901  132.3189348   145.66728101\n",
      "  156.3229321   165.05687857  172.11832696  177.77676409  182.31574528\n",
      "  185.98611686]\n",
      "20429.3199023 [  69.65497531   98.30889993  119.10738639  135.27909215  148.36134612\n",
      "  158.83636664  167.43925893  174.40427386  179.9908612   184.475373\n",
      "  188.10360956]\n",
      "20825.3860352 [  24.85564967   75.12621281  102.25835942  122.38750654  138.17584825\n",
      "  151.00735508  161.31064327  169.78821424  176.66064363  182.17805132\n",
      "  186.61000913  190.19752941]\n",
      "21221.452168 [  37.54910899   80.22518381  106.06085204  125.58198128  141.0131104\n",
      "  153.60779132  163.74753708  172.10511312  178.88855546  184.3392922\n",
      "  188.72050173  192.26864659]\n",
      "21617.5183008 [  46.92619579   85.01889427  109.73165724  128.69718835  143.79440034\n",
      "  156.16493147  166.14869294  174.39123323  181.08905969  186.47548609\n",
      "  190.80765194  194.3176902 ]\n",
      "22013.5844336 [  54.71928469   89.55637693  113.28357722  131.73875115  146.5229055\n",
      "  158.68086868  168.51563853  176.64776956  183.26314361  188.58748415\n",
      "  192.87221756  196.34535134]\n",
      "22409.6505664 [  61.53318115   93.87479382  116.7274652   134.71165807  149.20152178\n",
      "  161.15753272  170.84979571  178.87584174  185.4117366   190.67609039\n",
      "  194.91491623  198.35228574]\n",
      "22805.7166992 [  67.66435286   98.00310801  120.07261719  137.62035854  151.83288961\n",
      "  163.59670723  173.15249048  181.07650047  187.53571483  192.74206523\n",
      "  196.93642841  200.33911631]\n",
      "23201.782832 [  19.47612822   73.28435654  101.96441264  123.32706785  140.46884121\n",
      "  154.4194244   166.00004483  175.42496181  183.25073339  189.63590536\n",
      "  194.78612881  198.93739996  202.30643536]\n",
      "23597.8489648 [  34.22647858   78.50305204  105.77747261  126.49781789  143.26069809\n",
      "  156.96334253  168.36908014  177.66836942  185.39947021  191.71308997\n",
      "  196.80896383  200.91844457  204.25480669]\n",
      "23993.9150977 [  44.31234706   83.39581192  109.45778171  129.59101124  145.99917768\n",
      "  159.46668356  170.70524132  179.88380071  187.52358737  193.76800854\n",
      "  198.81121826  202.88014598  206.18476743]\n",
      "24389.9812305 [  52.49491754   88.01700808  113.01830932  132.61207509  148.68722927\n",
      "  161.93132936  173.00986006  182.07227692  189.62391222  195.8013621\n",
      "  200.7935078   204.82305998  208.09682983]\n",
      "24786.0473633 [  59.56381983   92.40739135  116.47004125  135.56583171  151.32754017\n",
      "  164.35902073  175.28418053  184.23475863  191.70122679  197.81381566\n",
      "  202.756418    206.74771622  209.99148281]\n",
      "25182.1134961 [  65.87853139   96.59843809  119.8223801   138.45658884  153.92256716\n",
      "  166.75137169  177.52936718  186.3721507   193.75627117  199.80600073\n",
      "  204.70050636  208.65461996  211.86919341]\n",
      "25578.1796289 [  12.46995921   71.63876858  100.61506104  123.08344746  141.28821344\n",
      "  156.47456325  169.10988211  179.74651172  188.48530664  195.78974662\n",
      "  201.77851768  206.62630416  210.54425353  213.73040818]\n",
      "25974.2457617 [  30.78363443   76.96911997  104.47737924  126.26031564  144.06419237\n",
      "  158.98560064  171.43594866  181.93663936  190.57503269  197.80231836\n",
      "  203.73193775  208.53431813  212.41707785  215.57555439]\n",
      "26370.3118945 [  41.71048326   81.95350935  108.20191791  129.35918819  146.78768269\n",
      "  161.45759033  173.73087451  184.10071431  192.64209133  199.79461808\n",
      "  205.66680512  210.42503202  214.27353366  217.40504114]\n",
      "26766.3780273 [  50.31795584   86.65165873  111.80244767  132.3855424   149.46155377\n",
      "  163.89229922  175.99587786  186.23964474  194.68720455  201.7672463\n",
      "  207.58363855  212.29890807  216.11404279  219.21926051]\n",
      "27162.4441602 [  57.65439225   91.1078604   115.29058752  135.34424296  152.0884227\n",
      "  166.2913648   178.23209949  188.35428729  196.71105684  203.72077446\n",
      "  209.48293309  214.15638826  217.93900926  221.01858846]\n",
      "27558.510293 [  64.15731611   95.35604067  118.67624799  138.23963385  154.67068431\n",
      "  168.65630813  180.44060949  190.44545099  198.7142978   205.65574685\n",
      "  211.36516157  215.99789559  219.7488203   222.80338577]\n",
      "27954.5764258 [  14.54607846   70.05921407   99.42286838  121.96796342  141.07561318\n",
      "  157.21053671  170.98854505  182.62241325  192.51390098  200.69754461\n",
      "  207.57268239  213.2307759   217.82383516  221.54384733  224.57399889]\n",
      "28350.6425586 [  31.68155085   75.50116385  103.32975865  125.17314555  143.8556947\n",
      "  159.71000318  173.28939611  184.77845677  194.56036168  202.66138428\n",
      "  209.47207628  215.08020842  219.63459525  223.32444684  226.33076071]\n",
      "28746.7086914 [  42.377505     80.57641099  107.09421688  128.29827993  146.58305893\n",
      "  162.17095111  175.56009532  186.90963151  196.58551982  204.60637562\n",
      "  211.35440144  216.91387305  221.43054824  225.09096121  228.0739913 ]\n",
      "29142.7748242 [  50.87224386   85.35039703  110.73077059  131.34908031  149.2605957\n",
      "  164.59510822  177.8017979   189.01677867  198.59002711  206.53305113\n",
      "  213.22010992  218.73216633  223.21205156  226.84371952  229.8039986 ]\n",
      "29538.840957 [  58.1387776    89.87114408  114.25163378  134.33061142  151.89094014\n",
      "  166.98407683  180.01558711  191.10069305  200.5745027   208.44191871\n",
      "  215.06963416  220.53546847  224.97944845  228.5830382   231.52107904]\n",
      "29934.9070898 [  64.59295416   94.17512838  117.66719205  137.2473877   154.47650294\n",
      "  169.33934622  182.20248041  193.16212659  202.5395354   210.3334632\n",
      "  216.90338818  222.32414425  226.73306881  230.30922174  233.22551813]\n",
      "30330.9732227 [  26.4490068    70.45837063   98.29082902  120.98636432  140.10345355\n",
      "  157.01949633  171.66230351  184.36343491  195.20179152  204.48568572\n",
      "  212.20814784  218.72176862  224.09854391  228.47322985  232.02256331\n",
      "  234.91759102]\n",
      "30727.0393555 [  38.62230219   75.87169603  102.24098658  124.21687734  142.90244911\n",
      "  159.52195614  173.95424315  186.49935227  197.22036325  206.41348776\n",
      "  214.06641557  220.52515579  225.85900391  230.2002368   233.72334532\n",
      "  236.59756304]\n",
      "31123.1054883 [  47.78927173   80.92370804  106.04410215  127.36547759  145.64766468\n",
      "  161.98576097  176.21637545  188.61108309  199.21848294  208.3234509\n",
      "  215.90869028  222.31391455  227.60584771  231.91438353  235.41184\n",
      "  238.26569015]\n",
      "31519.1716211 [  55.4612185    85.67834492  109.71546777  130.438097    148.34208605\n",
      "  164.41264861  178.44983397  190.69943086  201.19675994  210.21606138\n",
      "  217.73537794  224.08839521  229.33938646  233.61595313  237.08830988\n",
      "  239.92221941]\n",
      "31915.2377539 [  62.19388252   90.18265385  113.26789542  133.43998432  150.98843253\n",
      "  166.80423043  180.65568219  192.76515555  203.15577392  212.09178373\n",
      "  219.54686759  225.84893432  231.0599196   235.30521843  238.75300824\n",
      "  241.56738942]\n",
      "32311.3038867 [  26.4955841    68.26574023   94.47244741  116.71224614  136.37581046\n",
      "  153.58918915  169.16200387  182.83491946  194.80897685  205.09607686\n",
      "  213.95106214  221.3435324   227.59585541  232.76773555  236.98244257\n",
      "  240.40617964  243.20143071]\n",
      "32707.3700195 [  38.65421377   73.83998615   98.57573528  120.05782217  139.24975384\n",
      "  156.14663393  171.48736344  184.98848623  196.83157706  207.01819487\n",
      "  215.79432165  223.12573048  229.32946968  234.46311219  238.64787942\n",
      "  242.04806026  244.8245661 ]\n",
      "33103.4361523 [  47.8150657    79.0219958   102.51491526  123.3126633   142.06557011\n",
      "  158.6628613   173.78161032  187.11726886  198.83360378  208.92262987\n",
      "  217.6219693   224.89380576  231.05007667  236.14631744  240.30177406\n",
      "  243.67887833  246.43701108]\n",
      "33499.5022852 [  55.48344594   83.88449252  106.30823165  126.48377443  144.82664975\n",
      "  161.1398021   176.04596091  189.22210381  200.81567234  210.8098611\n",
      "  219.43439518  226.64808875  232.75796484  237.81760975  241.9443632\n",
      "  245.29885448  248.03897415]\n",
      "33895.568418 [  21.34210554   62.21370459   88.48016926  109.97077968  129.57730303\n",
      "  147.5360659   163.579241    178.28155434  191.30378155  202.77836799\n",
      "  212.68034654  221.2319734   228.38889727  234.45341213  239.47723853\n",
      "  243.57587555  246.90820212  249.63065709]\n",
      "34291.6345508 [  35.32163267   68.28379972   92.84865436  113.5152177   132.5986792\n",
      "  150.1966145   165.9828315   180.4894592   193.36304999  204.72224791\n",
      "  214.53452419  223.01506299  230.11653714  236.13668653  241.12544461\n",
      "  245.19653222  248.50712774  251.21225533]\n",
      "34687.7006836 [  45.16359153   73.85668264   97.02064153  116.95228477  135.55272772\n",
      "  152.81084802  168.35210904  182.6706795   195.40061762  206.64784309\n",
      "  216.3728133   224.78400874  231.83130274  237.80804653  242.76246066\n",
      "  246.80654708  250.09583124  252.78395814]\n",
      "35083.7668164 [  53.21543259   79.03759761  101.02047886  120.29118496  138.44375846\n",
      "  155.38110419  170.68850249  184.82615998  197.41715638  208.55566001\n",
      "  218.19561545  226.53914199  233.53347768  239.46774158  244.38851154\n",
      "  248.40612703  251.6745062   254.34594897]\n",
      "35479.8329492 [  26.47732447   60.19978847   83.89919011  104.86786645  123.53987796\n",
      "  141.27564023  157.90953044  172.99334423  186.95679094  199.41330422\n",
      "  210.44618216  220.00331558  228.28078131  235.22333528  241.11601258\n",
      "  246.00381468  249.99547238  253.24334016  255.89840567]\n",
      "35875.899082 [  38.64169997   66.45409541   88.49410357  108.57901123  126.70530262\n",
      "  144.05186146  160.39810495  175.26787901  189.0634125   201.38966747\n",
      "  212.31987154  221.79628296  230.00923326  236.90113914  242.75309223\n",
      "  247.60858043  251.57477711  254.8025149   257.44150071]\n",
      "36271.9652148 [  47.80494998   72.16840765   92.86193317  112.1674371   129.79355137\n",
      "  146.77558058  162.84865469  177.51327184  191.14681847  203.34682301\n",
      "  214.17716993  223.57487202  231.72479291  238.56714357  244.37920545\n",
      "  249.20301236  253.14422913  256.35220668  258.97540145]\n",
      "36668.0313477 [  25.66639568   55.47472855   77.46232199   97.03334941  115.64456845\n",
      "  132.81000806  149.44966818  165.26287121  179.73061494  193.20775988\n",
      "  205.28532021  216.01850009  225.33942324  233.42774453  240.22159407\n",
      "  245.9945697   250.78730756  254.70401058  257.89258642  260.50027029]\n",
      "37064.0974805 [  38.09063051   62.20593037   82.41688901  101.03268364  119.02015996\n",
      "  135.75945826  152.07674242  167.64232421  181.92093395  195.2469481\n",
      "  207.20568274  217.84426696  227.09026384  235.11836206  241.86472774\n",
      "  247.59939537  252.36165695  256.25429806  259.42382003  262.01626493]\n",
      "37460.1636133 [  14.41602773   47.36062076   68.27671667   87.09004455  104.87962352\n",
      "  122.30261952  138.64617836  154.65919905  169.98847353  184.08519353\n",
      "  197.26505775  209.10841022  219.65485862  228.82770854  236.7969097\n",
      "  243.49677367  249.19388606  253.92624552  257.79526283  260.9460685\n",
      "  263.52353852]\n",
      "37856.2297461 [  31.62205118   55.09229224   73.85013409   91.5249044   108.59036649\n",
      "  125.49925501  141.47400835  157.19923701  172.3026796   186.22430223\n",
      "  199.26272926  210.99397975  221.45064728  230.5520602   238.46364233\n",
      "  245.11795335  250.77823892  255.4812526   259.3270711   262.45948817\n",
      "  265.02223985]\n",
      "38252.2958789 [  17.46405935   42.33304131   61.86511884   79.03147835   95.75458418\n",
      "  112.17842912  128.61646579  144.24641176  159.69888034  174.5862127\n",
      "  188.33911704  201.2405713   212.86284729  223.23199019  232.26361042\n",
      "  240.11880596  246.72848097  252.35264489  257.02685209  260.84988417\n",
      "  263.9642309   266.51251356]\n",
      "38648.3620117 [   3.30100452   33.12288687   50.83521075   67.96635341   83.89342546\n",
      "   99.80517349  115.65523     131.65989343  146.96652534  162.15999707\n",
      "  176.84026105  190.43044734  203.1991629   214.71544896  224.99923047\n",
      "  233.96264016  241.76263823  248.32856377  253.91728899  258.5632127\n",
      "  262.36385867  265.46044425  267.99450022]\n",
      "39044.4281445 [   8.63155548   28.33776449   43.46559444   58.10637588   73.56328881\n",
      "   88.48863826  103.69766112  119.03051916  134.63454165  149.63720071\n",
      "  164.58431552  179.06593812  192.49905854  205.13905545  216.55220223\n",
      "  226.75269784  235.64942024  243.39536871  249.91840239  255.47235059\n",
      "  260.09049815  263.86914674  266.94827163  269.46833657]\n"
     ]
    },
    {
     "name": "stderr",
     "output_type": "stream",
     "text": [
      "/home/xzk/.local/lib/python3.5/site-packages/ipykernel_launcher.py:24: DeprecationWarning: object of type <class 'numpy.float64'> cannot be safely interpreted as an integer.\n"
     ]
    }
   ],
   "source": [
    "dnu2_dpsi2_c, dpsi_c, psi_c, eps_bins_c, df_c = chervin_original(rr, Ek, Ep, Mw_ids, MW_m[0], 0.1, 100, 1, 10)"
   ]
  },
  {
   "cell_type": "code",
   "execution_count": 8,
   "metadata": {},
   "outputs": [
    {
     "data": {
      "text/plain": [
       "<matplotlib.legend.Legend at 0x7f88eb9820f0>"
      ]
     },
     "execution_count": 8,
     "metadata": {},
     "output_type": "execute_result"
    },
    {
     "data": {
      "image/png": "[encoded data removed]",
      "text/plain": [
       "<matplotlib.figure.Figure at 0x7f88ebe2f7b8>"
      ]
     },
     "metadata": {},
     "output_type": "display_data"
    }
   ],
   "source": [
    "figure(figsize=(15, 7))\n",
    "\n",
    "subplot(2, 3, 1)\n",
    "plot(psi, dnu2_dpsi2, c='k', lw=2.5, label=r'$\\frac{d \\nu^2}{d \\psi^2} $')\n",
    "#plot(dnu2_dpsi2_c, c='r', lw=2.5, label=r'$\\frac{d \\nu^2}{d \\psi^2} $')\n",
    "\n",
    "legend(fontsize=25)\n",
    "\n",
    "subplot(2, 3, 2)\n",
    "plot( dpsi, c='k', lw=2.5, label=r'$d \\psi$')\n",
    "plot( dpsi_c, c='r', lw=2.5, label=r'$d \\psi$')\n",
    "legend(fontsize=25)\n",
    "\n",
    "subplot(2, 3, 3)\n",
    "plot( psi, c='k', lw=2.5, label=r'$\\psi$')\n",
    "#plot(eps_bins, psi_c, c='r', lw=2.5, label=r'$\\psi$')\n",
    "legend(fontsize=25)\n",
    "\n",
    "subplot(2, 3, 4)\n",
    "plot(eps_bins, c='k', lw=2.5, label='$E_{bins}$')\n",
    "#plot(eps_bins_c, c='r', lw=2.5, label='$E_{bins}$')\n",
    "legend(fontsize=25)\n",
    "\n",
    "subplot(2, 3, 5)\n",
    "semilogy( np.abs(df), c='k', lw=2.5, label='$df$')\n",
    "semilogy( np.abs(df_c), c='r', lw=2.5, label='$df$', alpha=0.5)\n",
    "legend(fontsize=25)\n"
   ]
  },
  {
   "cell_type": "code",
   "execution_count": 183,
   "metadata": {
    "collapsed": true
   },
   "outputs": [],
   "source": [
    "def potential_binning(pot, r, r_bins):\n",
    "    pot_r = np.zeros(len(r_bins))\n",
    "    for i in range(len(r_bins)-1):\n",
    "        w = np.where((r<=r_bins[i+1])  & (r>r_bins[i]))[0]\n",
    "        pot_r[i] = np.sum(pot[w])\n",
    "    return pot_r"
   ]
  },
  {
   "cell_type": "code",
   "execution_count": 292,
   "metadata": {},
   "outputs": [],
   "source": [
    "def eddington(psi, r, Ep, e, m, bb):\n",
    "    \"\"\"\n",
    "    \n",
    "    \"\"\"\n",
    "    G = 43007.1\n",
    "    Ep=Ep-G*m*np.size(r)/np.max(r) #correction term     \n",
    "    shift_energy = -np.min(Ep)\n",
    "    \n",
    "    \n",
    "    rbins = np.arange(1, 50, 1)\n",
    "    pot2 = potential_binning(Ep, r, rbins)\n",
    "    pot2 -=shift_energy\n",
    "    psi2=(-1.0)*pot2\n",
    "    \n",
    "    nu_tracer=(1*bb/(2.0*np.pi*rbins))/(bb+rbins)**3 # HERNQUIST\n",
    "    \n",
    "    dnu_dpsi=np.gradient(nu_tracer, psi2)\n",
    "    dnu2_dpsi2=np.gradient(dnu_dpsi, psi2) \n",
    "    \n",
    "    \n",
    "    index_psi = np.argmin(np.abs(psi-psi2)) # assumption of this method\n",
    "    #print(dnu2_dpsi2[index_psi])\n",
    "    if  (psi>e):\n",
    "        return 0\n",
    "    else:\n",
    "        df = 1/(np.sqrt(e-psi)) * dnu2_dpsi2[index_psi]\n",
    "        #print(df)\n",
    "        return df "
   ]
  },
  {
   "cell_type": "code",
   "execution_count": 293,
   "metadata": {
    "collapsed": true
   },
   "outputs": [],
   "source": [
    "from scipy.integrate import quad"
   ]
  },
  {
   "cell_type": "code",
   "execution_count": 306,
   "metadata": {},
   "outputs": [
    {
     "data": {
      "text/plain": [
       "5.1839787923802995e-21"
      ]
     },
     "execution_count": 306,
     "metadata": {},
     "output_type": "execute_result"
    }
   ],
   "source": [
    "eddington(psi[10], rr, Ep, 40000, MW_m[0], 10)"
   ]
  },
  {
   "cell_type": "code",
   "execution_count": 307,
   "metadata": {},
   "outputs": [],
   "source": [
    "df = []\n",
    "for i in range(-20, 2000, 100):\n",
    "    df.append(quad(eddington, 0, i, args=(rr, Ep, i, MW_m[0], 10))[0])"
   ]
  },
  {
   "cell_type": "code",
   "execution_count": 309,
   "metadata": {},
   "outputs": [
    {
     "data": {
      "text/plain": [
       "[<matplotlib.lines.Line2D at 0x7f3f47505940>]"
      ]
     },
     "execution_count": 309,
     "metadata": {},
     "output_type": "execute_result"
    },
    {
     "data": {
      "image/png": "[encoded data removed]",
      "text/plain": [
       "<matplotlib.figure.Figure at 0x7f3f47592b38>"
      ]
     },
     "metadata": {},
     "output_type": "display_data"
    }
   ],
   "source": [
    "plot(np.arange(-20, 2000, 100), df)"
   ]
  },
  {
   "cell_type": "code",
   "execution_count": 300,
   "metadata": {},
   "outputs": [
    {
     "data": {
      "text/plain": [
       "[(4.493769936366856e-19, 1.5311971918791254e-19),\n",
       " (4.516182893041926e-18, 1.5388341329794813e-18),\n",
       " (6.3710184558200165e-18, 2.1708466848769657e-18),\n",
       " (7.796399451374576e-18, 2.6565278409344413e-18),\n",
       " (8.998767284822308e-18, 3.0662199872282913e-18),\n",
       " (1.0058418408844546e-17, 3.4272831587858004e-18),\n",
       " (1.1016612416182088e-17, 3.753776057640531e-18),\n",
       " (1.189788709684925e-17, 4.054059635887684e-18),\n",
       " (1.2718242237446462e-17, 4.333585625293758e-18),\n",
       " (1.3488797346367162e-17, 4.596142862463175e-18),\n",
       " (1.4217651778418133e-17, 4.8444911035721495e-18),\n",
       " (1.4910921847201493e-17, 5.0807144077391466e-18),\n",
       " (1.5573360542103465e-17, 5.306432298015926e-18),\n",
       " (1.620874846542261e-17, 5.522932968436707e-18),\n",
       " (1.6820151457592e-17, 5.731261066664438e-18),\n",
       " (1.741009659069498e-17, 5.9322776616306644e-18),\n",
       " (1.7980696080472623e-17, 6.126702465037829e-18),\n",
       " (1.8533736800206213e-17, 6.315144332120932e-18),\n",
       " (1.90707463938964e-17, 6.4981237889053515e-18),\n",
       " (1.9593043057710734e-17, 6.676089994626794e-18)]"
      ]
     },
     "execution_count": 300,
     "metadata": {},
     "output_type": "execute_result"
    }
   ],
   "source": [
    "df"
   ]
  },
  {
   "cell_type": "code",
   "execution_count": null,
   "metadata": {
    "collapsed": true
   },
   "outputs": [],
   "source": [
    "E = eddington(eps_bins, dpsi, dnu2_dpsi2, psi)"
   ]
  },
  {
   "cell_type": "code",
   "execution_count": 112,
   "metadata": {},
   "outputs": [
    {
     "data": {
      "text/plain": [
       "[<matplotlib.lines.Line2D at 0x7f3f4e5aab70>]"
      ]
     },
     "execution_count": 112,
     "metadata": {},
     "output_type": "execute_result"
    },
    {
     "data": {
      "image/png": "[encoded data removed]",
      "text/plain": [
       "<matplotlib.figure.Figure at 0x7f3f4e7520b8>"
      ]
     },
     "metadata": {},
     "output_type": "display_data"
    }
   ],
   "source": [
    "plot(eps_bins,E)"
   ]
  },
  {
   "cell_type": "code",
   "execution_count": 113,
   "metadata": {
    "collapsed": true
   },
   "outputs": [],
   "source": [
    "df = np.zeros(len(E))\n",
    "for i in range(len(E)):\n",
    "    df[i] = np.sum(E[:i])/(np.sqrt(8)*np.pi**2)\n",
    "    "
   ]
  },
  {
   "cell_type": "code",
   "execution_count": 114,
   "metadata": {},
   "outputs": [
    {
     "data": {
      "text/plain": [
       "[<matplotlib.lines.Line2D at 0x7f3f4e56a128>]"
      ]
     },
     "execution_count": 114,
     "metadata": {},
     "output_type": "execute_result"
    },
    {
     "data": {
      "image/png": "[encoded data removed]",
      "text/plain": [
       "<matplotlib.figure.Figure at 0x7f3f4e626320>"
      ]
     },
     "metadata": {},
     "output_type": "display_data"
    }
   ],
   "source": [
    "plot(df)"
   ]
  },
  {
   "cell_type": "code",
   "execution_count": 18,
   "metadata": {
    "collapsed": true
   },
   "outputs": [],
   "source": [
    "from scipy.interpolate import InterpolatedUnivariateSpline"
   ]
  },
  {
   "cell_type": "code",
   "execution_count": 55,
   "metadata": {},
   "outputs": [
    {
     "data": {
      "text/plain": [
       "[<matplotlib.lines.Line2D at 0x7f5b8383b5c0>]"
      ]
     },
     "execution_count": 55,
     "metadata": {},
     "output_type": "execute_result"
    },
    {
     "data": {
      "image/png": "[encoded data removed]",
      "text/plain": [
       "<matplotlib.figure.Figure at 0x7f5b83828358>"
      ]
     },
     "metadata": {},
     "output_type": "display_data"
    }
   ],
   "source": [
    "plot(ew,df_b)"
   ]
  },
  {
   "cell_type": "code",
   "execution_count": 23,
   "metadata": {},
   "outputs": [
    {
     "data": {
      "text/plain": [
       "array([  0.,  nan,  nan,  nan,  nan,  nan,  nan,  nan,  nan,  nan,  nan,\n",
       "        nan,  nan,  nan,  nan,  nan,  nan,  nan,  nan,  nan,  nan,  nan,\n",
       "        nan,  nan,  nan,  nan,  nan,  nan,  nan])"
      ]
     },
     "execution_count": 23,
     "metadata": {},
     "output_type": "execute_result"
    }
   ],
   "source": [
    "df_b"
   ]
  },
  {
   "cell_type": "code",
   "execution_count": 24,
   "metadata": {},
   "outputs": [
    {
     "data": {
      "text/plain": [
       "array([             nan,              nan,              nan,\n",
       "                    nan,              nan,              nan,\n",
       "                    nan,              nan,              nan,\n",
       "                    nan,              nan,              nan,\n",
       "                    nan,              nan,              nan,\n",
       "                    nan,              nan,  -3.26108518e-10,\n",
       "        -1.43241226e-10,  -8.25307654e-11,  -5.43821936e-11,\n",
       "        -3.72468547e-11,  -2.62528904e-11,  -1.83333041e-11,\n",
       "        -1.27059461e-11,  -8.43974477e-12,  -5.52958758e-12,\n",
       "        -2.78420281e-12,  -1.42751616e-12])"
      ]
     },
     "execution_count": 24,
     "metadata": {},
     "output_type": "execute_result"
    }
   ],
   "source": [
    "E"
   ]
  },
  {
   "cell_type": "code",
   "execution_count": 51,
   "metadata": {
    "collapsed": true
   },
   "outputs": [],
   "source": [
    "x=np.linspace(0, 100, 100)"
   ]
  },
  {
   "cell_type": "code",
   "execution_count": 58,
   "metadata": {},
   "outputs": [
    {
     "ename": "TypeError",
     "evalue": "only integer scalar arrays can be converted to a scalar index",
     "output_type": "error",
     "traceback": [
      "\u001b[0;31m---------------------------------------------------------------------------\u001b[0m",
      "\u001b[0;31mTypeError\u001b[0m                                 Traceback (most recent call last)",
      "\u001b[0;32m<ipython-input-58-cdb1334b6eee>\u001b[0m in \u001b[0;36m<module>\u001b[0;34m()\u001b[0m\n\u001b[0;32m----> 1\u001b[0;31m \u001b[0mx\u001b[0m\u001b[0;34m[\u001b[0m\u001b[0mnp\u001b[0m\u001b[0;34m.\u001b[0m\u001b[0marray\u001b[0m\u001b[0;34m(\u001b[0m\u001b[0;34m[\u001b[0m\u001b[0;36m1\u001b[0m\u001b[0;34m,\u001b[0m \u001b[0;36m2\u001b[0m\u001b[0;34m,\u001b[0m \u001b[0;36m3\u001b[0m\u001b[0;34m,\u001b[0m \u001b[0;36m4\u001b[0m\u001b[0;34m,\u001b[0m\u001b[0;34m]\u001b[0m\u001b[0;34m)\u001b[0m\u001b[0;34m:\u001b[0m\u001b[0;34m:\u001b[0m\u001b[0;34m]\u001b[0m\u001b[0;34m\u001b[0m\u001b[0m\n\u001b[0m",
      "\u001b[0;31mTypeError\u001b[0m: only integer scalar arrays can be converted to a scalar index"
     ]
    }
   ],
   "source": [
    "x[np.array([1, 2, 3, 4,])::]"
   ]
  },
  {
   "cell_type": "code",
   "execution_count": null,
   "metadata": {
    "collapsed": true
   },
   "outputs": [],
   "source": []
  }
 ],
 "metadata": {
  "kernelspec": {
   "display_name": "Python 3",
   "language": "python",
   "name": "python3"
  },
  "language_info": {
   "codemirror_mode": {
    "name": "ipython",
    "version": 3
   },
   "file_extension": ".py",
   "mimetype": "text/x-python",
   "name": "python",
   "nbconvert_exporter": "python",
   "pygments_lexer": "ipython3",
   "version": "3.5.2"
  }
 },
 "nbformat": 4,
 "nbformat_minor": 2
}
